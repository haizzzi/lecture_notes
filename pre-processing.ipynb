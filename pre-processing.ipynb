{
  "nbformat": 4,
  "nbformat_minor": 0,
  "metadata": {
    "colab": {
      "provenance": [],
      "mount_file_id": "https://github.com/haizzzi/simple-nmt-simplied/blob/main/pre-processing.ipynb",
      "authorship_tag": "ABX9TyNYiGMJfFUg20rKBgPBlqCx",
      "include_colab_link": true
    },
    "kernelspec": {
      "name": "python3",
      "display_name": "Python 3"
    },
    "language_info": {
      "name": "python"
    }
  },
  "cells": [
    {
      "cell_type": "markdown",
      "metadata": {
        "id": "view-in-github",
        "colab_type": "text"
      },
      "source": [
        "<a href=\"https://colab.research.google.com/github/haizzzi/simple-nmt-simplied/blob/main/pre-processing.ipynb\" target=\"_parent\"><img src=\"https://colab.research.google.com/assets/colab-badge.svg\" alt=\"Open In Colab\"/></a>"
      ]
    },
    {
      "cell_type": "markdown",
      "source": [
        "제일먼저 구글드라이버에 nmt-fold에 code1과 data1이 설치되도록 자신의 구글드라이버에 제공되는 zip 파일을 압축 해제해서 upload 하세요. 그리고 좌측 mount 버튼을 누르세요. 그러면 구글 드라이브 마운트 위치 \"/content/drive/MyDrive/\"에 마운트가 되어서 /content/drive/MyDrive/nmt_fold/data1/ 형태로 접근이 됩니다."
      ],
      "metadata": {
        "id": "X_9nHG9Z48FL"
      }
    },
    {
      "cell_type": "markdown",
      "source": [],
      "metadata": {
        "id": "2j1UGmNdXlUK"
      }
    },
    {
      "cell_type": "code",
      "source": [
        "!cat /content/drive/MyDrive/nmt_fold/data1/org.*.txt > /content/drive/MyDrive/nmt_fold/data1/combined.tsv"
      ],
      "metadata": {
        "id": "ater08dCCqM8"
      },
      "execution_count": null,
      "outputs": []
    },
    {
      "cell_type": "markdown",
      "source": [
        "인코딩을 UTF_16LE에서 UTF-8로 변경"
      ],
      "metadata": {
        "id": "DRxrR4oHQ2ej"
      }
    },
    {
      "cell_type": "code",
      "source": [
        "!iconv -f UTF-16LE -t UTF-8 /content/drive/MyDrive/nmt_fold/data1/combined.tsv > /content/drive/MyDrive/nmt_fold/data1/combined_utf8.tsv\n",
        "!mv /content/drive/MyDrive/nmt_fold/data1/combined_utf8.tsv /content/drive/MyDrive/nmt_fold/data1/combined.tsv"
      ],
      "metadata": {
        "id": "q4Vfpy6uE6X8"
      },
      "execution_count": null,
      "outputs": []
    },
    {
      "cell_type": "code",
      "metadata": {
        "id": "56310681"
      },
      "source": [
        "!head -n 5 /content/drive/MyDrive/nmt_fold/data1/combined*.tsv\n",
        "!wc -l /content/drive/MyDrive/nmt_fold/data1/combined*.tsv"
      ],
      "execution_count": null,
      "outputs": []
    },
    {
      "cell_type": "code",
      "source": [
        "!ls -l /content/drive/MyDrive/nmt_fold/data1/"
      ],
      "metadata": {
        "id": "WWjca6lmIm_c"
      },
      "execution_count": null,
      "outputs": []
    },
    {
      "cell_type": "markdown",
      "source": [
        "160만 문장을 섞는다."
      ],
      "metadata": {
        "id": "1u1JJNfzQ-Wj"
      }
    },
    {
      "cell_type": "code",
      "source": [
        "!shuf /content/drive/MyDrive/nmt_fold/data1/combined.tsv > /content/drive/MyDrive/nmt_fold/data1/combined.shuf.tsv"
      ],
      "metadata": {
        "id": "lpkv7hhTKBQB"
      },
      "execution_count": null,
      "outputs": []
    },
    {
      "cell_type": "markdown",
      "source": [
        "120만개 train,20만개 valid, 202418개 test 나누기"
      ],
      "metadata": {
        "id": "9dn1ywWuRCeB"
      }
    },
    {
      "cell_type": "code",
      "source": [
        "!head -n 1200000 /content/drive/MyDrive/nmt_fold/data1/combined.shuf.tsv >/content/drive/MyDrive/nmt_fold/data1/combined.shuf.train.tsv\n",
        "!tail -n 402418 /content/drive/MyDrive/nmt_fold/data1/combined.shuf.tsv | head -n 200000 > /content/drive/MyDrive/nmt_fold/data1/combined.shuf.valid.tsv\n",
        "!tail -n 202418 /content/drive/MyDrive/nmt_fold/data1/combined.shuf.tsv > /content/drive/MyDrive/nmt_fold/data1/combined.shuf.test.tsv"
      ],
      "metadata": {
        "id": "EAOVbxBwKtzX"
      },
      "execution_count": null,
      "outputs": []
    },
    {
      "cell_type": "markdown",
      "source": [
        "앞의 column은 한글, 뒤의 column은 영어, 구분해서 파일로 저장"
      ],
      "metadata": {
        "id": "B8b5XiBQRXKj"
      }
    },
    {
      "cell_type": "code",
      "source": [
        "!cut -f1 /content/drive/MyDrive/nmt_fold/data1/combined.shuf.train.tsv > /content/drive/MyDrive/nmt_fold/data1/combined.shuf.train.ko\n",
        "!cut -f2 /content/drive/MyDrive/nmt_fold/data1/combined.shuf.train.tsv > /content/drive/MyDrive/nmt_fold/data1/combined.shuf.train.en\n",
        "!cut -f1 /content/drive/MyDrive/nmt_fold/data1/combined.shuf.test.tsv > /content/drive/MyDrive/nmt_fold/data1/combined.shuf.test.ko\n",
        "!cut -f2 /content/drive/MyDrive/nmt_fold/data1/combined.shuf.test.tsv > /content/drive/MyDrive/nmt_fold/data1/combined.shuf.test.en\n",
        "!cut -f1 /content/drive/MyDrive/nmt_fold/data1/combined.shuf.valid.tsv > /content/drive/MyDrive/nmt_fold/data1/combined.shuf.valid.ko\n",
        "!cut -f2 /content/drive/MyDrive/nmt_fold/data1/combined.shuf.valid.tsv > /content/drive/MyDrive/nmt_fold/data1/combined.shuf.valid.en"
      ],
      "metadata": {
        "id": "jqki1ToMNqqi"
      },
      "execution_count": null,
      "outputs": []
    },
    {
      "cell_type": "code",
      "source": [
        "!wc -l /content/drive/MyDrive/nmt_fold/data1/combined.shuf.*\n",
        "!head -n 3 /content/drive/MyDrive/nmt_fold/data1/combined.shuf.*.ko\n",
        "!head -n 3 /content/drive/MyDrive/nmt_fold/data1/combined.shuf.*.en"
      ],
      "metadata": {
        "id": "iPbjYrr5O3HS"
      },
      "execution_count": null,
      "outputs": []
    },
    {
      "cell_type": "markdown",
      "source": [
        "mecab을 설치한다."
      ],
      "metadata": {
        "id": "d5bUeY40yGwA"
      }
    },
    {
      "cell_type": "code",
      "source": [
        "#!chmod +x /content/drive/MyDrive/nmt_fold/code1/install_mecab_linux.sh\n",
        "#!bash /content/drive/MyDrive/nmt_fold/code1/install_mecab_linux.sh\n",
        "# 위 두줄로 설치하다 오류나서 아래와 같이 설치함.\n",
        "\n",
        "# 1) 필수 도구\n",
        "!apt-get -y update\n",
        "!apt-get -y install curl\n",
        "\n",
        "# 2) konlpy 공식 스크립트로 mecab + mecab-ko-dic 설치\n",
        "!bash <(curl -s https://raw.githubusercontent.com/konlpy/konlpy/master/scripts/mecab.sh)\n",
        "\n",
        "# 3) mecabrc의 dicdir 설정(로그에 나온 경로로 맞추기)\n",
        "!sed -i 's|^dicdir =.*|dicdir = /usr/local/lib/mecab/dic/mecab-ko-dic|' /usr/local/etc/mecabrc\n",
        "\n",
        "# 4) 파이썬 라이브러리\n",
        "!pip install konlpy"
      ],
      "metadata": {
        "collapsed": true,
        "id": "6LFer0v2O8kU"
      },
      "execution_count": null,
      "outputs": []
    },
    {
      "cell_type": "markdown",
      "source": [
        "mecab 설치 확인하기"
      ],
      "metadata": {
        "id": "Ncce1cI6Wc4k"
      }
    },
    {
      "cell_type": "code",
      "source": [
        "!mecab -D | head -n 20"
      ],
      "metadata": {
        "id": "61ZRxMyjV7ep"
      },
      "execution_count": null,
      "outputs": []
    },
    {
      "cell_type": "code",
      "source": [
        "!head -n 5 /content/drive/MyDrive/nmt_fold/data1/combined.shuf.train.ko | mecab -O wakati"
      ],
      "metadata": {
        "id": "gbLea9X1WgDS"
      },
      "execution_count": null,
      "outputs": []
    },
    {
      "cell_type": "markdown",
      "source": [
        "Mecab으로 tokenization하고 post_tokenizer를 가지고 공백에 특수문자를 대체한다. 이는 한글에 대한 tokenization 방법이다."
      ],
      "metadata": {
        "id": "GCWBD2bvyncP"
      }
    },
    {
      "cell_type": "code",
      "source": [
        "!cat /content/drive/MyDrive/nmt_fold/data1/combined.shuf.train.ko | mecab -O wakati -b 99999  | python /content/drive/MyDrive/nmt_fold/code1/post_tokenize.py /content/drive/MyDrive/nmt_fold/data1/combined.shuf.train.ko > /content/drive/MyDrive/nmt_fold/data1/combined.shuf.train.tok.ko\n",
        "!cat /content/drive/MyDrive/nmt_fold/data1/combined.shuf.test.ko | mecab -O wakati -b 99999  | python /content/drive/MyDrive/nmt_fold/code1/post_tokenize.py /content/drive/MyDrive/nmt_fold/data1/combined.shuf.test.ko > /content/drive/MyDrive/nmt_fold/data1/combined.shuf.test.tok.ko\n",
        "!cat /content/drive/MyDrive/nmt_fold/data1/combined.shuf.valid.ko | mecab -O wakati -b 99999  | python /content/drive/MyDrive/nmt_fold/code1/post_tokenize.py /content/drive/MyDrive/nmt_fold/data1/combined.shuf.valid.ko > /content/drive/MyDrive/nmt_fold/data1/combined.shuf.valid.tok.ko\n"
      ],
      "metadata": {
        "id": "mwTI2-NqYoY7"
      },
      "execution_count": null,
      "outputs": []
    },
    {
      "cell_type": "code",
      "source": [
        "!head -n 5 /content/drive/MyDrive/nmt_fold/data1/combined.shuf.train.tok.ko\n",
        "!head -n 5 /content/drive/MyDrive/nmt_fold/data1/combined.shuf.test.tok.ko\n",
        "!head -n 5 /content/drive/MyDrive/nmt_fold/data1/combined.shuf.valid.tok.ko\n"
      ],
      "metadata": {
        "id": "f8Z6D95KaKE0"
      },
      "execution_count": null,
      "outputs": []
    },
    {
      "cell_type": "markdown",
      "source": [
        "한글 tokenization된것 원래대로 5문장에 대해서 되돌려본 코드"
      ],
      "metadata": {
        "id": "G3Se0oPCzOsk"
      }
    },
    {
      "cell_type": "code",
      "source": [
        "!head -n 5 /content/drive/MyDrive/nmt_fold/data1/combined.shuf.train.tok.ko | python /content/drive/MyDrive/nmt_fold/code1/detokenizer.py"
      ],
      "metadata": {
        "id": "Agmfy6qayTIE"
      },
      "execution_count": null,
      "outputs": []
    },
    {
      "cell_type": "markdown",
      "source": [
        " 에러가 나서 아래에 mosestokenizer를 따로 설치함."
      ],
      "metadata": {
        "id": "1MamamBI1Kjk"
      }
    },
    {
      "cell_type": "code",
      "source": [
        "#!pip install mosestokenizer\n",
        "!pip install -q sacremoses"
      ],
      "metadata": {
        "id": "VAJ6oWML1kzE"
      },
      "execution_count": null,
      "outputs": []
    },
    {
      "cell_type": "markdown",
      "source": [
        "영어 tokenizer에서 \"깨지는 문제에 때문에 tokenizer2.py를 사용해 주었음."
      ],
      "metadata": {
        "id": "fcxFkJeY7FiN"
      }
    },
    {
      "cell_type": "code",
      "source": [
        "!cat /content/drive/MyDrive/nmt_fold/data1/combined.shuf.train.en | python /content/drive/MyDrive/nmt_fold/code1/tokenizer2.py | python /content/drive/MyDrive/nmt_fold/code1/post_tokenize.py /content/drive/MyDrive/nmt_fold/data1/combined.shuf.train.en > /content/drive/MyDrive/nmt_fold/data1/combined.shuf.train.tok.en\n",
        "!cat /content/drive/MyDrive/nmt_fold/data1/combined.shuf.test.en | python /content/drive/MyDrive/nmt_fold/code1/tokenizer2.py | python /content/drive/MyDrive/nmt_fold/code1/post_tokenize.py /content/drive/MyDrive/nmt_fold/data1/combined.shuf.test.en> /content/drive/MyDrive/nmt_fold/data1/combined.shuf.test.tok.en\n",
        "!cat /content/drive/MyDrive/nmt_fold/data1/combined.shuf.valid.en | python /content/drive/MyDrive/nmt_fold/code1/tokenizer2.py | python /content/drive/MyDrive/nmt_fold/code1/post_tokenize.py /content/drive/MyDrive/nmt_fold/data1/combined.shuf.valid.en > /content/drive/MyDrive/nmt_fold/data1/combined.shuf.valid.tok.en"
      ],
      "metadata": {
        "id": "o4ArnDptzV1k"
      },
      "execution_count": null,
      "outputs": []
    },
    {
      "cell_type": "code",
      "source": [
        "!head -n 5 /content/drive/MyDrive/nmt_fold/data1/combined.shuf.train.tok.ko\n",
        "#!tail -n 5 /content/drive/MyDrive/nmt_fold/data1/combined.shuf.test.tok.en\n",
        "#!tail -n 5 /content/drive/MyDrive/nmt_fold/data1/combined.shuf.valid.tok.en\n",
        "#!ls /content/drive/MyDrive/nmt_fold/data1/combined.shuf.*.tok.en"
      ],
      "metadata": {
        "id": "jdXHFCgz2zKU"
      },
      "execution_count": null,
      "outputs": []
    },
    {
      "cell_type": "code",
      "source": [
        "!head -n 5 /content/drive/MyDrive/nmt_fold/data1/combined.shuf.test.tok.en | python /content/drive/MyDrive/nmt_fold/code1/detokenizer.py"
      ],
      "metadata": {
        "id": "uGRhWXO-4Gik"
      },
      "execution_count": null,
      "outputs": []
    },
    {
      "cell_type": "code",
      "source": [
        "!wc -l /content/drive/MyDrive/nmt_fold/data1/combined.shuf.*.tok.ko"
      ],
      "metadata": {
        "id": "yVfiad7MP175"
      },
      "execution_count": null,
      "outputs": []
    },
    {
      "cell_type": "markdown",
      "source": [
        "BPE를 적용시키기 위해서 학습하는 과정(아래 코드는 영어, 한글 순대로 배열) => 학습 방식을 김기현 버전에서 변화시킴. _를 별로의 문자로 처리해주는 방향. 왜냐하면 \"_있\" \"있\" 이 제일 많은 결합으로 나오는 오류가 원래 버전에 있었음 이는 _를 처리하는 방식에서 나오는 오류임"
      ],
      "metadata": {
        "id": "-P1_Db8eVlZ3"
      }
    },
    {
      "cell_type": "code",
      "source": [
        "!python /content/drive/MyDrive/nmt_fold/code1/learn_bpe2.py --input /content/drive/MyDrive/nmt_fold/data1/combined.shuf.train.tok.en --output /content/drive/MyDrive/nmt_fold/data1/bpe.en.model --symbols 50000 --verbose\n",
        "#!python /content/drive/MyDrive/nmt_fold/code1/learn_bpe2.py --input /content/drive/MyDrive/nmt_fold/data1/combined.shuf.train.tok.ko --output /content/drive/MyDrive/nmt_fold/data1/bpe.ko.model --symbols 30000 --verbose"
      ],
      "metadata": {
        "collapsed": true,
        "id": "8GHRk737SQYc"
      },
      "execution_count": null,
      "outputs": []
    },
    {
      "cell_type": "code",
      "source": [
        "!head -30 /content/drive/MyDrive/nmt_fold/data1/bpe.en.model\n",
        "#!wc -l /content/drive/MyDrive/nmt_fold/data1/bpe.en.model"
      ],
      "metadata": {
        "id": "btJFD6tUT6nI"
      },
      "execution_count": null,
      "outputs": []
    },
    {
      "cell_type": "markdown",
      "source": [
        "학습한 BPE를 적용시켜 subword segmentation 하는 과정"
      ],
      "metadata": {
        "id": "Vd5YBDtxi-Pq"
      }
    },
    {
      "cell_type": "code",
      "source": [
        "#!cat /content/drive/MyDrive/nmt_fold/data1/combined.shuf.train.tok.ko | python /content/drive/MyDrive/nmt_fold/code1/apply_bpe2.py -c /content/drive/MyDrive/nmt_fold/data1/bpe.ko.model > /content/drive/MyDrive/nmt_fold/data1/combined.shuf.train.tok.bpe.ko\n",
        "#!cat /content/drive/MyDrive/nmt_fold/data1/combined.shuf.test.tok.ko | python /content/drive/MyDrive/nmt_fold/code1/apply_bpe2.py -c /content/drive/MyDrive/nmt_fold/data1/bpe.ko.model > /content/drive/MyDrive/nmt_fold/data1/combined.shuf.test.tok.bpe.ko\n",
        "#!cat /content/drive/MyDrive/nmt_fold/data1/combined.shuf.valid.tok.ko | python /content/drive/MyDrive/nmt_fold/code1/apply_bpe2.py -c /content/drive/MyDrive/nmt_fold/data1/bpe.ko.model > /content/drive/MyDrive/nmt_fold/data1/combined.shuf.valid.tok.bpe.ko\n",
        "!cat /content/drive/MyDrive/nmt_fold/data1/combined.shuf.train.tok.en | python /content/drive/MyDrive/nmt_fold/code1/apply_bpe2.py -c /content/drive/MyDrive/nmt_fold/data1/bpe.en.model > /content/drive/MyDrive/nmt_fold/data1/combined.shuf.train.tok.bpe.en\n",
        "!cat /content/drive/MyDrive/nmt_fold/data1/combined.shuf.test.tok.en | python /content/drive/MyDrive/nmt_fold/code1/apply_bpe2.py -c /content/drive/MyDrive/nmt_fold/data1/bpe.en.model > /content/drive/MyDrive/nmt_fold/data1/combined.shuf.test.tok.bpe.en\n",
        "!cat /content/drive/MyDrive/nmt_fold/data1/combined.shuf.valid.tok.en | python /content/drive/MyDrive/nmt_fold/code1/apply_bpe2.py -c /content/drive/MyDrive/nmt_fold/data1/bpe.en.model > /content/drive/MyDrive/nmt_fold/data1/combined.shuf.valid.tok.bpe.en"
      ],
      "metadata": {
        "id": "Ckzm4Qt5VuJP"
      },
      "execution_count": null,
      "outputs": []
    },
    {
      "cell_type": "code",
      "source": [
        "#!head -n 5 /content/drive/MyDrive/nmt_fold/data1/combined.shuf.*.tok.bpe.*\n",
        "!wc -l /content/drive/MyDrive/nmt_fold/data1/combined.shuf.*.tok.bpe.*"
      ],
      "metadata": {
        "id": "Y9KN6CvBf1rR"
      },
      "execution_count": null,
      "outputs": []
    }
  ]
}