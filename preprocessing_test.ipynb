{
  "nbformat": 4,
  "nbformat_minor": 0,
  "metadata": {
    "colab": {
      "provenance": [],
      "mount_file_id": "1GVi7D6WPCelHrrH1RAIUbD44C_UBfZNc",
      "authorship_tag": "ABX9TyOJ+Ifib7MMT6h2M/bQHusI",
      "include_colab_link": true
    },
    "kernelspec": {
      "name": "python3",
      "display_name": "Python 3"
    },
    "language_info": {
      "name": "python"
    }
  },
  "cells": [
    {
      "cell_type": "markdown",
      "metadata": {
        "id": "view-in-github",
        "colab_type": "text"
      },
      "source": [
        "<a href=\"https://colab.research.google.com/github/haizzzi/lecture_notes/blob/main/preprocessing_test.ipynb\" target=\"_parent\"><img src=\"https://colab.research.google.com/assets/colab-badge.svg\" alt=\"Open In Colab\"/></a>"
      ]
    },
    {
      "cell_type": "markdown",
      "source": [
        "regex에 관련된 실습"
      ],
      "metadata": {
        "id": "LbQ-c8MyrjIM"
      }
    },
    {
      "cell_type": "code",
      "execution_count": 3,
      "metadata": {
        "colab": {
          "base_uri": "https://localhost:8080/"
        },
        "id": "adcBz3myqDsw",
        "outputId": "72b2d191-0ed7-421b-f5e1-de1eb491b2d9"
      },
      "outputs": [
        {
          "output_type": "stream",
          "name": "stdout",
          "text": [
            "negative\t!\n",
            "negative\t! 다녹아서 왓어요 .. 짜증\n",
            "negative\t!!!!!!!!!!!!!\n",
            "negative\t!!!!이게뭐야?진짜이게뭐야?리뷰보고구매했는데!나원참!\n",
            "negative\t\"싼 게 비지떡\".200ml라고 판매하는데 내가 보기엔 절대 이거 100ml도 안된다.뚜껑 열다가 손톱 부러지고,향기는 에프킬라..구매후기 잘 안쓰는데 이건 진짜 최악이다.\n"
          ]
        }
      ],
      "source": [
        "!head -n 5 /content/drive/MyDrive/nmt_fold/preproc/regex/review.sorted.uniq.tsv"
      ]
    },
    {
      "cell_type": "code",
      "source": [
        "!python /content/drive/MyDrive/nmt_fold/preproc/regex/refine.py /content/drive/MyDrive/nmt_fold/preproc/regex/refine.regex.txt 1 < /content/drive/MyDrive/nmt_fold/preproc/regex/review.sorted.uniq.tsv > /content/drive/MyDrive/nmt_fold/preproc/regex/review.sorted.uniq.refined.tsv"
      ],
      "metadata": {
        "id": "mubZL0kMq9IQ"
      },
      "execution_count": 4,
      "outputs": []
    },
    {
      "cell_type": "code",
      "source": [
        "!head -n 5 /content/drive/MyDrive/nmt_fold/preproc/regex/review.sorted.uniq.refined.tsv"
      ],
      "metadata": {
        "colab": {
          "base_uri": "https://localhost:8080/"
        },
        "id": "dX6_RhZDr2dL",
        "outputId": "54c0e288-b8ac-45ff-a22b-2fdd2ba3c727"
      },
      "execution_count": 5,
      "outputs": [
        {
          "output_type": "stream",
          "name": "stdout",
          "text": [
            "negative\t!\n",
            "negative\t! 다녹아서 왓어요 .. 짜증\n",
            "negative\t!!!!!!!!!!!!!\n",
            "negative\t!!!!이게뭐야?진짜이게뭐야?리뷰보고구매했는데!나원참!\n",
            "negative\t\"싼 게 비지떡\".200ml라고 판매하는데 내가 보기엔 절대 이거 100ml도 안된다.뚜껑 열다가 손톱 부러지고,향기는 에프킬라..구매후기 잘 안쓰는데 이건 진짜 최악이다.\n"
          ]
        }
      ]
    },
    {
      "cell_type": "markdown",
      "source": [
        "tokenization 실습 mecab 활용"
      ],
      "metadata": {
        "id": "wEMhq1xLsBIb"
      }
    },
    {
      "cell_type": "markdown",
      "source": [
        "mecab 설치"
      ],
      "metadata": {
        "id": "uIB-an8usWbi"
      }
    },
    {
      "cell_type": "code",
      "source": [
        "# 1) 필수 도구\n",
        "!apt-get -y update\n",
        "!apt-get -y install curl\n",
        "\n",
        "# 2) konlpy 공식 스크립트로 mecab + mecab-ko-dic 설치\n",
        "!bash <(curl -s https://raw.githubusercontent.com/konlpy/konlpy/master/scripts/mecab.sh)\n",
        "\n",
        "# 3) mecabrc의 dicdir 설정(로그에 나온 경로로 맞추기)\n",
        "!sed -i 's|^dicdir =.*|dicdir = /usr/local/lib/mecab/dic/mecab-ko-dic|' /usr/local/etc/mecabrc\n",
        "\n",
        "# 4) 파이썬 라이브러리\n",
        "!pip install konlpy"
      ],
      "metadata": {
        "id": "jeP1HVk8sRKy"
      },
      "execution_count": null,
      "outputs": []
    },
    {
      "cell_type": "markdown",
      "source": [
        "tokenize.sh을 직접 실행시킴\n",
        "---------------------------------\n"
      ],
      "metadata": {
        "id": "25x7bbS1tiki"
      }
    },
    {
      "cell_type": "code",
      "source": [
        "#tokenize.sh의 내용\n",
        "#FN=$1\n",
        "#TARGET_FN=$2\n",
        "\n",
        "#cut -f1 ${FN} > ${FN}.label\n",
        "#cut -f2 ${FN} | mecab -O wakati -b 20000 > ${FN}.text.tok\n",
        "\n",
        "#paste ${FN}.label ${FN}.text.tok > ${TARGET_FN}"
      ],
      "metadata": {
        "colab": {
          "base_uri": "https://localhost:8080/",
          "height": 106
        },
        "id": "oVAa5p-6vCWQ",
        "outputId": "5ae5d4df-34fe-40fa-c5f0-95098e0a97a7"
      },
      "execution_count": 10,
      "outputs": [
        {
          "output_type": "error",
          "ename": "SyntaxError",
          "evalue": "invalid syntax (ipython-input-3063421299.py, line 5)",
          "traceback": [
            "\u001b[0;36m  File \u001b[0;32m\"/tmp/ipython-input-3063421299.py\"\u001b[0;36m, line \u001b[0;32m5\u001b[0m\n\u001b[0;31m    cut -f2 ${FN} | mecab -O wakati -b 20000 > ${FN}.text.tok\u001b[0m\n\u001b[0m            ^\u001b[0m\n\u001b[0;31mSyntaxError\u001b[0m\u001b[0;31m:\u001b[0m invalid syntax\n"
          ]
        }
      ]
    },
    {
      "cell_type": "code",
      "source": [
        "!bash /content/drive/MyDrive/nmt_fold/preproc/tokenization/tokenize.sh /content/drive/MyDrive/nmt_fold/preproc/tokenization/review.sorted.uniq.refined.tsv /content/drive/MyDrive/nmt_fold/preproc/tokenization/review.sorted.uniq.refined.tok.tsv"
      ],
      "metadata": {
        "id": "sTTC4gJCslZ6"
      },
      "execution_count": 9,
      "outputs": []
    },
    {
      "cell_type": "code",
      "source": [
        "!head -n 5 /content/drive/MyDrive/nmt_fold/preproc/tokenization/review.sorted.uniq.refined.tok.tsv"
      ],
      "metadata": {
        "colab": {
          "base_uri": "https://localhost:8080/"
        },
        "id": "is4nujN9tDGT",
        "outputId": "f8233b32-c036-47b8-d8ac-74cf54ac8817"
      },
      "execution_count": 11,
      "outputs": [
        {
          "output_type": "stream",
          "name": "stdout",
          "text": [
            "negative\t! \n",
            "negative\t! 다 녹 아서 왓 어요 . . 짜증 \n",
            "negative\t!!!!!!!!!!!!! \n",
            "negative\t!!!! 이게 뭐 야 ? 진짜 이게 뭐 야 ? 리뷰 보고 구매 했 는데 ! 나원참 ! \n",
            "negative\t\" 싼 게 비지떡 \". 200 ml 라고 판매 하 는데 내 가 보 기 엔 절대 이거 100 ml 도 안 된다 . 뚜껑 열 다가 손톱 부러지 고 , 향기 는 에프 킬 라 . . 구매 후기 잘 안 쓰 는데 이건 진짜 최악 이 다 . \n"
          ]
        }
      ]
    },
    {
      "cell_type": "markdown",
      "source": [
        "subword segmentation 관련 내용"
      ],
      "metadata": {
        "id": "lxVB_NP5vTYJ"
      }
    },
    {
      "cell_type": "code",
      "source": [
        "#tokenize.sh의 내용인데, 디렉토리는 코랩에 맞춰서 바꿈. 아래는 원래 버전\n",
        "\n",
        "#!/bin/bash\n",
        "#set -euo pipefail\n",
        "\n",
        "#BASE=\"/content/drive/MyDrive/nmt_fold/preproc/subword_segmentation\"\n",
        "#cd \"$BASE\"\n",
        "\n",
        "#export LANG=C.UTF-8\n",
        "#export LC_ALL=C.UTF-8\n",
        "#export PYTHONIOENCODING=utf-8\n",
        "\n",
        "#FN=\"$1\"              # review.sorted.uniq.refined.tsv\n",
        "#TARGET_FN=\"$2\"       # review.sorted.uniq.refined.tok.bpe.tsv\n",
        "#N_SYMBOLS=30000\n",
        "\n",
        "# 1) 레이블/텍스트 분리\n",
        "#cut -f1 \"${FN}\" > \"${FN}.label\"\n",
        "#cut -f2 \"${FN}\" > \"${FN}.text\"\n",
        "\n",
        "# 2) 토크나이즈 (MeCab 버퍼 확대)\n",
        "#cat \"${FN}.text\" \\\n",
        "#| mecab -b 10000000 -O wakati \\\n",
        "#| python post_tokenize.py \"${FN}.text\" \\\n",
        "#> \"${FN}.text.tok\"\n",
        "\n",
        "# 3) BPE 입력 파일 UTF-8 보정 (필요시만 재인코딩)\n",
        "#python - \"$BASE/${FN}.text.tok\" << 'PY'\n",
        "#import sys, pathlib\n",
        "#p = pathlib.Path(sys.argv[1])\n",
        "#raw = p.read_bytes()\n",
        "#for enc in ('utf-8','utf-8-sig','cp949','euc-kr'):\n",
        "#    try:\n",
        "#        raw.decode(enc)\n",
        "#        if enc!='utf-8':\n",
        "#            p.write_text(raw.decode(enc), encoding='utf-8')\n",
        "#        break\n",
        "#    except UnicodeDecodeError:\n",
        "#        continue\n",
        "#else:\n",
        "#    p.write_text(raw.decode('utf-8', errors='ignore'), encoding='utf-8')\n",
        "#PY\n",
        "\n",
        "# 4) BPE 학습/적용\n",
        "#python ./subword-nmt/learn_bpe.py --input \"${FN}.text.tok\" --output ./model --symbols \"${N_SYMBOLS}\"\n",
        "#python ./subword-nmt/apply_bpe.py --codes ./model < \"${FN}.text.tok\" > \"${FN}.text.tok.bpe\"\n",
        "\n",
        "# 5) 라벨과 붙이기\n",
        "#paste \"${FN}.label\" \"${FN}.text.tok.bpe\" > \"${TARGET_FN}\""
      ],
      "metadata": {
        "id": "wmm3KldavnFY"
      },
      "execution_count": null,
      "outputs": []
    },
    {
      "cell_type": "code",
      "source": [
        "!bash /content/drive/MyDrive/nmt_fold/preproc/subword_segmentation/tokenize.sh review.sorted.uniq.refined.tsv review.sorted.uniq.refined.tok.bpe.tsv"
      ],
      "metadata": {
        "id": "ozqjPbTivuoB"
      },
      "execution_count": 17,
      "outputs": []
    },
    {
      "cell_type": "code",
      "source": [
        "!head -n 5 /content/drive/MyDrive/nmt_fold/preproc/subword_segmentation/review.sorted.uniq.refined.tok.bpe.tsv"
      ],
      "metadata": {
        "colab": {
          "base_uri": "https://localhost:8080/"
        },
        "id": "pcYAb86NzrI5",
        "outputId": "a5cb484a-d759-4995-e6b7-c16bfcc5b90e"
      },
      "execution_count": 18,
      "outputs": [
        {
          "output_type": "stream",
          "name": "stdout",
          "text": [
            "negative\t▁▁!\n",
            "negative\t▁▁! ▁▁다 ▁녹 ▁아서 ▁▁왓 ▁어요 ▁▁. ▁. ▁▁짜증\n",
            "negative\t▁▁!!!!!!!!!!!!!\n",
            "negative\t▁▁!!!! ▁이게 ▁뭐 ▁야 ▁? ▁진짜 ▁이게 ▁뭐 ▁야 ▁? ▁리뷰 ▁보고 ▁구매 ▁했 ▁는데 ▁! ▁나원참 ▁!\n",
            "negative\t▁▁\" ▁싼 ▁▁게 ▁▁비지떡 ▁\" . ▁200 ▁ml ▁라고 ▁▁판매 ▁하 ▁는데 ▁▁내 ▁가 ▁▁보 ▁기 ▁엔 ▁▁절대 ▁▁이거 ▁▁100 ▁ml ▁도 ▁▁안 ▁된다 ▁. ▁뚜껑 ▁▁열 ▁다가 ▁▁손톱 ▁▁부러지 ▁고 ▁, ▁향기 ▁는 ▁▁에프 ▁킬 ▁라 ▁. ▁. ▁구매 ▁후기 ▁▁잘 ▁▁안 ▁쓰 ▁는데 ▁▁이건 ▁▁진짜 ▁▁최악 ▁이 ▁다 ▁.\n"
          ]
        }
      ]
    },
    {
      "cell_type": "markdown",
      "source": [
        "detokenization 코드"
      ],
      "metadata": {
        "id": "Q1QK4Dbi2cCl"
      }
    },
    {
      "cell_type": "code",
      "source": [
        "!head -n 5 /content/drive/MyDrive/nmt_fold/preproc/detokenization/review.sorted.uniq.refined.tok.bpe.tsv"
      ],
      "metadata": {
        "colab": {
          "base_uri": "https://localhost:8080/"
        },
        "id": "K_YHHgvC28l8",
        "outputId": "c4531576-599f-4b91-a292-c068255b6448"
      },
      "execution_count": 19,
      "outputs": [
        {
          "output_type": "stream",
          "name": "stdout",
          "text": [
            "negative\t▁▁!\n",
            "negative\t▁▁! ▁▁다 ▁녹 ▁아서 ▁▁왓 ▁어요 ▁▁. ▁. ▁▁짜증\n",
            "negative\t▁▁!!!!!!!!!!!!!\n",
            "negative\t▁▁!!!! ▁이게 ▁뭐 ▁야 ▁? ▁진짜 ▁이게 ▁뭐 ▁야 ▁? ▁리뷰 ▁보고 ▁구매 ▁했 ▁는데 ▁! ▁나원참 ▁!\n",
            "negative\t▁▁\" ▁싼 ▁▁게 ▁▁비지떡 ▁\" . ▁200 ▁ml ▁라고 ▁▁판매 ▁하 ▁는데 ▁▁내 ▁가 ▁▁보 ▁기 ▁엔 ▁▁절대 ▁▁이거 ▁▁100 ▁ml ▁도 ▁▁안 ▁된다 ▁. ▁뚜껑 ▁▁열 ▁다가 ▁▁손톱 ▁▁부러지 ▁고 ▁, ▁향기 ▁는 ▁▁에프 ▁킬 ▁라 ▁. ▁. ▁구매 ▁후기 ▁▁잘 ▁▁안 ▁쓰 ▁는데 ▁▁이건 ▁▁진짜 ▁▁최악 ▁이 ▁다 ▁.\n"
          ]
        }
      ]
    },
    {
      "cell_type": "code",
      "source": [
        "!python /content/drive/MyDrive/nmt_fold/preproc/detokenization/detokenizer.py < /content/drive/MyDrive/nmt_fold/preproc/detokenization/review.sorted.uniq.refined.tok.bpe.tsv > /content/drive/MyDrive/nmt_fold/preproc/detokenization/review.sorted.uniq.refined.tok.bpe.detok.tsv"
      ],
      "metadata": {
        "id": "4SPTpMMv2eU9"
      },
      "execution_count": 20,
      "outputs": []
    },
    {
      "cell_type": "code",
      "source": [
        "!head -n 5 /content/drive/MyDrive/nmt_fold/preproc/detokenization/review.sorted.uniq.refined.tok.bpe.detok.tsv"
      ],
      "metadata": {
        "colab": {
          "base_uri": "https://localhost:8080/"
        },
        "id": "dj_Lp9yN3LW1",
        "outputId": "fcc5a2dc-bf60-48cc-b6e2-5f64647944ef"
      },
      "execution_count": 21,
      "outputs": [
        {
          "output_type": "stream",
          "name": "stdout",
          "text": [
            "negative\t!\n",
            "negative\t! 다녹아서 왓어요 .. 짜증\n",
            "negative\t!!!!!!!!!!!!!\n",
            "negative\t!!!!이게뭐야?진짜이게뭐야?리뷰보고구매했는데!나원참!\n",
            "negative\t\"싼 게 비지떡\".200ml라고 판매하는데 내가 보기엔 절대 이거 100ml도 안된다.뚜껑 열다가 손톱 부러지고,향기는 에프킬라..구매후기 잘 안쓰는데 이건 진짜 최악이다.\n"
          ]
        }
      ]
    }
  ]
}