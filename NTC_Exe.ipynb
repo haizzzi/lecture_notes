{
  "nbformat": 4,
  "nbformat_minor": 0,
  "metadata": {
    "colab": {
      "provenance": [],
      "gpuType": "A100",
      "mount_file_id": "https://github.com/haizzzi/simple-nmt-simplied/blob/main/NTC_Exe.ipynb",
      "authorship_tag": "ABX9TyPkUThYxarvNCwYn6bOGDlF",
      "include_colab_link": true
    },
    "kernelspec": {
      "name": "python3",
      "display_name": "Python 3"
    },
    "language_info": {
      "name": "python"
    },
    "accelerator": "GPU"
  },
  "cells": [
    {
      "cell_type": "markdown",
      "metadata": {
        "id": "view-in-github",
        "colab_type": "text"
      },
      "source": [
        "<a href=\"https://colab.research.google.com/github/haizzzi/simple-nmt-simplied/blob/main/NTC_Exe.ipynb\" target=\"_parent\"><img src=\"https://colab.research.google.com/assets/colab-badge.svg\" alt=\"Open In Colab\"/></a>"
      ]
    },
    {
      "cell_type": "code",
      "execution_count": 2,
      "metadata": {
        "colab": {
          "base_uri": "https://localhost:8080/"
        },
        "id": "Q6IksgquZAYI",
        "outputId": "eebaf3b6-7270-496e-ce0a-b7194a03d62d"
      },
      "outputs": [
        {
          "output_type": "stream",
          "name": "stdout",
          "text": [
            "사용 가능한 GPU 수: 1\n",
            "GPU 0 이름: NVIDIA A100-SXM4-40GB\n"
          ]
        }
      ],
      "source": [
        "import torch\n",
        "\n",
        "# GPU가 있는지 확인\n",
        "if torch.cuda.is_available():\n",
        "    print(\"사용 가능한 GPU 수:\", torch.cuda.device_count())\n",
        "    for i in range(torch.cuda.device_count()):\n",
        "        print(f\"GPU {i} 이름:\", torch.cuda.get_device_name(i))\n",
        "else:\n",
        "    print(\"GPU를 사용할 수 없습니다.\")\n"
      ]
    },
    {
      "cell_type": "code",
      "source": [
        "!pip install torch torchvision torchaudio\n",
        "!pip install torch_optimizer\n",
        "!pip install pytorch-ignite"
      ],
      "metadata": {
        "id": "Ek76yOmfdGy1",
        "outputId": "517fa08d-b13a-4429-b3af-cccff63d1506",
        "colab": {
          "base_uri": "https://localhost:8080/"
        }
      },
      "execution_count": 1,
      "outputs": [
        {
          "output_type": "stream",
          "name": "stdout",
          "text": [
            "Requirement already satisfied: torch in /usr/local/lib/python3.11/dist-packages (2.6.0+cu124)\n",
            "Requirement already satisfied: torchvision in /usr/local/lib/python3.11/dist-packages (0.21.0+cu124)\n",
            "Requirement already satisfied: torchaudio in /usr/local/lib/python3.11/dist-packages (2.6.0+cu124)\n",
            "Requirement already satisfied: filelock in /usr/local/lib/python3.11/dist-packages (from torch) (3.18.0)\n",
            "Requirement already satisfied: typing-extensions>=4.10.0 in /usr/local/lib/python3.11/dist-packages (from torch) (4.14.1)\n",
            "Requirement already satisfied: networkx in /usr/local/lib/python3.11/dist-packages (from torch) (3.5)\n",
            "Requirement already satisfied: jinja2 in /usr/local/lib/python3.11/dist-packages (from torch) (3.1.6)\n",
            "Requirement already satisfied: fsspec in /usr/local/lib/python3.11/dist-packages (from torch) (2025.3.0)\n",
            "Requirement already satisfied: nvidia-cuda-nvrtc-cu12==12.4.127 in /usr/local/lib/python3.11/dist-packages (from torch) (12.4.127)\n",
            "Requirement already satisfied: nvidia-cuda-runtime-cu12==12.4.127 in /usr/local/lib/python3.11/dist-packages (from torch) (12.4.127)\n",
            "Requirement already satisfied: nvidia-cuda-cupti-cu12==12.4.127 in /usr/local/lib/python3.11/dist-packages (from torch) (12.4.127)\n",
            "Requirement already satisfied: nvidia-cudnn-cu12==9.1.0.70 in /usr/local/lib/python3.11/dist-packages (from torch) (9.1.0.70)\n",
            "Requirement already satisfied: nvidia-cublas-cu12==12.4.5.8 in /usr/local/lib/python3.11/dist-packages (from torch) (12.4.5.8)\n",
            "Requirement already satisfied: nvidia-cufft-cu12==11.2.1.3 in /usr/local/lib/python3.11/dist-packages (from torch) (11.2.1.3)\n",
            "Requirement already satisfied: nvidia-curand-cu12==10.3.5.147 in /usr/local/lib/python3.11/dist-packages (from torch) (10.3.5.147)\n",
            "Requirement already satisfied: nvidia-cusolver-cu12==11.6.1.9 in /usr/local/lib/python3.11/dist-packages (from torch) (11.6.1.9)\n",
            "Requirement already satisfied: nvidia-cusparse-cu12==12.3.1.170 in /usr/local/lib/python3.11/dist-packages (from torch) (12.3.1.170)\n",
            "Requirement already satisfied: nvidia-cusparselt-cu12==0.6.2 in /usr/local/lib/python3.11/dist-packages (from torch) (0.6.2)\n",
            "Requirement already satisfied: nvidia-nccl-cu12==2.21.5 in /usr/local/lib/python3.11/dist-packages (from torch) (2.21.5)\n",
            "Requirement already satisfied: nvidia-nvtx-cu12==12.4.127 in /usr/local/lib/python3.11/dist-packages (from torch) (12.4.127)\n",
            "Requirement already satisfied: nvidia-nvjitlink-cu12==12.4.127 in /usr/local/lib/python3.11/dist-packages (from torch) (12.4.127)\n",
            "Requirement already satisfied: triton==3.2.0 in /usr/local/lib/python3.11/dist-packages (from torch) (3.2.0)\n",
            "Requirement already satisfied: sympy==1.13.1 in /usr/local/lib/python3.11/dist-packages (from torch) (1.13.1)\n",
            "Requirement already satisfied: mpmath<1.4,>=1.1.0 in /usr/local/lib/python3.11/dist-packages (from sympy==1.13.1->torch) (1.3.0)\n",
            "Requirement already satisfied: numpy in /usr/local/lib/python3.11/dist-packages (from torchvision) (2.0.2)\n",
            "Requirement already satisfied: pillow!=8.3.*,>=5.3.0 in /usr/local/lib/python3.11/dist-packages (from torchvision) (11.3.0)\n",
            "Requirement already satisfied: MarkupSafe>=2.0 in /usr/local/lib/python3.11/dist-packages (from jinja2->torch) (3.0.2)\n",
            "Requirement already satisfied: torch_optimizer in /usr/local/lib/python3.11/dist-packages (0.3.0)\n",
            "Requirement already satisfied: torch>=1.5.0 in /usr/local/lib/python3.11/dist-packages (from torch_optimizer) (2.6.0+cu124)\n",
            "Requirement already satisfied: pytorch-ranger>=0.1.1 in /usr/local/lib/python3.11/dist-packages (from torch_optimizer) (0.1.1)\n",
            "Requirement already satisfied: filelock in /usr/local/lib/python3.11/dist-packages (from torch>=1.5.0->torch_optimizer) (3.18.0)\n",
            "Requirement already satisfied: typing-extensions>=4.10.0 in /usr/local/lib/python3.11/dist-packages (from torch>=1.5.0->torch_optimizer) (4.14.1)\n",
            "Requirement already satisfied: networkx in /usr/local/lib/python3.11/dist-packages (from torch>=1.5.0->torch_optimizer) (3.5)\n",
            "Requirement already satisfied: jinja2 in /usr/local/lib/python3.11/dist-packages (from torch>=1.5.0->torch_optimizer) (3.1.6)\n",
            "Requirement already satisfied: fsspec in /usr/local/lib/python3.11/dist-packages (from torch>=1.5.0->torch_optimizer) (2025.3.0)\n",
            "Requirement already satisfied: nvidia-cuda-nvrtc-cu12==12.4.127 in /usr/local/lib/python3.11/dist-packages (from torch>=1.5.0->torch_optimizer) (12.4.127)\n",
            "Requirement already satisfied: nvidia-cuda-runtime-cu12==12.4.127 in /usr/local/lib/python3.11/dist-packages (from torch>=1.5.0->torch_optimizer) (12.4.127)\n",
            "Requirement already satisfied: nvidia-cuda-cupti-cu12==12.4.127 in /usr/local/lib/python3.11/dist-packages (from torch>=1.5.0->torch_optimizer) (12.4.127)\n",
            "Requirement already satisfied: nvidia-cudnn-cu12==9.1.0.70 in /usr/local/lib/python3.11/dist-packages (from torch>=1.5.0->torch_optimizer) (9.1.0.70)\n",
            "Requirement already satisfied: nvidia-cublas-cu12==12.4.5.8 in /usr/local/lib/python3.11/dist-packages (from torch>=1.5.0->torch_optimizer) (12.4.5.8)\n",
            "Requirement already satisfied: nvidia-cufft-cu12==11.2.1.3 in /usr/local/lib/python3.11/dist-packages (from torch>=1.5.0->torch_optimizer) (11.2.1.3)\n",
            "Requirement already satisfied: nvidia-curand-cu12==10.3.5.147 in /usr/local/lib/python3.11/dist-packages (from torch>=1.5.0->torch_optimizer) (10.3.5.147)\n",
            "Requirement already satisfied: nvidia-cusolver-cu12==11.6.1.9 in /usr/local/lib/python3.11/dist-packages (from torch>=1.5.0->torch_optimizer) (11.6.1.9)\n",
            "Requirement already satisfied: nvidia-cusparse-cu12==12.3.1.170 in /usr/local/lib/python3.11/dist-packages (from torch>=1.5.0->torch_optimizer) (12.3.1.170)\n",
            "Requirement already satisfied: nvidia-cusparselt-cu12==0.6.2 in /usr/local/lib/python3.11/dist-packages (from torch>=1.5.0->torch_optimizer) (0.6.2)\n",
            "Requirement already satisfied: nvidia-nccl-cu12==2.21.5 in /usr/local/lib/python3.11/dist-packages (from torch>=1.5.0->torch_optimizer) (2.21.5)\n",
            "Requirement already satisfied: nvidia-nvtx-cu12==12.4.127 in /usr/local/lib/python3.11/dist-packages (from torch>=1.5.0->torch_optimizer) (12.4.127)\n",
            "Requirement already satisfied: nvidia-nvjitlink-cu12==12.4.127 in /usr/local/lib/python3.11/dist-packages (from torch>=1.5.0->torch_optimizer) (12.4.127)\n",
            "Requirement already satisfied: triton==3.2.0 in /usr/local/lib/python3.11/dist-packages (from torch>=1.5.0->torch_optimizer) (3.2.0)\n",
            "Requirement already satisfied: sympy==1.13.1 in /usr/local/lib/python3.11/dist-packages (from torch>=1.5.0->torch_optimizer) (1.13.1)\n",
            "Requirement already satisfied: mpmath<1.4,>=1.1.0 in /usr/local/lib/python3.11/dist-packages (from sympy==1.13.1->torch>=1.5.0->torch_optimizer) (1.3.0)\n",
            "Requirement already satisfied: MarkupSafe>=2.0 in /usr/local/lib/python3.11/dist-packages (from jinja2->torch>=1.5.0->torch_optimizer) (3.0.2)\n",
            "Requirement already satisfied: pytorch-ignite in /usr/local/lib/python3.11/dist-packages (0.5.2)\n",
            "Requirement already satisfied: torch<3,>=1.3 in /usr/local/lib/python3.11/dist-packages (from pytorch-ignite) (2.6.0+cu124)\n",
            "Requirement already satisfied: packaging in /usr/local/lib/python3.11/dist-packages (from pytorch-ignite) (25.0)\n",
            "Requirement already satisfied: filelock in /usr/local/lib/python3.11/dist-packages (from torch<3,>=1.3->pytorch-ignite) (3.18.0)\n",
            "Requirement already satisfied: typing-extensions>=4.10.0 in /usr/local/lib/python3.11/dist-packages (from torch<3,>=1.3->pytorch-ignite) (4.14.1)\n",
            "Requirement already satisfied: networkx in /usr/local/lib/python3.11/dist-packages (from torch<3,>=1.3->pytorch-ignite) (3.5)\n",
            "Requirement already satisfied: jinja2 in /usr/local/lib/python3.11/dist-packages (from torch<3,>=1.3->pytorch-ignite) (3.1.6)\n",
            "Requirement already satisfied: fsspec in /usr/local/lib/python3.11/dist-packages (from torch<3,>=1.3->pytorch-ignite) (2025.3.0)\n",
            "Requirement already satisfied: nvidia-cuda-nvrtc-cu12==12.4.127 in /usr/local/lib/python3.11/dist-packages (from torch<3,>=1.3->pytorch-ignite) (12.4.127)\n",
            "Requirement already satisfied: nvidia-cuda-runtime-cu12==12.4.127 in /usr/local/lib/python3.11/dist-packages (from torch<3,>=1.3->pytorch-ignite) (12.4.127)\n",
            "Requirement already satisfied: nvidia-cuda-cupti-cu12==12.4.127 in /usr/local/lib/python3.11/dist-packages (from torch<3,>=1.3->pytorch-ignite) (12.4.127)\n",
            "Requirement already satisfied: nvidia-cudnn-cu12==9.1.0.70 in /usr/local/lib/python3.11/dist-packages (from torch<3,>=1.3->pytorch-ignite) (9.1.0.70)\n",
            "Requirement already satisfied: nvidia-cublas-cu12==12.4.5.8 in /usr/local/lib/python3.11/dist-packages (from torch<3,>=1.3->pytorch-ignite) (12.4.5.8)\n",
            "Requirement already satisfied: nvidia-cufft-cu12==11.2.1.3 in /usr/local/lib/python3.11/dist-packages (from torch<3,>=1.3->pytorch-ignite) (11.2.1.3)\n",
            "Requirement already satisfied: nvidia-curand-cu12==10.3.5.147 in /usr/local/lib/python3.11/dist-packages (from torch<3,>=1.3->pytorch-ignite) (10.3.5.147)\n",
            "Requirement already satisfied: nvidia-cusolver-cu12==11.6.1.9 in /usr/local/lib/python3.11/dist-packages (from torch<3,>=1.3->pytorch-ignite) (11.6.1.9)\n",
            "Requirement already satisfied: nvidia-cusparse-cu12==12.3.1.170 in /usr/local/lib/python3.11/dist-packages (from torch<3,>=1.3->pytorch-ignite) (12.3.1.170)\n",
            "Requirement already satisfied: nvidia-cusparselt-cu12==0.6.2 in /usr/local/lib/python3.11/dist-packages (from torch<3,>=1.3->pytorch-ignite) (0.6.2)\n",
            "Requirement already satisfied: nvidia-nccl-cu12==2.21.5 in /usr/local/lib/python3.11/dist-packages (from torch<3,>=1.3->pytorch-ignite) (2.21.5)\n",
            "Requirement already satisfied: nvidia-nvtx-cu12==12.4.127 in /usr/local/lib/python3.11/dist-packages (from torch<3,>=1.3->pytorch-ignite) (12.4.127)\n",
            "Requirement already satisfied: nvidia-nvjitlink-cu12==12.4.127 in /usr/local/lib/python3.11/dist-packages (from torch<3,>=1.3->pytorch-ignite) (12.4.127)\n",
            "Requirement already satisfied: triton==3.2.0 in /usr/local/lib/python3.11/dist-packages (from torch<3,>=1.3->pytorch-ignite) (3.2.0)\n",
            "Requirement already satisfied: sympy==1.13.1 in /usr/local/lib/python3.11/dist-packages (from torch<3,>=1.3->pytorch-ignite) (1.13.1)\n",
            "Requirement already satisfied: mpmath<1.4,>=1.1.0 in /usr/local/lib/python3.11/dist-packages (from sympy==1.13.1->torch<3,>=1.3->pytorch-ignite) (1.3.0)\n",
            "Requirement already satisfied: MarkupSafe>=2.0 in /usr/local/lib/python3.11/dist-packages (from jinja2->torch<3,>=1.3->pytorch-ignite) (3.0.2)\n"
          ]
        }
      ]
    },
    {
      "cell_type": "code",
      "source": [
        "!wc -l /content/drive/MyDrive/nmt_fold/data2/review.sorted.uniq.refined.tok.shuf.train.tsv"
      ],
      "metadata": {
        "id": "2rs2F0IEdHkd",
        "outputId": "a8a4105d-f8ac-4a04-ad04-70faec13e9b8",
        "colab": {
          "base_uri": "https://localhost:8080/"
        }
      },
      "execution_count": null,
      "outputs": [
        {
          "output_type": "stream",
          "name": "stdout",
          "text": [
            "147893 /content/drive/MyDrive/nmt_fold/data2/review.sorted.uniq.refined.tok.shuf.train.tsv\n"
          ]
        }
      ]
    },
    {
      "cell_type": "markdown",
      "source": [
        "이 코드는 train과 valid 나누는 코드인데 불필요함. train만 넣으면 학습 코드에서 자동으로 나눠줌"
      ],
      "metadata": {
        "id": "NHDzuqGSgNT8"
      }
    },
    {
      "cell_type": "code",
      "source": [
        "!head -n 118314 /content/drive/MyDrive/nmt_fold/data2/review.sorted.uniq.refined.tok.shuf.train.tsv > /content/drive/MyDrive/nmt_fold/data2/review.sorted.uniq.refined.tok.shuf.train1.tsv\n",
        "!tail -n 29579 /content/drive/MyDrive/nmt_fold/data2/review.sorted.uniq.refined.tok.shuf.train.tsv > /content/drive/MyDrive/nmt_fold/data2/review.sorted.uniq.refined.tok.shuf.valid1.tsv\n"
      ],
      "metadata": {
        "id": "v4GPDZqGeJFM"
      },
      "execution_count": null,
      "outputs": []
    },
    {
      "cell_type": "code",
      "source": [
        "!wc -l /content/drive/MyDrive/nmt_fold/data2/review.sorted.uniq.refined.tok.shuf.*.tsv"
      ],
      "metadata": {
        "id": "0KTvhNxwejqV",
        "outputId": "ead8b880-34af-44ac-9b4a-28748126ede5",
        "colab": {
          "base_uri": "https://localhost:8080/"
        }
      },
      "execution_count": null,
      "outputs": [
        {
          "output_type": "stream",
          "name": "stdout",
          "text": [
            "   30000 /content/drive/MyDrive/nmt_fold/data2/review.sorted.uniq.refined.tok.shuf.test.tsv\n",
            "  118314 /content/drive/MyDrive/nmt_fold/data2/review.sorted.uniq.refined.tok.shuf.train1.tsv\n",
            "  147893 /content/drive/MyDrive/nmt_fold/data2/review.sorted.uniq.refined.tok.shuf.train.tsv\n",
            "   29579 /content/drive/MyDrive/nmt_fold/data2/review.sorted.uniq.refined.tok.shuf.valid1.tsv\n",
            "  325786 total\n"
          ]
        }
      ]
    },
    {
      "cell_type": "markdown",
      "source": [
        "simple-ntc 학습하는 코드, rnn, cnn 같이 학습함. 이후 classify할 때 앙상블로 두개 모두 활용함. cnn 부분은 A100에서 gpu 사용이 안되고 cpu로 사용되는 현상이 발생해서 내부에 GPU관련 설정을 바꿔서 train2.py를 만들고 simple-ntc/trainer.py도 바꿔줌.\n",
        "자세한 변경사항은 아래와 같이 정리했음\n",
        "----------------------------------------------------------\n",
        "원인: RNN 학습 후 같은 프로세스에서 CNN으로 전환 시, A100에서 cudnn.benchmark=True가 유지되어 Conv2d(1→128, kernel=(k, 256)) 형태에 대해 cuDNN이 첫 배치에서 과도한 커널 탐색을 수행(수분 정지). 초기 스텝에서 큰 그래디언트로 AMP 스케일러가 step을 스킵하면서 |g_param| 로그가 NaN으로 찍히는 현상도 동반.\n",
        "\n",
        "조치: RNN→CNN 전환 직전에\n",
        "\n",
        "gc.collect(), torch.cuda.empty_cache()로 메모리/캐시 정리,\n",
        "\n",
        "torch.backends.cudnn.benchmark=False, torch.backends.cudnn.deterministic=True로 커널 탐색 차단 및 결정적 커널 고정,\n",
        "\n",
        "학습 루프에 **AMP( torch.amp.autocast + GradScaler('cuda') )**와 gradient clipping(clip_grad_norm_) 적용,\n",
        "\n",
        "|g_param| 로깅을 safe_grad_norm(비유한값 제외)으로 교체,\n",
        "\n",
        "(옵션) TF32 허용, channels_last 메모리 포맷, CNN 하이퍼(윈도우/필터) 경량화.\n",
        "\n",
        "(주의) 실제 로드되는 모듈 경로 고정(sys.path.insert(0, PROJECT_ROOT))로 최신 trainer.py가 임포트되도록 정리.\n",
        "\n",
        "결과: CNN 첫 배치 정지 해소, NaN 로그 제거/안정화, A100에서 에폭 당 시간 대폭 단축(RNN 영향 없음).\n",
        "\n"
      ],
      "metadata": {
        "id": "X7DduT14fifV"
      }
    },
    {
      "cell_type": "code",
      "source": [
        "!python /content/drive/MyDrive/nmt_fold/simple-ntc/train2.py --model_fn /content/drive/MyDrive/nmt_fold/data2/review.pth --train_fn /content/drive/MyDrive/nmt_fold/data2/review.sorted.uniq.refined.tok.shuf.train.tsv --gpu_id 0 --batch_size 128 --n_epochs 10 --word_vec_size 256 --dropout .3 --rnn --hidden_size 512 --n_layers 4 --cnn --window_sizes 3 4 5 6 7 8 --n_filters 128 128 128 128 128 128\n",
        "#!python /content/drive/MyDrive/nmt_fold/simple-ntc/train2.py --model_fn /content/drive/MyDrive/nmt_fold/data2/review.pth --train_fn /content/drive/MyDrive/nmt_fold/data2/review.sorted.uniq.refined.tok.shuf.train.tsv --gpu_id 0 --batch_size 128 --n_epochs 1 --word_vec_size 256 --dropout .3  --rnn --hidden_size 512 --n_layers 4 --cnn --window_sizes 3 4 5 6 7 8 --n_filters 128 128 128 128 128 128\n"
      ],
      "metadata": {
        "id": "wo_wNWH3euVk",
        "outputId": "ec3477de-11eb-4818-d752-c764c31ac903",
        "colab": {
          "base_uri": "https://localhost:8080/"
        }
      },
      "execution_count": 3,
      "outputs": [
        {
          "output_type": "stream",
          "name": "stdout",
          "text": [
            "|train| = 118315 |valid| = 29578\n",
            "|vocab| = 13004 |classes| = 2\n",
            "RNNClassifier(\n",
            "  (emb): Embedding(13004, 256)\n",
            "  (rnn): LSTM(256, 512, num_layers=4, batch_first=True, dropout=0.3, bidirectional=True)\n",
            "  (generator): Linear(in_features=1024, out_features=2, bias=True)\n",
            "  (activation): LogSoftmax(dim=-1)\n",
            ")\n",
            "Epoch 1 - |param|=1.84e+03 |g_param|=6.18e-01 loss=3.0927e-01 accuracy=0.8858\n",
            "Validation - loss=2.7446e-01 accuracy=0.8941 best_loss=inf\n",
            "Epoch 2 - |param|=1.84e+03 |g_param|=3.77e-01 loss=2.0730e-01 accuracy=0.9284\n",
            "Validation - loss=2.0735e-01 accuracy=0.9242 best_loss=2.7446e-01\n",
            "Epoch 3 - |param|=1.84e+03 |g_param|=3.39e-01 loss=1.9198e-01 accuracy=0.9345\n",
            "Validation - loss=1.9923e-01 accuracy=0.9305 best_loss=2.0735e-01\n",
            "Epoch 4 - |param|=1.84e+03 |g_param|=2.93e-01 loss=1.5261e-01 accuracy=0.9493\n",
            "Validation - loss=1.9668e-01 accuracy=0.9319 best_loss=1.9923e-01\n",
            "Epoch 5 - |param|=1.84e+03 |g_param|=2.95e-01 loss=1.3846e-01 accuracy=0.9554\n",
            "Validation - loss=1.9493e-01 accuracy=0.9322 best_loss=1.9668e-01\n",
            "Epoch 6 - |param|=1.85e+03 |g_param|=3.37e-01 loss=1.2745e-01 accuracy=0.9586\n",
            "Validation - loss=2.2413e-01 accuracy=0.9301 best_loss=1.9493e-01\n",
            "Epoch 7 - |param|=1.85e+03 |g_param|=3.23e-01 loss=1.1798e-01 accuracy=0.9627\n",
            "Validation - loss=2.1544e-01 accuracy=0.9310 best_loss=1.9493e-01\n",
            "Epoch 8 - |param|=1.85e+03 |g_param|=2.45e-01 loss=8.7151e-02 accuracy=0.9732\n",
            "Validation - loss=2.2882e-01 accuracy=0.9337 best_loss=1.9493e-01\n",
            "Epoch 9 - |param|=1.86e+03 |g_param|=2.50e-01 loss=8.0883e-02 accuracy=0.9747\n",
            "Validation - loss=2.5600e-01 accuracy=0.9308 best_loss=1.9493e-01\n",
            "Epoch 10 - |param|=1.86e+03 |g_param|=2.84e-01 loss=8.0139e-02 accuracy=0.9736\n",
            "Validation - loss=2.5496e-01 accuracy=0.9289 best_loss=1.9493e-01\n",
            "CNNClassifier(\n",
            "  (emb): Embedding(13004, 256)\n",
            "  (feature_extractors): ModuleList(\n",
            "    (0): Sequential(\n",
            "      (0): Conv2d(1, 128, kernel_size=(3, 256), stride=(1, 1))\n",
            "      (1): ReLU()\n",
            "      (2): Dropout(p=0.3, inplace=False)\n",
            "    )\n",
            "    (1): Sequential(\n",
            "      (0): Conv2d(1, 128, kernel_size=(4, 256), stride=(1, 1))\n",
            "      (1): ReLU()\n",
            "      (2): Dropout(p=0.3, inplace=False)\n",
            "    )\n",
            "    (2): Sequential(\n",
            "      (0): Conv2d(1, 128, kernel_size=(5, 256), stride=(1, 1))\n",
            "      (1): ReLU()\n",
            "      (2): Dropout(p=0.3, inplace=False)\n",
            "    )\n",
            "    (3): Sequential(\n",
            "      (0): Conv2d(1, 128, kernel_size=(6, 256), stride=(1, 1))\n",
            "      (1): ReLU()\n",
            "      (2): Dropout(p=0.3, inplace=False)\n",
            "    )\n",
            "    (4): Sequential(\n",
            "      (0): Conv2d(1, 128, kernel_size=(7, 256), stride=(1, 1))\n",
            "      (1): ReLU()\n",
            "      (2): Dropout(p=0.3, inplace=False)\n",
            "    )\n",
            "    (5): Sequential(\n",
            "      (0): Conv2d(1, 128, kernel_size=(8, 256), stride=(1, 1))\n",
            "      (1): ReLU()\n",
            "      (2): Dropout(p=0.3, inplace=False)\n",
            "    )\n",
            "  )\n",
            "  (generator): Linear(in_features=768, out_features=2, bias=True)\n",
            "  (activation): LogSoftmax(dim=-1)\n",
            ")\n",
            "\n",
            "[디버그] 학습 환경 점검\n",
            "선택 모델: RNN\n",
            "GPU 사용 여부: 사용\n",
            "GPU 이름: NVIDIA A100-SXM4-40GB\n",
            "모델 디바이스: cuda:0\n",
            "max_length: 256\n",
            "batch_size: 128\n",
            "window_sizes: [3, 4, 5, 6, 7, 8]\n",
            "n_filters: [128, 128, 128, 128, 128, 128]\n",
            "===\n",
            "Epoch 1 - |param|=1.82e+03 |g_param|=3.09e+00 loss=2.4309e-01 accuracy=0.9100\n",
            "Validation - loss=2.2340e-01 accuracy=0.9188 best_loss=inf\n",
            "Epoch 2 - |param|=1.83e+03 |g_param|=3.13e+00 loss=1.8771e-01 accuracy=0.9325\n",
            "Validation - loss=1.9743e-01 accuracy=0.9294 best_loss=2.2340e-01\n",
            "Epoch 3 - |param|=1.83e+03 |g_param|=2.92e+00 loss=1.5467e-01 accuracy=0.9439\n",
            "Validation - loss=2.2155e-01 accuracy=0.9222 best_loss=1.9743e-01\n",
            "Epoch 4 - |param|=1.83e+03 |g_param|=2.38e+00 loss=1.1579e-01 accuracy=0.9597\n",
            "Validation - loss=2.1280e-01 accuracy=0.9275 best_loss=1.9743e-01\n",
            "Epoch 5 - |param|=1.83e+03 |g_param|=2.57e+00 loss=1.1212e-01 accuracy=0.9616\n",
            "Validation - loss=2.4682e-01 accuracy=0.9231 best_loss=1.9743e-01\n",
            "Epoch 6 - |param|=1.83e+03 |g_param|=2.10e+00 loss=8.8830e-02 accuracy=0.9695\n",
            "Validation - loss=3.0166e-01 accuracy=0.9120 best_loss=1.9743e-01\n",
            "Epoch 7 - |param|=1.83e+03 |g_param|=2.00e+00 loss=8.0978e-02 accuracy=0.9731\n",
            "Validation - loss=2.9555e-01 accuracy=0.9203 best_loss=1.9743e-01\n",
            "Epoch 8 - |param|=1.84e+03 |g_param|=2.14e+00 loss=6.7498e-02 accuracy=0.9771\n",
            "Validation - loss=3.2663e-01 accuracy=0.9266 best_loss=1.9743e-01\n",
            "Epoch 9 - |param|=1.84e+03 |g_param|=1.89e+00 loss=7.3628e-02 accuracy=0.9757\n",
            "Validation - loss=4.1623e-01 accuracy=0.9180 best_loss=1.9743e-01\n",
            "Epoch 10 - |param|=1.84e+03 |g_param|=1.60e+00 loss=6.5680e-02 accuracy=0.9775\n",
            "Validation - loss=4.1406e-01 accuracy=0.9178 best_loss=1.9743e-01\n"
          ]
        }
      ]
    }
  ]
}