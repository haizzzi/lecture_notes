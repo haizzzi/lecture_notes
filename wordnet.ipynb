{
  "cells": [
    {
      "cell_type": "markdown",
      "metadata": {
        "id": "view-in-github",
        "colab_type": "text"
      },
      "source": [
        "<a href=\"https://colab.research.google.com/github/haizzzi/lecture_notes/blob/main/wordnet.ipynb\" target=\"_parent\"><img src=\"https://colab.research.google.com/assets/colab-badge.svg\" alt=\"Open In Colab\"/></a>"
      ]
    },
    {
      "cell_type": "markdown",
      "metadata": {
        "id": "CiHNUBT6h9Yg"
      },
      "source": [
        "# WordNet"
      ]
    },
    {
      "cell_type": "code",
      "execution_count": 3,
      "metadata": {
        "id": "gXhxh_yQh9Yi",
        "outputId": "5dad5cc2-0038-41fe-fd60-180699b65151",
        "colab": {
          "base_uri": "https://localhost:8080/"
        }
      },
      "outputs": [
        {
          "output_type": "stream",
          "name": "stdout",
          "text": [
            "Requirement already satisfied: nltk<4,>=3.9 in /usr/local/lib/python3.11/dist-packages (3.9.1)\n",
            "Requirement already satisfied: click in /usr/local/lib/python3.11/dist-packages (from nltk<4,>=3.9) (8.2.1)\n",
            "Requirement already satisfied: joblib in /usr/local/lib/python3.11/dist-packages (from nltk<4,>=3.9) (1.5.1)\n",
            "Requirement already satisfied: regex>=2021.8.3 in /usr/local/lib/python3.11/dist-packages (from nltk<4,>=3.9) (2024.11.6)\n",
            "Requirement already satisfied: tqdm in /usr/local/lib/python3.11/dist-packages (from nltk<4,>=3.9) (4.67.1)\n"
          ]
        }
      ],
      "source": [
        "#!pip install nltk==3.2.5\n",
        "!pip install -U \"nltk>=3.9,<4\"\n",
        "# 설치하고 재시작 할 것"
      ]
    },
    {
      "cell_type": "code",
      "execution_count": 1,
      "metadata": {
        "id": "hfjPz4Wsh9Yj",
        "outputId": "9b84e3ce-1a22-493a-f770-bf5d4c93b573",
        "colab": {
          "base_uri": "https://localhost:8080/"
        }
      },
      "outputs": [
        {
          "output_type": "stream",
          "name": "stderr",
          "text": [
            "[nltk_data] Downloading package wordnet to /root/nltk_data...\n"
          ]
        }
      ],
      "source": [
        "import nltk\n",
        "nltk.download('wordnet')\n",
        "\n",
        "from nltk.corpus import wordnet as wn"
      ]
    },
    {
      "cell_type": "code",
      "execution_count": 4,
      "metadata": {
        "id": "aUDYhtzGh9Yj",
        "outputId": "5467c4c7-5b0b-401a-9c91-1a99532cb4c3",
        "colab": {
          "base_uri": "https://localhost:8080/"
        }
      },
      "outputs": [
        {
          "output_type": "execute_result",
          "data": {
            "text/plain": [
              "[Synset('people.n.01'),\n",
              " Synset('citizenry.n.01'),\n",
              " Synset('people.n.03'),\n",
              " Synset('multitude.n.03'),\n",
              " Synset('people.v.01'),\n",
              " Synset('people.v.02')]"
            ]
          },
          "metadata": {},
          "execution_count": 4
        }
      ],
      "source": [
        "wn.synsets('people')"
      ]
    },
    {
      "cell_type": "code",
      "execution_count": 5,
      "metadata": {
        "id": "WDCbxfG_h9Yj",
        "outputId": "17b84d25-588c-485b-b22a-caacd2830995",
        "colab": {
          "base_uri": "https://localhost:8080/"
        }
      },
      "outputs": [
        {
          "output_type": "execute_result",
          "data": {
            "text/plain": [
              "[Synset('group.n.01')]"
            ]
          },
          "metadata": {},
          "execution_count": 5
        }
      ],
      "source": [
        "wn.synsets('people')[0].hypernyms()"
      ]
    },
    {
      "cell_type": "code",
      "execution_count": 6,
      "metadata": {
        "id": "nSxUyDTNh9Yk",
        "outputId": "63ec5b42-4c1f-42e4-bb36-b265067f5583",
        "colab": {
          "base_uri": "https://localhost:8080/"
        }
      },
      "outputs": [
        {
          "output_type": "stream",
          "name": "stdout",
          "text": [
            "Synset('policeman.n.01')\n",
            "Synset('lawman.n.01')\n",
            "Synset('defender.n.01')\n",
            "Synset('preserver.n.03')\n",
            "Synset('person.n.01')\n",
            "Synset('causal_agent.n.01')\n",
            "Synset('physical_entity.n.01')\n",
            "Synset('entity.n.01')\n"
          ]
        }
      ],
      "source": [
        "def hypernyms(word):\n",
        "    current_node = wn.synsets(word)[0]\n",
        "    yield current_node\n",
        "\n",
        "    while True:\n",
        "        try:\n",
        "            current_node = current_node.hypernyms()[0]\n",
        "            yield current_node\n",
        "        except IndexError:\n",
        "            break\n",
        "\n",
        "for h in hypernyms('policeman'):\n",
        "    print(h)"
      ]
    },
    {
      "cell_type": "code",
      "execution_count": 7,
      "metadata": {
        "id": "yQitQv5ih9Yk",
        "outputId": "18a45966-5565-4cc9-be38-842a02707d4d",
        "colab": {
          "base_uri": "https://localhost:8080/"
        }
      },
      "outputs": [
        {
          "output_type": "execute_result",
          "data": {
            "text/plain": [
              "[Synset('fireman.n.04'),\n",
              " Synset('defender.n.01'),\n",
              " Synset('preserver.n.03'),\n",
              " Synset('person.n.01'),\n",
              " Synset('causal_agent.n.01'),\n",
              " Synset('physical_entity.n.01'),\n",
              " Synset('entity.n.01')]"
            ]
          },
          "metadata": {},
          "execution_count": 7
        }
      ],
      "source": [
        "[h for h in hypernyms('firefighter')]"
      ]
    },
    {
      "cell_type": "code",
      "execution_count": 8,
      "metadata": {
        "id": "LW3CiJvRh9Yl",
        "outputId": "cdea0a93-c965-475c-caac-c0994c28b184",
        "colab": {
          "base_uri": "https://localhost:8080/"
        }
      },
      "outputs": [
        {
          "output_type": "execute_result",
          "data": {
            "text/plain": [
              "[Synset('sheriff.n.01'),\n",
              " Synset('lawman.n.01'),\n",
              " Synset('defender.n.01'),\n",
              " Synset('preserver.n.03'),\n",
              " Synset('person.n.01'),\n",
              " Synset('causal_agent.n.01'),\n",
              " Synset('physical_entity.n.01'),\n",
              " Synset('entity.n.01')]"
            ]
          },
          "metadata": {},
          "execution_count": 8
        }
      ],
      "source": [
        "[h for h in hypernyms('sheriff')]"
      ]
    },
    {
      "cell_type": "code",
      "execution_count": 9,
      "metadata": {
        "id": "jT-pGr3Oh9Yl",
        "outputId": "d639c555-3528-42e4-c884-cb1eea87bbbe",
        "colab": {
          "base_uri": "https://localhost:8080/"
        }
      },
      "outputs": [
        {
          "output_type": "execute_result",
          "data": {
            "text/plain": [
              "[Synset('mailman.n.01'),\n",
              " Synset('deliveryman.n.01'),\n",
              " Synset('employee.n.01'),\n",
              " Synset('worker.n.01'),\n",
              " Synset('person.n.01'),\n",
              " Synset('causal_agent.n.01'),\n",
              " Synset('physical_entity.n.01'),\n",
              " Synset('entity.n.01')]"
            ]
          },
          "metadata": {},
          "execution_count": 9
        }
      ],
      "source": [
        "[h for h in hypernyms('mailman')]"
      ]
    },
    {
      "cell_type": "code",
      "execution_count": 10,
      "metadata": {
        "id": "O5XbCKJNh9Yl",
        "outputId": "409679ab-098d-4a36-ece2-71ccd16059bd",
        "colab": {
          "base_uri": "https://localhost:8080/"
        }
      },
      "outputs": [
        {
          "output_type": "execute_result",
          "data": {
            "text/plain": [
              "6"
            ]
          },
          "metadata": {},
          "execution_count": 10
        }
      ],
      "source": [
        "def distance(word1, word2):\n",
        "    word1_hypernyms = [h for h in hypernyms(word1)]\n",
        "\n",
        "    for i, word2_hypernym in enumerate(hypernyms(word2)):\n",
        "        try:\n",
        "            return i + word1_hypernyms.index(word2_hypernym)\n",
        "        except ValueError:\n",
        "            continue\n",
        "\n",
        "distance('sheriff', 'student')"
      ]
    },
    {
      "cell_type": "markdown",
      "metadata": {
        "id": "KEbHDTGHh9Ym"
      },
      "source": [
        "$$ similarity(w, w^\\prime) = -\\log distance(w, w^\\prime) $$"
      ]
    },
    {
      "cell_type": "code",
      "execution_count": 11,
      "metadata": {
        "id": "cD5iT81eh9Yn",
        "outputId": "b784c2d9-6faa-4d18-b8df-e99ada847e45",
        "colab": {
          "base_uri": "https://localhost:8080/"
        }
      },
      "outputs": [
        {
          "output_type": "stream",
          "name": "stdout",
          "text": [
            "-1.791759469228055\n",
            "-0.6931471805599453\n"
          ]
        }
      ],
      "source": [
        "import numpy as np\n",
        "\n",
        "def similarity(word1, word2):\n",
        "    return -np.log(distance(word1, word2))\n",
        "\n",
        "print(similarity('sheriff', 'student'))\n",
        "print(similarity('sheriff', 'policeman'))"
      ]
    }
  ],
  "metadata": {
    "kernelspec": {
      "display_name": "Python 3",
      "language": "python",
      "name": "python3"
    },
    "language_info": {
      "codemirror_mode": {
        "name": "ipython",
        "version": 3
      },
      "file_extension": ".py",
      "mimetype": "text/x-python",
      "name": "python",
      "nbconvert_exporter": "python",
      "pygments_lexer": "ipython3",
      "version": "3.7.6"
    },
    "colab": {
      "provenance": [],
      "include_colab_link": true
    }
  },
  "nbformat": 4,
  "nbformat_minor": 0
}