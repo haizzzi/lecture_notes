{
  "nbformat": 4,
  "nbformat_minor": 0,
  "metadata": {
    "colab": {
      "provenance": [],
      "mount_file_id": "https://github.com/haizzzi/simple-nmt-simplied/blob/main/pre-processing.ipynb",
      "authorship_tag": "ABX9TyMLMmkd84jZf9FE41OwLGG6",
      "include_colab_link": true
    },
    "kernelspec": {
      "name": "python3",
      "display_name": "Python 3"
    },
    "language_info": {
      "name": "python"
    }
  },
  "cells": [
    {
      "cell_type": "markdown",
      "metadata": {
        "id": "view-in-github",
        "colab_type": "text"
      },
      "source": [
        "<a href=\"https://colab.research.google.com/github/haizzzi/simple-nmt-simplied/blob/main/pre-processing.ipynb\" target=\"_parent\"><img src=\"https://colab.research.google.com/assets/colab-badge.svg\" alt=\"Open In Colab\"/></a>"
      ]
    },
    {
      "cell_type": "markdown",
      "source": [
        "제일먼저 구글드라이버에 nmt-fold에 code1과 data1이 설치되도록 자신의 구글드라이버에 제공되는 zip 파일을 압축 해제해서 upload 하세요. 그리고 좌측 mount 버튼을 누르세요. 그러면 구글 드라이브 마운트 위치 \"/content/drive/MyDrive/\"에 마운트가 되어서 /content/drive/MyDrive/nmt_fold/data1/ 형태로 접근이 됩니다."
      ],
      "metadata": {
        "id": "X_9nHG9Z48FL"
      }
    },
    {
      "cell_type": "markdown",
      "source": [],
      "metadata": {
        "id": "2j1UGmNdXlUK"
      }
    },
    {
      "cell_type": "code",
      "source": [
        "!cat /content/drive/MyDrive/nmt_fold/data1/*.txt > combined.tsv"
      ],
      "metadata": {
        "id": "ater08dCCqM8"
      },
      "execution_count": null,
      "outputs": []
    },
    {
      "cell_type": "markdown",
      "source": [
        "인코딩을 UTF_16LE에서 UTF-8로 변경"
      ],
      "metadata": {
        "id": "DRxrR4oHQ2ej"
      }
    },
    {
      "cell_type": "code",
      "source": [
        "!iconv -f UTF-16LE -t UTF-8 /content/drive/MyDrive/nmt_fold/data1/combined.tsv > /content/drive/MyDrive/nmt_fold/data1/combined_utf8.tsv\n",
        "!mv /content/drive/MyDrive/nmt_fold/data1/combined_utf8.tsv /content/drive/MyDrive/nmt_fold/data1/combined.tsv"
      ],
      "metadata": {
        "id": "q4Vfpy6uE6X8"
      },
      "execution_count": null,
      "outputs": []
    },
    {
      "cell_type": "code",
      "metadata": {
        "colab": {
          "base_uri": "https://localhost:8080/"
        },
        "id": "56310681",
        "outputId": "bed3a146-544b-4476-9bc6-c4f486e0ab3d"
      },
      "source": [
        "!head -n 5 /content/drive/MyDrive/nmt_fold/data1/combined*.tsv\n",
        "!wc -l /content/drive/MyDrive/nmt_fold/data1/combined*.tsv"
      ],
      "execution_count": 10,
      "outputs": [
        {
          "output_type": "stream",
          "name": "stdout",
          "text": [
            "==> /content/drive/MyDrive/nmt_fold/data1/combined.shuf.test.tsv <==\n",
            "이곳은 공개공지내 인근 건물에서 자체 조성한 공원이지만 흡연자들이 뿜어대는 무분별한 담배연기가 공원외부 보행로까지 확대되어 시민들의 눈살을 찌뿌리게 한 곳이다.\t\"It is a self-created park created by nearby buildings within the open air space, but reckless cigarette smoke spewed by smokers has expanded to pedestrian paths outside the park, which is frowned upon by the citizens.\"\r\n",
            "미디헴팬티는 기존에 있는 속옷과 다른 것입니까?\tIs the midi hem panty different from the original underwear line?\r\n",
            "이 가을이 다 가기 전에 창덕궁과 희정당을 찾아 그 속에 담긴 시대적인 아픔을 한번 느껴보는 것도 좋을 것 같다.\t\"Before this fall is out, it should also be good to visit Changdeokgung Palace and Heejeongdang and feel the pain of the times reflected in the place.\"\r\n",
            "\"약 3분의 1은 전혀 반응을 보이지 않으며, 투약 초기 효과를 보이던 환자들도 약 3분의 1은 내성이 생기는지 점차 약발이 듣지 않게 된다.\"\t\"About one third do not respond at all, and about one third of the patients who showed the initial effects of the medication become less resistant, which causes the medicine doesn't kick.\"\r\n",
            "\"그는 “경제적 포용과 배제를 가르는 관건은 기업의 소유구조”라며, 소유권이 소수에게 집중된 기존 경제모델이 힘을 잃어가는 반면 미래 비즈니스 모델은 ‘참여적 기업’이 될 것이라고 전망했다.\"\t\"\"\"The key to economic inclusion and exclusion is the corporate ownership structure,\"\" he said, predicting that while the existing economic model, whose ownership is concentrated on the minority, will lose power, future business models will become \"\"participatory companies.\"\"\"\r\n",
            "\n",
            "==> /content/drive/MyDrive/nmt_fold/data1/combined.shuf.train.tsv <==\n",
            "남부순환로 일대 대형 집합건물은 주변 아파트에 비해 노후화되어 낡은 간판들이 주변 환경과 조화를 이루도록 새로운 디자인의 간판으로 교체했다.\t\"The large buildings around the southern circulation road was aging compared to the surrounding apartments, and the old signboards were replaced with new design signs to harmonize with the surrounding environment.\"\r\n",
            "우리나라는 부품·소재 기업의 역사가 전통의 제조업 국가인 미국·유럽·일본 등에 비해 짧은 만큼 제조기업과 장비기업의 협력이 중요하다고 전문가들은 입을 모은다.\t\"Experts say that cooperation between manufacturing companies and equipment companies is important as the history of parts and materials companies in Korea is shorter than that of the U.S., Europe, and Japan, which are traditional manufacturing countries.\"\r\n",
            "그는 중의원 7선 의원으로 중의원 외무위원장까지 지낸 유력 정치인이었지만 평생 세태와 타협하지 않고 용기 있게 바른 목소리를 냈다.\t\"He was a seven-term lawmaker in the House of Representatives and a leading politician who also served as chairman of the House Foreign Affairs Committee, but he spoke courageously and uprightly without compromising with the world for his entire life.\"\r\n",
            "\"그랜드 앰배서더 서울 풀만 호텔은 과일칩, 육포, 꽃차 및 소금 2종을 담은 ‘맘스핸 종합 세트’를 내놨는데(7만9천원) 개성 있는 선물을 추구하는 이들에게 호응이 좋다.\"\t\"Mom's Han Comprehensive Set (KRW 79,000), containing fruit chips, jerky, flower tea, and two types of salt, was launched by the Grand Ambassador Seoul associated with Pullman Hotel and is popular by those who like unique presents.\"\r\n",
            "이것이 가능하면 저한테 메일로 연락하세요.\tContact me through email if this is possible.\r\n",
            "\n",
            "==> /content/drive/MyDrive/nmt_fold/data1/combined.shuf.tsv <==\n",
            "남부순환로 일대 대형 집합건물은 주변 아파트에 비해 노후화되어 낡은 간판들이 주변 환경과 조화를 이루도록 새로운 디자인의 간판으로 교체했다.\t\"The large buildings around the southern circulation road was aging compared to the surrounding apartments, and the old signboards were replaced with new design signs to harmonize with the surrounding environment.\"\r\n",
            "우리나라는 부품·소재 기업의 역사가 전통의 제조업 국가인 미국·유럽·일본 등에 비해 짧은 만큼 제조기업과 장비기업의 협력이 중요하다고 전문가들은 입을 모은다.\t\"Experts say that cooperation between manufacturing companies and equipment companies is important as the history of parts and materials companies in Korea is shorter than that of the U.S., Europe, and Japan, which are traditional manufacturing countries.\"\r\n",
            "그는 중의원 7선 의원으로 중의원 외무위원장까지 지낸 유력 정치인이었지만 평생 세태와 타협하지 않고 용기 있게 바른 목소리를 냈다.\t\"He was a seven-term lawmaker in the House of Representatives and a leading politician who also served as chairman of the House Foreign Affairs Committee, but he spoke courageously and uprightly without compromising with the world for his entire life.\"\r\n",
            "\"그랜드 앰배서더 서울 풀만 호텔은 과일칩, 육포, 꽃차 및 소금 2종을 담은 ‘맘스핸 종합 세트’를 내놨는데(7만9천원) 개성 있는 선물을 추구하는 이들에게 호응이 좋다.\"\t\"Mom's Han Comprehensive Set (KRW 79,000), containing fruit chips, jerky, flower tea, and two types of salt, was launched by the Grand Ambassador Seoul associated with Pullman Hotel and is popular by those who like unique presents.\"\r\n",
            "이것이 가능하면 저한테 메일로 연락하세요.\tContact me through email if this is possible.\r\n",
            "\n",
            "==> /content/drive/MyDrive/nmt_fold/data1/combined.shuf.valid.tsv <==\n",
            "‘얼짱시대’ 출신 작가 강혁민에게 고소 당한 한서희가 SNS에 여성 우월주의 성향의 인터넷 커뮤니티 ‘워마드(WOMAD)’를 옹호하는 글을 올려 논란이 커지고 있다.\t\"Han Seo-hee, who was accused by writer Kang Hyuk-min from \"\"Ulzzang Era\"\", is on the rise of controversy for posting on SNS in support of the female community's superiority-oriented Internet community \"\"WOMAD\"\".\"\r\n",
            "\"저는 월미 문화관에서 전통 혼례상을 봤는데, 상 위에 살아있는 닭을 봤어요.\"\tI saw a live chicken on the table for a traditional wedding in the Wolmi cultural center.\r\n",
            "‘우상’은 오는 2월 7∼17일 열리는 제69회 베를린영화제 비공식부문인 파노라마 섹션에 초청됐다고 이 영화의 집행위원회가 21일(현지시간) 밝혔다.\t\"The film's executive committee announced on November 21 (local time) that \"\"Idol\"\" was invited to the Panorama section, which is the unofficial section of the 69th Berlin Film Festival, to be held from February 7 to 17.\"\r\n",
            "대학 캠퍼스 내 위치한 공연장은 자유롭고도 여유 있는 젊은이들의 분위기가 물씬 풍기는 곳이기도 해 더욱 설렘을 느끼게 했다.\tThe concert hall on the university campus made it all the more exciting because it is a place that exudes an atmosphere of free and leisurely young people.\r\n",
            "\"암스테르담 음대 역시 OBA도서관과 함께 항만재생 부지에 입지했는데, 암스테르담 음대의 사례를 통해 문화를 중심으로 사람들이 모이도록 하는 항만재생의 중요성을 다시 한 번 확인했다.\"\t\"Amsterdam University of Music was also located along with the OBA library on a port regeneration site. Through this example of the Amsterdam University of Music, the importance of port regeneration, which allows people to gather around culture, has been confirmed once again.\"\r\n",
            "\n",
            "==> /content/drive/MyDrive/nmt_fold/data1/combined.tsv <==\n",
            "﻿'Bible Coloring'은 성경의 아름다운 이야기를 체험 할 수 있는 컬러링 앱입니다.\tBible Coloring' is a coloring application that allows you to experience beautiful stories in the Bible.\r\n",
            "씨티은행에서 일하세요?\tDo you work at a City bank?\r\n",
            "푸리토의 베스트셀러는 해외에서 입소문만으로 4차 완판을 기록하였다.\t\"PURITO's bestseller, which recorded 4th rough -cuts by words of mouth from abroad.\"\r\n",
            "11장에서는 예수님이 이번엔 나사로를 무덤에서 불러내어 죽은 자 가운데서 살리셨습니다.\tIn Chapter 11 Jesus called Lazarus from the tomb and raised him from the dead.\r\n",
            "\"6.5, 7, 8 사이즈가 몇 개나 더 재입고 될지 제게 알려주시면 감사하겠습니다.\"\t\"I would feel grateful to know how many stocks will be secured of size 6.5, 7, and 8.\"\r\n",
            "    202418 /content/drive/MyDrive/nmt_fold/data1/combined.shuf.test.tsv\n",
            "   1200000 /content/drive/MyDrive/nmt_fold/data1/combined.shuf.train.tsv\n",
            "   1602418 /content/drive/MyDrive/nmt_fold/data1/combined.shuf.tsv\n",
            "    200000 /content/drive/MyDrive/nmt_fold/data1/combined.shuf.valid.tsv\n",
            "   1602418 /content/drive/MyDrive/nmt_fold/data1/combined.tsv\n",
            "   4807254 total\n"
          ]
        }
      ]
    },
    {
      "cell_type": "code",
      "source": [
        "!ls -l /content/drive/MyDrive/nmt_fold/data1/"
      ],
      "metadata": {
        "colab": {
          "base_uri": "https://localhost:8080/"
        },
        "id": "WWjca6lmIm_c",
        "outputId": "5a9dba2b-3ef5-414a-a565-f9bd0da66258"
      },
      "execution_count": 7,
      "outputs": [
        {
          "output_type": "stream",
          "name": "stdout",
          "text": [
            "total 1540803\n",
            "-rw------- 1 root root  35448312 Aug 13 05:39 01.txt\n",
            "-rw------- 1 root root  36863298 Aug 13 05:45 02.txt\n",
            "-rw------- 1 root root  20178746 Aug 13 05:46 03.txt\n",
            "-rw------- 1 root root 107751918 Aug 13 05:48 04.txt\n",
            "-rw------- 1 root root  83395820 Aug 13 05:49 05.txt\n",
            "-rw------- 1 root root 113856170 Aug 13 05:50 06.txt\n",
            "-rw------- 1 root root  92307742 Aug 13 05:51 07.txt\n",
            "-rw------- 1 root root  47288970 Aug 13 05:52 08.txt\n",
            "-rw------- 1 root root  60739970 Aug 13 05:53 09.txt\n",
            "-rw------- 1 root root  56909742 Aug 13 05:54 10.txt\n",
            "-rw------- 1 root root 461519736 Aug 13 06:45 combined.shuf.tsv\n",
            "-rw------- 1 root root 461519736 Aug 13 06:31 combined.tsv\n"
          ]
        }
      ]
    },
    {
      "cell_type": "markdown",
      "source": [
        "160만 문장을 섞는다."
      ],
      "metadata": {
        "id": "1u1JJNfzQ-Wj"
      }
    },
    {
      "cell_type": "code",
      "source": [
        "!shuf /content/drive/MyDrive/nmt_fold/data1/combined.tsv > /content/drive/MyDrive/nmt_fold/data1/combined.shuf.tsv"
      ],
      "metadata": {
        "id": "lpkv7hhTKBQB"
      },
      "execution_count": 6,
      "outputs": []
    },
    {
      "cell_type": "markdown",
      "source": [
        "120만개 train,20만개 valid, 202418개 test 나누기"
      ],
      "metadata": {
        "id": "9dn1ywWuRCeB"
      }
    },
    {
      "cell_type": "code",
      "source": [
        "!head -n 1200000 /content/drive/MyDrive/nmt_fold/data1/combined.shuf.tsv >/content/drive/MyDrive/nmt_fold/data1/combined.shuf.train.tsv\n",
        "!tail -n 402418 /content/drive/MyDrive/nmt_fold/data1/combined.shuf.tsv | head -n 200000 > /content/drive/MyDrive/nmt_fold/data1/combined.shuf.valid.tsv\n",
        "!tail -n 202418 /content/drive/MyDrive/nmt_fold/data1/combined.shuf.tsv > /content/drive/MyDrive/nmt_fold/data1/combined.shuf.test.tsv"
      ],
      "metadata": {
        "id": "EAOVbxBwKtzX"
      },
      "execution_count": 9,
      "outputs": []
    },
    {
      "cell_type": "markdown",
      "source": [
        "앞의 column은 한글, 뒤의 column은 영어, 구분해서 파일로 저장"
      ],
      "metadata": {
        "id": "B8b5XiBQRXKj"
      }
    },
    {
      "cell_type": "code",
      "source": [
        "!cut -f1 /content/drive/MyDrive/nmt_fold/data1/combined.shuf.train.tsv > /content/drive/MyDrive/nmt_fold/data1/combined.shuf.train.ko\n",
        "!cut -f2 /content/drive/MyDrive/nmt_fold/data1/combined.shuf.train.tsv > /content/drive/MyDrive/nmt_fold/data1/combined.shuf.train.en\n",
        "!cut -f1 /content/drive/MyDrive/nmt_fold/data1/combined.shuf.test.tsv > /content/drive/MyDrive/nmt_fold/data1/combined.shuf.test.ko\n",
        "!cut -f2 /content/drive/MyDrive/nmt_fold/data1/combined.shuf.test.tsv > /content/drive/MyDrive/nmt_fold/data1/combined.shuf.test.en\n",
        "!cut -f1 /content/drive/MyDrive/nmt_fold/data1/combined.shuf.valid.tsv > /content/drive/MyDrive/nmt_fold/data1/combined.shuf.valid.ko\n",
        "!cut -f2 /content/drive/MyDrive/nmt_fold/data1/combined.shuf.valid.tsv > /content/drive/MyDrive/nmt_fold/data1/combined.shuf.valid.en"
      ],
      "metadata": {
        "id": "jqki1ToMNqqi"
      },
      "execution_count": 11,
      "outputs": []
    },
    {
      "cell_type": "code",
      "source": [
        "!wc -l /content/drive/MyDrive/nmt_fold/data1/combined.shuf.*\n",
        "!head -n 3 /content/drive/MyDrive/nmt_fold/data1/combined.shuf.*.ko\n",
        "!head -n 3 /content/drive/MyDrive/nmt_fold/data1/combined.shuf.*.en"
      ],
      "metadata": {
        "colab": {
          "base_uri": "https://localhost:8080/"
        },
        "id": "iPbjYrr5O3HS",
        "outputId": "0d702eba-e798-4d24-a028-da6c461ebd3f"
      },
      "execution_count": 14,
      "outputs": [
        {
          "output_type": "stream",
          "name": "stdout",
          "text": [
            "    202418 /content/drive/MyDrive/nmt_fold/data1/combined.shuf.test.en\n",
            "    202418 /content/drive/MyDrive/nmt_fold/data1/combined.shuf.test.ko\n",
            "    202418 /content/drive/MyDrive/nmt_fold/data1/combined.shuf.test.tsv\n",
            "   1200000 /content/drive/MyDrive/nmt_fold/data1/combined.shuf.train.en\n",
            "   1200000 /content/drive/MyDrive/nmt_fold/data1/combined.shuf.train.ko\n",
            "   1200000 /content/drive/MyDrive/nmt_fold/data1/combined.shuf.train.tsv\n",
            "   1602418 /content/drive/MyDrive/nmt_fold/data1/combined.shuf.tsv\n",
            "    200000 /content/drive/MyDrive/nmt_fold/data1/combined.shuf.valid.en\n",
            "    200000 /content/drive/MyDrive/nmt_fold/data1/combined.shuf.valid.ko\n",
            "    200000 /content/drive/MyDrive/nmt_fold/data1/combined.shuf.valid.tsv\n",
            "   6409672 total\n",
            "==> /content/drive/MyDrive/nmt_fold/data1/combined.shuf.test.ko <==\n",
            "이곳은 공개공지내 인근 건물에서 자체 조성한 공원이지만 흡연자들이 뿜어대는 무분별한 담배연기가 공원외부 보행로까지 확대되어 시민들의 눈살을 찌뿌리게 한 곳이다.\n",
            "미디헴팬티는 기존에 있는 속옷과 다른 것입니까?\n",
            "이 가을이 다 가기 전에 창덕궁과 희정당을 찾아 그 속에 담긴 시대적인 아픔을 한번 느껴보는 것도 좋을 것 같다.\n",
            "\n",
            "==> /content/drive/MyDrive/nmt_fold/data1/combined.shuf.train.ko <==\n",
            "남부순환로 일대 대형 집합건물은 주변 아파트에 비해 노후화되어 낡은 간판들이 주변 환경과 조화를 이루도록 새로운 디자인의 간판으로 교체했다.\n",
            "우리나라는 부품·소재 기업의 역사가 전통의 제조업 국가인 미국·유럽·일본 등에 비해 짧은 만큼 제조기업과 장비기업의 협력이 중요하다고 전문가들은 입을 모은다.\n",
            "그는 중의원 7선 의원으로 중의원 외무위원장까지 지낸 유력 정치인이었지만 평생 세태와 타협하지 않고 용기 있게 바른 목소리를 냈다.\n",
            "\n",
            "==> /content/drive/MyDrive/nmt_fold/data1/combined.shuf.valid.ko <==\n",
            "‘얼짱시대’ 출신 작가 강혁민에게 고소 당한 한서희가 SNS에 여성 우월주의 성향의 인터넷 커뮤니티 ‘워마드(WOMAD)’를 옹호하는 글을 올려 논란이 커지고 있다.\n",
            "\"저는 월미 문화관에서 전통 혼례상을 봤는데, 상 위에 살아있는 닭을 봤어요.\"\n",
            "‘우상’은 오는 2월 7∼17일 열리는 제69회 베를린영화제 비공식부문인 파노라마 섹션에 초청됐다고 이 영화의 집행위원회가 21일(현지시간) 밝혔다.\n",
            "==> /content/drive/MyDrive/nmt_fold/data1/combined.shuf.test.en <==\n",
            "\"It is a self-created park created by nearby buildings within the open air space, but reckless cigarette smoke spewed by smokers has expanded to pedestrian paths outside the park, which is frowned upon by the citizens.\"\n",
            "Is the midi hem panty different from the original underwear line?\n",
            "\"Before this fall is out, it should also be good to visit Changdeokgung Palace and Heejeongdang and feel the pain of the times reflected in the place.\"\n",
            "\n",
            "==> /content/drive/MyDrive/nmt_fold/data1/combined.shuf.train.en <==\n",
            "\"The large buildings around the southern circulation road was aging compared to the surrounding apartments, and the old signboards were replaced with new design signs to harmonize with the surrounding environment.\"\n",
            "\"Experts say that cooperation between manufacturing companies and equipment companies is important as the history of parts and materials companies in Korea is shorter than that of the U.S., Europe, and Japan, which are traditional manufacturing countries.\"\n",
            "\"He was a seven-term lawmaker in the House of Representatives and a leading politician who also served as chairman of the House Foreign Affairs Committee, but he spoke courageously and uprightly without compromising with the world for his entire life.\"\n",
            "\n",
            "==> /content/drive/MyDrive/nmt_fold/data1/combined.shuf.valid.en <==\n",
            "\"Han Seo-hee, who was accused by writer Kang Hyuk-min from \"\"Ulzzang Era\"\", is on the rise of controversy for posting on SNS in support of the female community's superiority-oriented Internet community \"\"WOMAD\"\".\"\n",
            "I saw a live chicken on the table for a traditional wedding in the Wolmi cultural center.\n",
            "\"The film's executive committee announced on November 21 (local time) that \"\"Idol\"\" was invited to the Panorama section, which is the unofficial section of the 69th Berlin Film Festival, to be held from February 7 to 17.\"\n"
          ]
        }
      ]
    },
    {
      "cell_type": "code",
      "source": [
        "#!chmod +x /content/drive/MyDrive/nmt_fold/code1/install_mecab_linux.sh\n",
        "#!bash /content/drive/MyDrive/nmt_fold/code1/install_mecab_linux.sh\n",
        "\n",
        "# 1) 필수 도구\n",
        "!apt-get -y update\n",
        "!apt-get -y install curl\n",
        "\n",
        "# 2) konlpy 공식 스크립트로 mecab + mecab-ko-dic 설치\n",
        "!bash <(curl -s https://raw.githubusercontent.com/konlpy/konlpy/master/scripts/mecab.sh)\n",
        "\n",
        "# 3) mecabrc의 dicdir 설정(로그에 나온 경로로 맞추기)\n",
        "!sed -i 's|^dicdir =.*|dicdir = /usr/local/lib/mecab/dic/mecab-ko-dic|' /usr/local/etc/mecabrc\n",
        "\n",
        "# 4) 파이썬 라이브러리\n",
        "!pip install konlpy"
      ],
      "metadata": {
        "colab": {
          "base_uri": "https://localhost:8080/"
        },
        "collapsed": true,
        "id": "6LFer0v2O8kU",
        "outputId": "c249b810-7bfa-43a4-b7f7-4322fcfe2d65"
      },
      "execution_count": 18,
      "outputs": [
        {
          "output_type": "stream",
          "name": "stdout",
          "text": [
            "\r0% [Working]\r            \rGet:1 http://security.ubuntu.com/ubuntu jammy-security InRelease [129 kB]\n",
            "\r0% [Waiting for headers] [1 InRelease 0 B/129 kB 0%] [Connecting to cloud.r-pro\r                                                                               \rHit:2 http://archive.ubuntu.com/ubuntu jammy InRelease\n",
            "\r0% [1 InRelease 14.2 kB/129 kB 11%] [Connecting to cloud.r-project.org] [Connec\r                                                                               \rGet:3 http://archive.ubuntu.com/ubuntu jammy-updates InRelease [128 kB]\n",
            "\r0% [3 InRelease 12.7 kB/128 kB 10%] [1 InRelease 22.9 kB/129 kB 18%] [Connectin\r0% [3 InRelease 69.2 kB/128 kB 54%] [Connected to cloud.r-project.org (108.157.\r                                                                               \rGet:4 https://developer.download.nvidia.com/compute/cuda/repos/ubuntu2204/x86_64  InRelease [1,581 B]\n",
            "\r0% [3 InRelease 79.3 kB/128 kB 62%] [Connected to cloud.r-project.org (108.157.\r0% [3 InRelease 79.3 kB/128 kB 62%] [Connected to cloud.r-project.org (108.157.\r0% [Waiting for headers] [Connected to r2u.stat.illinois.edu (192.17.190.167)] \r                                                                               \rGet:5 https://cloud.r-project.org/bin/linux/ubuntu jammy-cran40/ InRelease [3,632 B]\n",
            "Get:6 http://archive.ubuntu.com/ubuntu jammy-backports InRelease [127 kB]\n",
            "Hit:7 https://r2u.stat.illinois.edu/ubuntu jammy InRelease\n",
            "Get:8 http://security.ubuntu.com/ubuntu jammy-security/main amd64 Packages [3,209 kB]\n",
            "Get:9 https://developer.download.nvidia.com/compute/cuda/repos/ubuntu2204/x86_64  Packages [1,929 kB]\n",
            "Hit:10 https://ppa.launchpadcontent.net/deadsnakes/ppa/ubuntu jammy InRelease\n",
            "Hit:11 https://ppa.launchpadcontent.net/graphics-drivers/ppa/ubuntu jammy InRelease\n",
            "Get:12 http://security.ubuntu.com/ubuntu jammy-security/universe amd64 Packages [1,270 kB]\n",
            "Get:13 http://archive.ubuntu.com/ubuntu jammy-updates/universe amd64 Packages [1,575 kB]\n",
            "Get:14 http://security.ubuntu.com/ubuntu jammy-security/restricted amd64 Packages [5,111 kB]\n",
            "Hit:15 https://ppa.launchpadcontent.net/ubuntugis/ppa/ubuntu jammy InRelease\n",
            "Get:16 http://archive.ubuntu.com/ubuntu jammy-updates/main amd64 Packages [3,520 kB]\n",
            "Fetched 17.0 MB in 2s (8,802 kB/s)\n",
            "Reading package lists... Done\n",
            "W: Skipping acquire of configured file 'main/source/Sources' as repository 'https://r2u.stat.illinois.edu/ubuntu jammy InRelease' does not seem to provide it (sources.list entry misspelt?)\n",
            "Reading package lists... Done\n",
            "Building dependency tree... Done\n",
            "Reading state information... Done\n",
            "curl is already the newest version (7.81.0-1ubuntu1.20).\n",
            "0 upgraded, 0 newly installed, 0 to remove and 35 not upgraded.\n",
            "mecab-ko is already installed\n",
            "mecab-ko-dic is already installed\n",
            "Install mecab-python\n",
            "/tmp /content\n",
            "/content\n",
            "Processing /tmp/mecab-python-0.996\n",
            "  \u001b[1;31merror\u001b[0m: \u001b[1msubprocess-exited-with-error\u001b[0m\n",
            "  \n",
            "  \u001b[31m×\u001b[0m \u001b[32mpython setup.py egg_info\u001b[0m did not run successfully.\n",
            "  \u001b[31m│\u001b[0m exit code: \u001b[1;36m1\u001b[0m\n",
            "  \u001b[31m╰─>\u001b[0m See above for output.\n",
            "  \n",
            "  \u001b[1;35mnote\u001b[0m: This error originates from a subprocess, and is likely not a problem with pip.\n",
            "  Preparing metadata (setup.py) ... \u001b[?25l\u001b[?25herror\n",
            "\u001b[1;31merror\u001b[0m: \u001b[1mmetadata-generation-failed\u001b[0m\n",
            "\n",
            "\u001b[31m×\u001b[0m Encountered error while generating package metadata.\n",
            "\u001b[31m╰─>\u001b[0m See above for output.\n",
            "\n",
            "\u001b[1;35mnote\u001b[0m: This is an issue with the package mentioned above, not pip.\n",
            "\u001b[1;36mhint\u001b[0m: See above for details.\n",
            "Collecting konlpy\n",
            "  Downloading konlpy-0.6.0-py2.py3-none-any.whl.metadata (1.9 kB)\n",
            "Collecting JPype1>=0.7.0 (from konlpy)\n",
            "  Downloading jpype1-1.6.0-cp311-cp311-manylinux2014_x86_64.manylinux_2_17_x86_64.whl.metadata (5.0 kB)\n",
            "Requirement already satisfied: lxml>=4.1.0 in /usr/local/lib/python3.11/dist-packages (from konlpy) (5.4.0)\n",
            "Requirement already satisfied: numpy>=1.6 in /usr/local/lib/python3.11/dist-packages (from konlpy) (2.0.2)\n",
            "Requirement already satisfied: packaging in /usr/local/lib/python3.11/dist-packages (from JPype1>=0.7.0->konlpy) (25.0)\n",
            "Downloading konlpy-0.6.0-py2.py3-none-any.whl (19.4 MB)\n",
            "\u001b[2K   \u001b[90m━━━━━━━━━━━━━━━━━━━━━━━━━━━━━━━━━━━━━━━━\u001b[0m \u001b[32m19.4/19.4 MB\u001b[0m \u001b[31m58.4 MB/s\u001b[0m eta \u001b[36m0:00:00\u001b[0m\n",
            "\u001b[?25hDownloading jpype1-1.6.0-cp311-cp311-manylinux2014_x86_64.manylinux_2_17_x86_64.whl (496 kB)\n",
            "\u001b[2K   \u001b[90m━━━━━━━━━━━━━━━━━━━━━━━━━━━━━━━━━━━━━━━━\u001b[0m \u001b[32m496.6/496.6 kB\u001b[0m \u001b[31m37.8 MB/s\u001b[0m eta \u001b[36m0:00:00\u001b[0m\n",
            "\u001b[?25hInstalling collected packages: JPype1, konlpy\n",
            "Successfully installed JPype1-1.6.0 konlpy-0.6.0\n"
          ]
        }
      ]
    },
    {
      "cell_type": "markdown",
      "source": [
        "mecab 설치 확인하기"
      ],
      "metadata": {
        "id": "Ncce1cI6Wc4k"
      }
    },
    {
      "cell_type": "code",
      "source": [
        "!mecab -D | head -n 20"
      ],
      "metadata": {
        "id": "61ZRxMyjV7ep",
        "outputId": "cd50ff2c-edf3-46da-9e21-7eca45de8121",
        "colab": {
          "base_uri": "https://localhost:8080/"
        }
      },
      "execution_count": 19,
      "outputs": [
        {
          "output_type": "stream",
          "name": "stdout",
          "text": [
            "filename:\t/usr/local/lib/mecab/dic/mecab-ko-dic/sys.dic\n",
            "version:\t102\n",
            "charset:\tUTF-8\n",
            "type:\t0\n",
            "size:\t816283\n",
            "left size:\t3822\n",
            "right size:\t2693\n",
            "\n"
          ]
        }
      ]
    },
    {
      "cell_type": "code",
      "source": [
        "!head -n 5 /content/drive/MyDrive/nmt_fold/data1/combined.shuf.train.ko | mecab -O wakati"
      ],
      "metadata": {
        "id": "gbLea9X1WgDS",
        "outputId": "f6bee0f2-430d-4691-e437-f79590947177",
        "colab": {
          "base_uri": "https://localhost:8080/"
        }
      },
      "execution_count": 21,
      "outputs": [
        {
          "output_type": "stream",
          "name": "stdout",
          "text": [
            "남부 순환 로 일대 대형 집합 건물 은 주변 아파트 에 비해 노후 화 되 어 낡 은 간판 들 이 주변 환경 과 조화 를 이루 도록 새로운 디자인 의 간판 으로 교체 했 다 . \n",
            "우리 나라 는 부품 · 소재 기업 의 역사 가 전통 의 제조업 국가 인 미국 · 유럽 · 일본 등 에 비해 짧 은 만큼 제조 기업 과 장비 기업 의 협력 이 중요 하 다고 전문가 들 은 입 을 모은다 . \n",
            "그 는 중의원 7 선 의원 으로 중의원 외무 위원장 까지 지낸 유력 정치인 이 었 지만 평생 세태 와 타협 하 지 않 고 용기 있 게 바른 목소리 를 냈 다 . \n",
            "\" 그랜드 앰배서더 서울 풀 만 호텔 은 과일 칩 , 육포 , 꽃차 및 소금 2 종 을 담 은 ‘ 맘 스 핸 종합 세트 ’ 를 내놨 는데 ( 7 만 9 천 원 ) 개성 있 는 선물 을 추구 하 는 이 들 에게 호응 이 좋 다 . \" \n",
            "이것 이 가능 하 면 저 한테 메일 로 연락 하 세요 . \n"
          ]
        }
      ]
    },
    {
      "cell_type": "code",
      "source": [
        "!cat /content/drive/MyDrive/nmt_fold/data1/combined.shuf.train.ko | mecab -O wakati -b 99999  | python /content/drive/MyDrive/nmt_fold/code1/post_tokenize.py /content/drive/MyDrive/nmt_fold/data1/combined.shuf.train.ko > /content/drive/MyDrive/nmt_fold/data1/combined.shuf.train.tok.ko\n",
        "!cat /content/drive/MyDrive/nmt_fold/data1/combined.shuf.test.ko | mecab -O wakati -b 99999  | python /content/drive/MyDrive/nmt_fold/code1/post_tokenize.py /content/drive/MyDrive/nmt_fold/data1/combined.shuf.test.ko > /content/drive/MyDrive/nmt_fold/data1/combined.shuf.test.tok.ko\n",
        "!cat /content/drive/MyDrive/nmt_fold/data1/combined.shuf.valid.ko | mecab -O wakati -b 99999  | python /content/drive/MyDrive/nmt_fold/code1/post_tokenize.py /content/drive/MyDrive/nmt_fold/data1/combined.shuf.valid.ko > /content/drive/MyDrive/nmt_fold/data1/combined.shuf.valid.tok.ko\n"
      ],
      "metadata": {
        "id": "mwTI2-NqYoY7"
      },
      "execution_count": 24,
      "outputs": []
    },
    {
      "cell_type": "code",
      "source": [
        "!head -n 5 /content/drive/MyDrive/nmt_fold/data1/combined.shuf.train.tok.ko\n",
        "!head -n 5 /content/drive/MyDrive/nmt_fold/data1/combined.shuf.test.tok.ko\n",
        "!head -n 5 /content/drive/MyDrive/nmt_fold/data1/combined.shuf.valid.tok.ko\n"
      ],
      "metadata": {
        "id": "f8Z6D95KaKE0",
        "outputId": "94105a4a-be0a-4ad5-a37f-39ed86363f9f",
        "colab": {
          "base_uri": "https://localhost:8080/"
        }
      },
      "execution_count": 27,
      "outputs": [
        {
          "output_type": "stream",
          "name": "stdout",
          "text": [
            "▁‘ 얼짱 시대 ’ ▁출신 ▁작가 ▁강혁민 에게 ▁고소 ▁당한 ▁한서희 가 ▁SNS 에 ▁여성 ▁우월주의 ▁성향 의 ▁인터넷 ▁커뮤니티 ▁‘ 워 마드 ( WOMAD ) ’ 를 ▁옹호 하 는 ▁글 을 ▁올려 ▁논란 이 ▁커지 고 ▁있 다 .\n",
            "▁\" 저 는 ▁월미 ▁문화 관 에서 ▁전통 ▁혼례상 을 ▁봤 는데 , ▁상 ▁위 에 ▁살 아 있 는 ▁닭 을 ▁봤 어요 . \"\n",
            "▁‘ 우상 ’ 은 ▁오 는 ▁2 월 ▁7 ∼ 17 일 ▁열리 는 ▁제 69 회 ▁베를린 영화제 ▁비 공식 부문 인 ▁파노라마 ▁섹션 에 ▁초청 됐 다고 ▁이 ▁영화 의 ▁집행 위원회 가 ▁21 일 ( 현지 시간 ) ▁밝혔 다 .\n",
            "▁대학 ▁캠퍼스 ▁내 ▁위치 한 ▁공연장 은 ▁자유 롭 고 도 ▁여유 ▁있 는 ▁젊은이 들 의 ▁분위기 가 ▁물씬 ▁풍기 는 ▁곳 이 기 도 ▁해 ▁더욱 ▁설렘 을 ▁느끼 게 ▁했 다 .\n",
            "▁\" 암스테르담 ▁음대 ▁역시 ▁OBA 도서관 과 ▁함께 ▁항만 재생 ▁부지 에 ▁입 지 했 는데 , ▁암스테르담 ▁음대 의 ▁사례 를 ▁통해 ▁문화 를 ▁중심 으로 ▁사람 들 이 ▁모이 도록 ▁하 는 ▁항만 재생 의 ▁중요 성 을 ▁다시 ▁한 ▁번 ▁확인 했 다 . \"\n"
          ]
        }
      ]
    }
  ]
}