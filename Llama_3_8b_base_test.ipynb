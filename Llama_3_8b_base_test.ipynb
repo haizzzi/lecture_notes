{
  "cells": [
    {
      "cell_type": "markdown",
      "metadata": {
        "id": "view-in-github",
        "colab_type": "text"
      },
      "source": [
        "<a href=\"https://colab.research.google.com/github/haizzzi/lecture_notes/blob/main/Llama_3_8b_base_test.ipynb\" target=\"_parent\"><img src=\"https://colab.research.google.com/assets/colab-badge.svg\" alt=\"Open In Colab\"/></a>"
      ]
    },
    {
      "cell_type": "code",
      "execution_count": null,
      "metadata": {
        "id": "_PtQlfXIwTev"
      },
      "outputs": [],
      "source": [
        "# 0) 런타임: GPU(T4) 선택\n",
        "# 1) 필수 패키지 설치\n",
        "!pip -q install -U transformers accelerate bitsandbytes sentencepiece\n",
        "\n"
      ]
    },
    {
      "cell_type": "code",
      "execution_count": null,
      "metadata": {
        "id": "mqba7cfdwZNj"
      },
      "outputs": [],
      "source": [
        "# 2) (한번만) 허깅페이스 로그인\n",
        "from huggingface_hub import login\n",
        "login(\"hf_\")  # 이러면 위젯 출력이 안 남음\n"
      ]
    },
    {
      "cell_type": "code",
      "execution_count": null,
      "metadata": {
        "id": "OO8wvgIqwd7D"
      },
      "outputs": [],
      "source": [
        "import os\n",
        "import torch\n",
        "from transformers import AutoModelForCausalLM, AutoTokenizer, BitsAndBytesConfig\n",
        "\n",
        "# 캐시 경로 설정\n",
        "cache_dir = \"/content/drive/MyDrive/huggingface_cache\"\n",
        "os.environ[\"HF_HOME\"] = \"/content/drive/MyDrive/huggingface_cache\"   # 환경변수도 동일하게 지정\n",
        "os.environ[\"HF_TOKEN\"] = \"hf_\"   # 필요 시 Hugging Face 토큰\n",
        "\n",
        "# 모델 ID\n",
        "model_id = \"meta-llama/Llama-3.1-8B\"\n",
        "\n",
        "# 4bit 양자화 설정\n",
        "bnb_config = BitsAndBytesConfig(\n",
        "    load_in_4bit=True,\n",
        "    bnb_4bit_use_double_quant=True,\n",
        "    bnb_4bit_quant_type=\"nf4\",       # nf4 권장\n",
        "    bnb_4bit_compute_dtype=torch.bfloat16\n",
        ")\n",
        "\n",
        "# 토크나이저 로드\n",
        "tok = AutoTokenizer.from_pretrained(\n",
        "    model_id,\n",
        "    use_fast=True,\n",
        "    cache_dir=cache_dir\n",
        ")\n",
        "\n",
        "# 모델 로드\n",
        "model = AutoModelForCausalLM.from_pretrained(\n",
        "    model_id,\n",
        "    quantization_config=bnb_config,\n",
        "    device_map=\"auto\",\n",
        "    torch_dtype=torch.bfloat16,  # bf16 권장\n",
        "    cache_dir=cache_dir\n",
        ")\n",
        "\n"
      ]
    },
    {
      "cell_type": "code",
      "execution_count": null,
      "metadata": {
        "id": "M0RRZKmpwfrL"
      },
      "outputs": [],
      "source": [
        "# 4) 간단 생성\n",
        "prompt = \"Hi. this is a new system of ai.\"\n",
        "inputs = tok(prompt, return_tensors=\"pt\").to(model.device)\n",
        "with torch.inference_mode():\n",
        "    out = model.generate(\n",
        "        **inputs,\n",
        "        max_new_tokens=120,\n",
        "        temperature=0.7,\n",
        "        top_p=0.95,\n",
        "        do_sample=True,\n",
        "        pad_token_id=tok.eos_token_id\n",
        "    )\n",
        "print(tok.decode(out[0], skip_special_tokens=True))\n"
      ]
    }
  ],
  "metadata": {
    "accelerator": "GPU",
    "colab": {
      "gpuType": "T4",
      "provenance": [],
      "mount_file_id": "https://github.com/haizzzi/lecture_notes/blob/main/Llama_3_8b_base_test.ipynb",
      "authorship_tag": "ABX9TyOcoeNo4BApcgFBWEROtWi/",
      "include_colab_link": true
    },
    "kernelspec": {
      "display_name": "Python 3",
      "name": "python3"
    },
    "language_info": {
      "name": "python"
    }
  },
  "nbformat": 4,
  "nbformat_minor": 0
}