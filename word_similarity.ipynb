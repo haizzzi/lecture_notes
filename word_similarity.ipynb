{
  "cells": [
    {
      "cell_type": "markdown",
      "metadata": {
        "id": "view-in-github",
        "colab_type": "text"
      },
      "source": [
        "<a href=\"https://colab.research.google.com/github/haizzzi/lecture_notes/blob/main/word_similarity.ipynb\" target=\"_parent\"><img src=\"https://colab.research.google.com/assets/colab-badge.svg\" alt=\"Open In Colab\"/></a>"
      ]
    },
    {
      "cell_type": "markdown",
      "metadata": {
        "id": "OvlaVj3XhV--"
      },
      "source": [
        "# Based on Context Window (Co-occurrence)"
      ]
    },
    {
      "cell_type": "code",
      "source": [
        "from google.colab import drive\n",
        "drive.mount('/content/drive')"
      ],
      "metadata": {
        "id": "E9pI2PfeCfE6",
        "outputId": "252cebb2-4e0c-4303-f937-a1cc89b27ca1",
        "colab": {
          "base_uri": "https://localhost:8080/"
        }
      },
      "execution_count": 1,
      "outputs": [
        {
          "output_type": "stream",
          "name": "stdout",
          "text": [
            "Mounted at /content/drive\n"
          ]
        }
      ]
    },
    {
      "cell_type": "code",
      "execution_count": 2,
      "metadata": {
        "id": "FzXkND2ohV-_"
      },
      "outputs": [],
      "source": [
        "import pandas as pd\n",
        "from collections import defaultdict"
      ]
    },
    {
      "cell_type": "markdown",
      "metadata": {
        "id": "7w-RNa-MhV_A"
      },
      "source": [
        "## Read text"
      ]
    },
    {
      "cell_type": "code",
      "execution_count": 3,
      "metadata": {
        "id": "lc8aV4vQhV_A"
      },
      "outputs": [],
      "source": [
        "with open('/content/drive/MyDrive/nmt_fold/preproc/word_similarity/review.sorted.uniq.refined.tsv.text.tok') as f:\n",
        "    lines = [l.strip() for l in f.read().splitlines() if l.strip()]"
      ]
    },
    {
      "cell_type": "markdown",
      "metadata": {
        "id": "B3wDeeJ-hV_A"
      },
      "source": [
        "## Define methods"
      ]
    },
    {
      "cell_type": "code",
      "execution_count": 4,
      "metadata": {
        "id": "SXhZ19RQhV_A"
      },
      "outputs": [],
      "source": [
        "def get_term_frequency(document):\n",
        "    term_freq = {}\n",
        "\n",
        "    words = document.split()\n",
        "\n",
        "    for w in words:\n",
        "        term_freq[w] = 1 + (0 if term_freq.get(w) is None else term_freq[w])\n",
        "\n",
        "    return term_freq"
      ]
    },
    {
      "cell_type": "code",
      "execution_count": 5,
      "metadata": {
        "id": "DN3bBjZEhV_B"
      },
      "outputs": [],
      "source": [
        "def get_context_counts(lines, vocab, w_size=2):\n",
        "    context_cnt = defaultdict(int)\n",
        "\n",
        "    for line in lines:\n",
        "        words = line.split()\n",
        "\n",
        "        for i, w in enumerate(words):\n",
        "            if w in vocab:\n",
        "                for c in words[i - w_size:i + w_size]:\n",
        "                    if w != c:\n",
        "                        context_cnt[(w, c)] += 1\n",
        "\n",
        "    return context_cnt"
      ]
    },
    {
      "cell_type": "code",
      "execution_count": 6,
      "metadata": {
        "id": "5RuYIcuXhV_B"
      },
      "outputs": [],
      "source": [
        "def get_co_occurrence_df(context_cnt, vocab):\n",
        "    data = []\n",
        "\n",
        "    for word1 in vocab:\n",
        "        row = []\n",
        "\n",
        "        for word2 in vocab:\n",
        "            try:\n",
        "                count = context_cnt[(word1, word2)]\n",
        "            except KeyError:\n",
        "                count = 0\n",
        "            row.append(count)\n",
        "\n",
        "        data.append(row)\n",
        "\n",
        "    return pd.DataFrame(data, index=vocab, columns=vocab)"
      ]
    },
    {
      "cell_type": "markdown",
      "metadata": {
        "id": "EU_g0HH5hV_B"
      },
      "source": [
        "## Call methods"
      ]
    },
    {
      "cell_type": "markdown",
      "metadata": {
        "id": "vm_XwNYohV_C"
      },
      "source": [
        "Count frequency of each word."
      ]
    },
    {
      "cell_type": "code",
      "execution_count": 7,
      "metadata": {
        "scrolled": true,
        "id": "yao6mKVrhV_C",
        "outputId": "ef7bd728-24b0-427e-88e4-e4ee06af37cd",
        "colab": {
          "base_uri": "https://localhost:8080/",
          "height": 458
        }
      },
      "outputs": [
        {
          "output_type": "execute_result",
          "data": {
            "text/plain": [
              ".                      86303\n",
              "고                      49631\n",
              "이                      44952\n",
              "하                      42916\n",
              "좋                      34589\n",
              "                       ...  \n",
              "름도찜통더위라는데우선은걱정이덜되네용        1\n",
              "ㆍㅈㄱㅈㄱㅊㅂㄷㅂ                  1\n",
              "븝                          1\n",
              "어옹                         1\n",
              "ㅇ유                         1\n",
              "Length: 30084, dtype: int64"
            ],
            "text/html": [
              "<div>\n",
              "<style scoped>\n",
              "    .dataframe tbody tr th:only-of-type {\n",
              "        vertical-align: middle;\n",
              "    }\n",
              "\n",
              "    .dataframe tbody tr th {\n",
              "        vertical-align: top;\n",
              "    }\n",
              "\n",
              "    .dataframe thead th {\n",
              "        text-align: right;\n",
              "    }\n",
              "</style>\n",
              "<table border=\"1\" class=\"dataframe\">\n",
              "  <thead>\n",
              "    <tr style=\"text-align: right;\">\n",
              "      <th></th>\n",
              "      <th>0</th>\n",
              "    </tr>\n",
              "  </thead>\n",
              "  <tbody>\n",
              "    <tr>\n",
              "      <th>.</th>\n",
              "      <td>86303</td>\n",
              "    </tr>\n",
              "    <tr>\n",
              "      <th>고</th>\n",
              "      <td>49631</td>\n",
              "    </tr>\n",
              "    <tr>\n",
              "      <th>이</th>\n",
              "      <td>44952</td>\n",
              "    </tr>\n",
              "    <tr>\n",
              "      <th>하</th>\n",
              "      <td>42916</td>\n",
              "    </tr>\n",
              "    <tr>\n",
              "      <th>좋</th>\n",
              "      <td>34589</td>\n",
              "    </tr>\n",
              "    <tr>\n",
              "      <th>...</th>\n",
              "      <td>...</td>\n",
              "    </tr>\n",
              "    <tr>\n",
              "      <th>름도찜통더위라는데우선은걱정이덜되네용</th>\n",
              "      <td>1</td>\n",
              "    </tr>\n",
              "    <tr>\n",
              "      <th>ㆍㅈㄱㅈㄱㅊㅂㄷㅂ</th>\n",
              "      <td>1</td>\n",
              "    </tr>\n",
              "    <tr>\n",
              "      <th>븝</th>\n",
              "      <td>1</td>\n",
              "    </tr>\n",
              "    <tr>\n",
              "      <th>어옹</th>\n",
              "      <td>1</td>\n",
              "    </tr>\n",
              "    <tr>\n",
              "      <th>ㅇ유</th>\n",
              "      <td>1</td>\n",
              "    </tr>\n",
              "  </tbody>\n",
              "</table>\n",
              "<p>30084 rows × 1 columns</p>\n",
              "</div><br><label><b>dtype:</b> int64</label>"
            ]
          },
          "metadata": {},
          "execution_count": 7
        }
      ],
      "source": [
        "term_freq = pd.Series(\n",
        "    get_term_frequency(' '.join(lines))\n",
        ").sort_values(ascending=False)\n",
        "\n",
        "term_freq"
      ]
    },
    {
      "cell_type": "code",
      "execution_count": 8,
      "metadata": {
        "id": "UjFkwBdzhV_C"
      },
      "outputs": [],
      "source": [
        "vector_size = 800"
      ]
    },
    {
      "cell_type": "markdown",
      "metadata": {
        "id": "NCFjOnn7hV_D"
      },
      "source": [
        "Because most of words are seen only few times, we don't need all of them.<br>\n",
        "Thus, we can truncate low-frequency words."
      ]
    },
    {
      "cell_type": "code",
      "execution_count": 9,
      "metadata": {
        "id": "bKYN7H9lhV_D",
        "outputId": "fbaed311-b47a-4f8d-bfc1-ab91c33cdebd",
        "colab": {
          "base_uri": "https://localhost:8080/"
        }
      },
      "outputs": [
        {
          "output_type": "execute_result",
          "data": {
            "text/plain": [
              "Index(['.', '고', '이', '하', '좋', '네요', '도', '에', '는', '가',\n",
              "       ...\n",
              "       '한쪽', '엄마', '가을', '마', 'ㅁ', '요청', '국산', '보풀', '세일', '싸구려'],\n",
              "      dtype='object', length=800)"
            ]
          },
          "metadata": {},
          "execution_count": 9
        }
      ],
      "source": [
        "term_freq.index[:vector_size]"
      ]
    },
    {
      "cell_type": "markdown",
      "metadata": {
        "id": "QqxfmpxOhV_D"
      },
      "source": [
        "Now, we count with context windowing based on truncated dictionary."
      ]
    },
    {
      "cell_type": "code",
      "execution_count": 10,
      "metadata": {
        "id": "WiNKGgajhV_D",
        "outputId": "f52a905c-ecc5-48a1-a48b-8a0fce2ebd97",
        "colab": {
          "base_uri": "https://localhost:8080/",
          "height": 458
        }
      },
      "outputs": [
        {
          "output_type": "execute_result",
          "data": {
            "text/plain": [
              "라고  비지떡     31\n",
              "    \".       1\n",
              "    200      2\n",
              "    ml       5\n",
              "    판매      16\n",
              "          ... \n",
              "았   ㅍ        1\n",
              "감사  ㅍㅍ       2\n",
              "고   수수     106\n",
              "수고  수수     212\n",
              "    고수       3\n",
              "Length: 1047278, dtype: int64"
            ],
            "text/html": [
              "<div>\n",
              "<style scoped>\n",
              "    .dataframe tbody tr th:only-of-type {\n",
              "        vertical-align: middle;\n",
              "    }\n",
              "\n",
              "    .dataframe tbody tr th {\n",
              "        vertical-align: top;\n",
              "    }\n",
              "\n",
              "    .dataframe thead th {\n",
              "        text-align: right;\n",
              "    }\n",
              "</style>\n",
              "<table border=\"1\" class=\"dataframe\">\n",
              "  <thead>\n",
              "    <tr style=\"text-align: right;\">\n",
              "      <th></th>\n",
              "      <th></th>\n",
              "      <th>0</th>\n",
              "    </tr>\n",
              "  </thead>\n",
              "  <tbody>\n",
              "    <tr>\n",
              "      <th rowspan=\"5\" valign=\"top\">라고</th>\n",
              "      <th>비지떡</th>\n",
              "      <td>31</td>\n",
              "    </tr>\n",
              "    <tr>\n",
              "      <th>\".</th>\n",
              "      <td>1</td>\n",
              "    </tr>\n",
              "    <tr>\n",
              "      <th>200</th>\n",
              "      <td>2</td>\n",
              "    </tr>\n",
              "    <tr>\n",
              "      <th>ml</th>\n",
              "      <td>5</td>\n",
              "    </tr>\n",
              "    <tr>\n",
              "      <th>판매</th>\n",
              "      <td>16</td>\n",
              "    </tr>\n",
              "    <tr>\n",
              "      <th>...</th>\n",
              "      <th>...</th>\n",
              "      <td>...</td>\n",
              "    </tr>\n",
              "    <tr>\n",
              "      <th>았</th>\n",
              "      <th>ㅍ</th>\n",
              "      <td>1</td>\n",
              "    </tr>\n",
              "    <tr>\n",
              "      <th>감사</th>\n",
              "      <th>ㅍㅍ</th>\n",
              "      <td>2</td>\n",
              "    </tr>\n",
              "    <tr>\n",
              "      <th>고</th>\n",
              "      <th>수수</th>\n",
              "      <td>106</td>\n",
              "    </tr>\n",
              "    <tr>\n",
              "      <th rowspan=\"2\" valign=\"top\">수고</th>\n",
              "      <th>수수</th>\n",
              "      <td>212</td>\n",
              "    </tr>\n",
              "    <tr>\n",
              "      <th>고수</th>\n",
              "      <td>3</td>\n",
              "    </tr>\n",
              "  </tbody>\n",
              "</table>\n",
              "<p>1047278 rows × 1 columns</p>\n",
              "</div><br><label><b>dtype:</b> int64</label>"
            ]
          },
          "metadata": {},
          "execution_count": 10
        }
      ],
      "source": [
        "context_cnt = pd.Series(\n",
        "    get_context_counts(\n",
        "        lines,\n",
        "        term_freq.index[:vector_size],\n",
        "        w_size=4\n",
        "    )\n",
        ")\n",
        "\n",
        "context_cnt"
      ]
    },
    {
      "cell_type": "markdown",
      "metadata": {
        "id": "mIn6qVgkhV_D"
      },
      "source": [
        "Build Pandas DataFrame with given context-windowing result."
      ]
    },
    {
      "cell_type": "code",
      "execution_count": 11,
      "metadata": {
        "scrolled": true,
        "id": "VzlPYLdYhV_D",
        "outputId": "ca1849fb-564d-4453-960c-1980ca049bd2",
        "colab": {
          "base_uri": "https://localhost:8080/",
          "height": 423
        }
      },
      "outputs": [
        {
          "output_type": "execute_result",
          "data": {
            "text/plain": [
              "         .      고      이      하     좋     네요      도     에     는     가  ...  \\\n",
              ".        0   9200  11111   9760  8211  14149   7929  6816  5063  5321  ...   \n",
              "고     8762      0   4682  13988  7102   3398  15105  3634  3142  2426  ...   \n",
              "이    10028   4767      0   3377  2854   6044   2169  3326  4554  2224  ...   \n",
              "하     9051  13688   3625      0  3654   5694   4859  2738  5121  1925  ...   \n",
              "좋     8096   8274   2990   3881     0   5551   5104  1636  1194  1210  ...   \n",
              "..     ...    ...    ...    ...   ...    ...    ...   ...   ...   ...  ...   \n",
              "요청      68     29     18     59     1     11     17    33     4    14  ...   \n",
              "국산      49     20     94     12    10     11     12    11     8     7  ...   \n",
              "보풀      54     46    124     23    14     36     26    38    22     6  ...   \n",
              "세일      37     25     22     50    12     13     10    22    18     5  ...   \n",
              "싸구려     66     31     39     15    14     31     24    14    28    25  ...   \n",
              "\n",
              "      한쪽  엄마  가을   마   ㅁ  요청   국산   보풀  세일  싸구려  \n",
              ".     41  45  63  30  14  68   44   61  35   85  \n",
              "고     62  15  26  47  17  30   23   41  18   30  \n",
              "이    140  18  35  21  12  14  101  128  51   42  \n",
              "하     19  40   9  30  20  63   13   18  60   15  \n",
              "좋      0  28  33   9  23   0   15   11  10   13  \n",
              "..   ...  ..  ..  ..  ..  ..  ...  ...  ..  ...  \n",
              "요청     0   0   0   0   0   0    0    0   0    0  \n",
              "국산     0   0   0   0   0   0    0    0  31    1  \n",
              "보풀     0   0   0   0   0   0    0    0   0    0  \n",
              "세일     0   0   0   0   0   0   22    0   0    0  \n",
              "싸구려    0   0   0   0   0   0    1    0   0    0  \n",
              "\n",
              "[800 rows x 800 columns]"
            ],
            "text/html": [
              "\n",
              "  <div id=\"df-4db97b85-7949-412b-9e85-b2fb49fc2144\" class=\"colab-df-container\">\n",
              "    <div>\n",
              "<style scoped>\n",
              "    .dataframe tbody tr th:only-of-type {\n",
              "        vertical-align: middle;\n",
              "    }\n",
              "\n",
              "    .dataframe tbody tr th {\n",
              "        vertical-align: top;\n",
              "    }\n",
              "\n",
              "    .dataframe thead th {\n",
              "        text-align: right;\n",
              "    }\n",
              "</style>\n",
              "<table border=\"1\" class=\"dataframe\">\n",
              "  <thead>\n",
              "    <tr style=\"text-align: right;\">\n",
              "      <th></th>\n",
              "      <th>.</th>\n",
              "      <th>고</th>\n",
              "      <th>이</th>\n",
              "      <th>하</th>\n",
              "      <th>좋</th>\n",
              "      <th>네요</th>\n",
              "      <th>도</th>\n",
              "      <th>에</th>\n",
              "      <th>는</th>\n",
              "      <th>가</th>\n",
              "      <th>...</th>\n",
              "      <th>한쪽</th>\n",
              "      <th>엄마</th>\n",
              "      <th>가을</th>\n",
              "      <th>마</th>\n",
              "      <th>ㅁ</th>\n",
              "      <th>요청</th>\n",
              "      <th>국산</th>\n",
              "      <th>보풀</th>\n",
              "      <th>세일</th>\n",
              "      <th>싸구려</th>\n",
              "    </tr>\n",
              "  </thead>\n",
              "  <tbody>\n",
              "    <tr>\n",
              "      <th>.</th>\n",
              "      <td>0</td>\n",
              "      <td>9200</td>\n",
              "      <td>11111</td>\n",
              "      <td>9760</td>\n",
              "      <td>8211</td>\n",
              "      <td>14149</td>\n",
              "      <td>7929</td>\n",
              "      <td>6816</td>\n",
              "      <td>5063</td>\n",
              "      <td>5321</td>\n",
              "      <td>...</td>\n",
              "      <td>41</td>\n",
              "      <td>45</td>\n",
              "      <td>63</td>\n",
              "      <td>30</td>\n",
              "      <td>14</td>\n",
              "      <td>68</td>\n",
              "      <td>44</td>\n",
              "      <td>61</td>\n",
              "      <td>35</td>\n",
              "      <td>85</td>\n",
              "    </tr>\n",
              "    <tr>\n",
              "      <th>고</th>\n",
              "      <td>8762</td>\n",
              "      <td>0</td>\n",
              "      <td>4682</td>\n",
              "      <td>13988</td>\n",
              "      <td>7102</td>\n",
              "      <td>3398</td>\n",
              "      <td>15105</td>\n",
              "      <td>3634</td>\n",
              "      <td>3142</td>\n",
              "      <td>2426</td>\n",
              "      <td>...</td>\n",
              "      <td>62</td>\n",
              "      <td>15</td>\n",
              "      <td>26</td>\n",
              "      <td>47</td>\n",
              "      <td>17</td>\n",
              "      <td>30</td>\n",
              "      <td>23</td>\n",
              "      <td>41</td>\n",
              "      <td>18</td>\n",
              "      <td>30</td>\n",
              "    </tr>\n",
              "    <tr>\n",
              "      <th>이</th>\n",
              "      <td>10028</td>\n",
              "      <td>4767</td>\n",
              "      <td>0</td>\n",
              "      <td>3377</td>\n",
              "      <td>2854</td>\n",
              "      <td>6044</td>\n",
              "      <td>2169</td>\n",
              "      <td>3326</td>\n",
              "      <td>4554</td>\n",
              "      <td>2224</td>\n",
              "      <td>...</td>\n",
              "      <td>140</td>\n",
              "      <td>18</td>\n",
              "      <td>35</td>\n",
              "      <td>21</td>\n",
              "      <td>12</td>\n",
              "      <td>14</td>\n",
              "      <td>101</td>\n",
              "      <td>128</td>\n",
              "      <td>51</td>\n",
              "      <td>42</td>\n",
              "    </tr>\n",
              "    <tr>\n",
              "      <th>하</th>\n",
              "      <td>9051</td>\n",
              "      <td>13688</td>\n",
              "      <td>3625</td>\n",
              "      <td>0</td>\n",
              "      <td>3654</td>\n",
              "      <td>5694</td>\n",
              "      <td>4859</td>\n",
              "      <td>2738</td>\n",
              "      <td>5121</td>\n",
              "      <td>1925</td>\n",
              "      <td>...</td>\n",
              "      <td>19</td>\n",
              "      <td>40</td>\n",
              "      <td>9</td>\n",
              "      <td>30</td>\n",
              "      <td>20</td>\n",
              "      <td>63</td>\n",
              "      <td>13</td>\n",
              "      <td>18</td>\n",
              "      <td>60</td>\n",
              "      <td>15</td>\n",
              "    </tr>\n",
              "    <tr>\n",
              "      <th>좋</th>\n",
              "      <td>8096</td>\n",
              "      <td>8274</td>\n",
              "      <td>2990</td>\n",
              "      <td>3881</td>\n",
              "      <td>0</td>\n",
              "      <td>5551</td>\n",
              "      <td>5104</td>\n",
              "      <td>1636</td>\n",
              "      <td>1194</td>\n",
              "      <td>1210</td>\n",
              "      <td>...</td>\n",
              "      <td>0</td>\n",
              "      <td>28</td>\n",
              "      <td>33</td>\n",
              "      <td>9</td>\n",
              "      <td>23</td>\n",
              "      <td>0</td>\n",
              "      <td>15</td>\n",
              "      <td>11</td>\n",
              "      <td>10</td>\n",
              "      <td>13</td>\n",
              "    </tr>\n",
              "    <tr>\n",
              "      <th>...</th>\n",
              "      <td>...</td>\n",
              "      <td>...</td>\n",
              "      <td>...</td>\n",
              "      <td>...</td>\n",
              "      <td>...</td>\n",
              "      <td>...</td>\n",
              "      <td>...</td>\n",
              "      <td>...</td>\n",
              "      <td>...</td>\n",
              "      <td>...</td>\n",
              "      <td>...</td>\n",
              "      <td>...</td>\n",
              "      <td>...</td>\n",
              "      <td>...</td>\n",
              "      <td>...</td>\n",
              "      <td>...</td>\n",
              "      <td>...</td>\n",
              "      <td>...</td>\n",
              "      <td>...</td>\n",
              "      <td>...</td>\n",
              "      <td>...</td>\n",
              "    </tr>\n",
              "    <tr>\n",
              "      <th>요청</th>\n",
              "      <td>68</td>\n",
              "      <td>29</td>\n",
              "      <td>18</td>\n",
              "      <td>59</td>\n",
              "      <td>1</td>\n",
              "      <td>11</td>\n",
              "      <td>17</td>\n",
              "      <td>33</td>\n",
              "      <td>4</td>\n",
              "      <td>14</td>\n",
              "      <td>...</td>\n",
              "      <td>0</td>\n",
              "      <td>0</td>\n",
              "      <td>0</td>\n",
              "      <td>0</td>\n",
              "      <td>0</td>\n",
              "      <td>0</td>\n",
              "      <td>0</td>\n",
              "      <td>0</td>\n",
              "      <td>0</td>\n",
              "      <td>0</td>\n",
              "    </tr>\n",
              "    <tr>\n",
              "      <th>국산</th>\n",
              "      <td>49</td>\n",
              "      <td>20</td>\n",
              "      <td>94</td>\n",
              "      <td>12</td>\n",
              "      <td>10</td>\n",
              "      <td>11</td>\n",
              "      <td>12</td>\n",
              "      <td>11</td>\n",
              "      <td>8</td>\n",
              "      <td>7</td>\n",
              "      <td>...</td>\n",
              "      <td>0</td>\n",
              "      <td>0</td>\n",
              "      <td>0</td>\n",
              "      <td>0</td>\n",
              "      <td>0</td>\n",
              "      <td>0</td>\n",
              "      <td>0</td>\n",
              "      <td>0</td>\n",
              "      <td>31</td>\n",
              "      <td>1</td>\n",
              "    </tr>\n",
              "    <tr>\n",
              "      <th>보풀</th>\n",
              "      <td>54</td>\n",
              "      <td>46</td>\n",
              "      <td>124</td>\n",
              "      <td>23</td>\n",
              "      <td>14</td>\n",
              "      <td>36</td>\n",
              "      <td>26</td>\n",
              "      <td>38</td>\n",
              "      <td>22</td>\n",
              "      <td>6</td>\n",
              "      <td>...</td>\n",
              "      <td>0</td>\n",
              "      <td>0</td>\n",
              "      <td>0</td>\n",
              "      <td>0</td>\n",
              "      <td>0</td>\n",
              "      <td>0</td>\n",
              "      <td>0</td>\n",
              "      <td>0</td>\n",
              "      <td>0</td>\n",
              "      <td>0</td>\n",
              "    </tr>\n",
              "    <tr>\n",
              "      <th>세일</th>\n",
              "      <td>37</td>\n",
              "      <td>25</td>\n",
              "      <td>22</td>\n",
              "      <td>50</td>\n",
              "      <td>12</td>\n",
              "      <td>13</td>\n",
              "      <td>10</td>\n",
              "      <td>22</td>\n",
              "      <td>18</td>\n",
              "      <td>5</td>\n",
              "      <td>...</td>\n",
              "      <td>0</td>\n",
              "      <td>0</td>\n",
              "      <td>0</td>\n",
              "      <td>0</td>\n",
              "      <td>0</td>\n",
              "      <td>0</td>\n",
              "      <td>22</td>\n",
              "      <td>0</td>\n",
              "      <td>0</td>\n",
              "      <td>0</td>\n",
              "    </tr>\n",
              "    <tr>\n",
              "      <th>싸구려</th>\n",
              "      <td>66</td>\n",
              "      <td>31</td>\n",
              "      <td>39</td>\n",
              "      <td>15</td>\n",
              "      <td>14</td>\n",
              "      <td>31</td>\n",
              "      <td>24</td>\n",
              "      <td>14</td>\n",
              "      <td>28</td>\n",
              "      <td>25</td>\n",
              "      <td>...</td>\n",
              "      <td>0</td>\n",
              "      <td>0</td>\n",
              "      <td>0</td>\n",
              "      <td>0</td>\n",
              "      <td>0</td>\n",
              "      <td>0</td>\n",
              "      <td>1</td>\n",
              "      <td>0</td>\n",
              "      <td>0</td>\n",
              "      <td>0</td>\n",
              "    </tr>\n",
              "  </tbody>\n",
              "</table>\n",
              "<p>800 rows × 800 columns</p>\n",
              "</div>\n",
              "    <div class=\"colab-df-buttons\">\n",
              "\n",
              "  <div class=\"colab-df-container\">\n",
              "    <button class=\"colab-df-convert\" onclick=\"convertToInteractive('df-4db97b85-7949-412b-9e85-b2fb49fc2144')\"\n",
              "            title=\"Convert this dataframe to an interactive table.\"\n",
              "            style=\"display:none;\">\n",
              "\n",
              "  <svg xmlns=\"http://www.w3.org/2000/svg\" height=\"24px\" viewBox=\"0 -960 960 960\">\n",
              "    <path d=\"M120-120v-720h720v720H120Zm60-500h600v-160H180v160Zm220 220h160v-160H400v160Zm0 220h160v-160H400v160ZM180-400h160v-160H180v160Zm440 0h160v-160H620v160ZM180-180h160v-160H180v160Zm440 0h160v-160H620v160Z\"/>\n",
              "  </svg>\n",
              "    </button>\n",
              "\n",
              "  <style>\n",
              "    .colab-df-container {\n",
              "      display:flex;\n",
              "      gap: 12px;\n",
              "    }\n",
              "\n",
              "    .colab-df-convert {\n",
              "      background-color: #E8F0FE;\n",
              "      border: none;\n",
              "      border-radius: 50%;\n",
              "      cursor: pointer;\n",
              "      display: none;\n",
              "      fill: #1967D2;\n",
              "      height: 32px;\n",
              "      padding: 0 0 0 0;\n",
              "      width: 32px;\n",
              "    }\n",
              "\n",
              "    .colab-df-convert:hover {\n",
              "      background-color: #E2EBFA;\n",
              "      box-shadow: 0px 1px 2px rgba(60, 64, 67, 0.3), 0px 1px 3px 1px rgba(60, 64, 67, 0.15);\n",
              "      fill: #174EA6;\n",
              "    }\n",
              "\n",
              "    .colab-df-buttons div {\n",
              "      margin-bottom: 4px;\n",
              "    }\n",
              "\n",
              "    [theme=dark] .colab-df-convert {\n",
              "      background-color: #3B4455;\n",
              "      fill: #D2E3FC;\n",
              "    }\n",
              "\n",
              "    [theme=dark] .colab-df-convert:hover {\n",
              "      background-color: #434B5C;\n",
              "      box-shadow: 0px 1px 3px 1px rgba(0, 0, 0, 0.15);\n",
              "      filter: drop-shadow(0px 1px 2px rgba(0, 0, 0, 0.3));\n",
              "      fill: #FFFFFF;\n",
              "    }\n",
              "  </style>\n",
              "\n",
              "    <script>\n",
              "      const buttonEl =\n",
              "        document.querySelector('#df-4db97b85-7949-412b-9e85-b2fb49fc2144 button.colab-df-convert');\n",
              "      buttonEl.style.display =\n",
              "        google.colab.kernel.accessAllowed ? 'block' : 'none';\n",
              "\n",
              "      async function convertToInteractive(key) {\n",
              "        const element = document.querySelector('#df-4db97b85-7949-412b-9e85-b2fb49fc2144');\n",
              "        const dataTable =\n",
              "          await google.colab.kernel.invokeFunction('convertToInteractive',\n",
              "                                                    [key], {});\n",
              "        if (!dataTable) return;\n",
              "\n",
              "        const docLinkHtml = 'Like what you see? Visit the ' +\n",
              "          '<a target=\"_blank\" href=https://colab.research.google.com/notebooks/data_table.ipynb>data table notebook</a>'\n",
              "          + ' to learn more about interactive tables.';\n",
              "        element.innerHTML = '';\n",
              "        dataTable['output_type'] = 'display_data';\n",
              "        await google.colab.output.renderOutput(dataTable, element);\n",
              "        const docLink = document.createElement('div');\n",
              "        docLink.innerHTML = docLinkHtml;\n",
              "        element.appendChild(docLink);\n",
              "      }\n",
              "    </script>\n",
              "  </div>\n",
              "\n",
              "\n",
              "    <div id=\"df-cf8200df-b173-4b0f-bb98-681b25ae8a52\">\n",
              "      <button class=\"colab-df-quickchart\" onclick=\"quickchart('df-cf8200df-b173-4b0f-bb98-681b25ae8a52')\"\n",
              "                title=\"Suggest charts\"\n",
              "                style=\"display:none;\">\n",
              "\n",
              "<svg xmlns=\"http://www.w3.org/2000/svg\" height=\"24px\"viewBox=\"0 0 24 24\"\n",
              "     width=\"24px\">\n",
              "    <g>\n",
              "        <path d=\"M19 3H5c-1.1 0-2 .9-2 2v14c0 1.1.9 2 2 2h14c1.1 0 2-.9 2-2V5c0-1.1-.9-2-2-2zM9 17H7v-7h2v7zm4 0h-2V7h2v10zm4 0h-2v-4h2v4z\"/>\n",
              "    </g>\n",
              "</svg>\n",
              "      </button>\n",
              "\n",
              "<style>\n",
              "  .colab-df-quickchart {\n",
              "      --bg-color: #E8F0FE;\n",
              "      --fill-color: #1967D2;\n",
              "      --hover-bg-color: #E2EBFA;\n",
              "      --hover-fill-color: #174EA6;\n",
              "      --disabled-fill-color: #AAA;\n",
              "      --disabled-bg-color: #DDD;\n",
              "  }\n",
              "\n",
              "  [theme=dark] .colab-df-quickchart {\n",
              "      --bg-color: #3B4455;\n",
              "      --fill-color: #D2E3FC;\n",
              "      --hover-bg-color: #434B5C;\n",
              "      --hover-fill-color: #FFFFFF;\n",
              "      --disabled-bg-color: #3B4455;\n",
              "      --disabled-fill-color: #666;\n",
              "  }\n",
              "\n",
              "  .colab-df-quickchart {\n",
              "    background-color: var(--bg-color);\n",
              "    border: none;\n",
              "    border-radius: 50%;\n",
              "    cursor: pointer;\n",
              "    display: none;\n",
              "    fill: var(--fill-color);\n",
              "    height: 32px;\n",
              "    padding: 0;\n",
              "    width: 32px;\n",
              "  }\n",
              "\n",
              "  .colab-df-quickchart:hover {\n",
              "    background-color: var(--hover-bg-color);\n",
              "    box-shadow: 0 1px 2px rgba(60, 64, 67, 0.3), 0 1px 3px 1px rgba(60, 64, 67, 0.15);\n",
              "    fill: var(--button-hover-fill-color);\n",
              "  }\n",
              "\n",
              "  .colab-df-quickchart-complete:disabled,\n",
              "  .colab-df-quickchart-complete:disabled:hover {\n",
              "    background-color: var(--disabled-bg-color);\n",
              "    fill: var(--disabled-fill-color);\n",
              "    box-shadow: none;\n",
              "  }\n",
              "\n",
              "  .colab-df-spinner {\n",
              "    border: 2px solid var(--fill-color);\n",
              "    border-color: transparent;\n",
              "    border-bottom-color: var(--fill-color);\n",
              "    animation:\n",
              "      spin 1s steps(1) infinite;\n",
              "  }\n",
              "\n",
              "  @keyframes spin {\n",
              "    0% {\n",
              "      border-color: transparent;\n",
              "      border-bottom-color: var(--fill-color);\n",
              "      border-left-color: var(--fill-color);\n",
              "    }\n",
              "    20% {\n",
              "      border-color: transparent;\n",
              "      border-left-color: var(--fill-color);\n",
              "      border-top-color: var(--fill-color);\n",
              "    }\n",
              "    30% {\n",
              "      border-color: transparent;\n",
              "      border-left-color: var(--fill-color);\n",
              "      border-top-color: var(--fill-color);\n",
              "      border-right-color: var(--fill-color);\n",
              "    }\n",
              "    40% {\n",
              "      border-color: transparent;\n",
              "      border-right-color: var(--fill-color);\n",
              "      border-top-color: var(--fill-color);\n",
              "    }\n",
              "    60% {\n",
              "      border-color: transparent;\n",
              "      border-right-color: var(--fill-color);\n",
              "    }\n",
              "    80% {\n",
              "      border-color: transparent;\n",
              "      border-right-color: var(--fill-color);\n",
              "      border-bottom-color: var(--fill-color);\n",
              "    }\n",
              "    90% {\n",
              "      border-color: transparent;\n",
              "      border-bottom-color: var(--fill-color);\n",
              "    }\n",
              "  }\n",
              "</style>\n",
              "\n",
              "      <script>\n",
              "        async function quickchart(key) {\n",
              "          const quickchartButtonEl =\n",
              "            document.querySelector('#' + key + ' button');\n",
              "          quickchartButtonEl.disabled = true;  // To prevent multiple clicks.\n",
              "          quickchartButtonEl.classList.add('colab-df-spinner');\n",
              "          try {\n",
              "            const charts = await google.colab.kernel.invokeFunction(\n",
              "                'suggestCharts', [key], {});\n",
              "          } catch (error) {\n",
              "            console.error('Error during call to suggestCharts:', error);\n",
              "          }\n",
              "          quickchartButtonEl.classList.remove('colab-df-spinner');\n",
              "          quickchartButtonEl.classList.add('colab-df-quickchart-complete');\n",
              "        }\n",
              "        (() => {\n",
              "          let quickchartButtonEl =\n",
              "            document.querySelector('#df-cf8200df-b173-4b0f-bb98-681b25ae8a52 button');\n",
              "          quickchartButtonEl.style.display =\n",
              "            google.colab.kernel.accessAllowed ? 'block' : 'none';\n",
              "        })();\n",
              "      </script>\n",
              "    </div>\n",
              "\n",
              "  <div id=\"id_56d487a7-d6da-4fd5-bdee-d739524f17a1\">\n",
              "    <style>\n",
              "      .colab-df-generate {\n",
              "        background-color: #E8F0FE;\n",
              "        border: none;\n",
              "        border-radius: 50%;\n",
              "        cursor: pointer;\n",
              "        display: none;\n",
              "        fill: #1967D2;\n",
              "        height: 32px;\n",
              "        padding: 0 0 0 0;\n",
              "        width: 32px;\n",
              "      }\n",
              "\n",
              "      .colab-df-generate:hover {\n",
              "        background-color: #E2EBFA;\n",
              "        box-shadow: 0px 1px 2px rgba(60, 64, 67, 0.3), 0px 1px 3px 1px rgba(60, 64, 67, 0.15);\n",
              "        fill: #174EA6;\n",
              "      }\n",
              "\n",
              "      [theme=dark] .colab-df-generate {\n",
              "        background-color: #3B4455;\n",
              "        fill: #D2E3FC;\n",
              "      }\n",
              "\n",
              "      [theme=dark] .colab-df-generate:hover {\n",
              "        background-color: #434B5C;\n",
              "        box-shadow: 0px 1px 3px 1px rgba(0, 0, 0, 0.15);\n",
              "        filter: drop-shadow(0px 1px 2px rgba(0, 0, 0, 0.3));\n",
              "        fill: #FFFFFF;\n",
              "      }\n",
              "    </style>\n",
              "    <button class=\"colab-df-generate\" onclick=\"generateWithVariable('df')\"\n",
              "            title=\"Generate code using this dataframe.\"\n",
              "            style=\"display:none;\">\n",
              "\n",
              "  <svg xmlns=\"http://www.w3.org/2000/svg\" height=\"24px\"viewBox=\"0 0 24 24\"\n",
              "       width=\"24px\">\n",
              "    <path d=\"M7,19H8.4L18.45,9,17,7.55,7,17.6ZM5,21V16.75L18.45,3.32a2,2,0,0,1,2.83,0l1.4,1.43a1.91,1.91,0,0,1,.58,1.4,1.91,1.91,0,0,1-.58,1.4L9.25,21ZM18.45,9,17,7.55Zm-12,3A5.31,5.31,0,0,0,4.9,8.1,5.31,5.31,0,0,0,1,6.5,5.31,5.31,0,0,0,4.9,4.9,5.31,5.31,0,0,0,6.5,1,5.31,5.31,0,0,0,8.1,4.9,5.31,5.31,0,0,0,12,6.5,5.46,5.46,0,0,0,6.5,12Z\"/>\n",
              "  </svg>\n",
              "    </button>\n",
              "    <script>\n",
              "      (() => {\n",
              "      const buttonEl =\n",
              "        document.querySelector('#id_56d487a7-d6da-4fd5-bdee-d739524f17a1 button.colab-df-generate');\n",
              "      buttonEl.style.display =\n",
              "        google.colab.kernel.accessAllowed ? 'block' : 'none';\n",
              "\n",
              "      buttonEl.onclick = () => {\n",
              "        google.colab.notebook.generateWithVariable('df');\n",
              "      }\n",
              "      })();\n",
              "    </script>\n",
              "  </div>\n",
              "\n",
              "    </div>\n",
              "  </div>\n"
            ],
            "application/vnd.google.colaboratory.intrinsic+json": {
              "type": "dataframe",
              "variable_name": "df"
            }
          },
          "metadata": {},
          "execution_count": 11
        }
      ],
      "source": [
        "df = get_co_occurrence_df(context_cnt, term_freq.index[:vector_size])\n",
        "\n",
        "df"
      ]
    },
    {
      "cell_type": "code",
      "execution_count": 12,
      "metadata": {
        "id": "XMFJxtEyhV_E",
        "outputId": "0972ba12-5396-43c8-be09-d50831c1684a",
        "colab": {
          "base_uri": "https://localhost:8080/"
        }
      },
      "outputs": [
        {
          "output_type": "execute_result",
          "data": {
            "text/plain": [
              "(800, 800)"
            ]
          },
          "metadata": {},
          "execution_count": 12
        }
      ],
      "source": [
        "df.values.shape"
      ]
    },
    {
      "cell_type": "markdown",
      "metadata": {
        "id": "NM9mH8RBhV_E"
      },
      "source": [
        "Now, we have co-occurrence vectors, but you can see that there are still many sparse vectors in the DataFrame."
      ]
    },
    {
      "cell_type": "markdown",
      "metadata": {
        "id": "RouxDZ3KhV_E"
      },
      "source": [
        "homework: Take a PCA to reduce the dimension of the vectors."
      ]
    },
    {
      "cell_type": "markdown",
      "metadata": {
        "id": "NIhfjXJrhV_E"
      },
      "source": [
        "# Similarity Measures"
      ]
    },
    {
      "cell_type": "markdown",
      "metadata": {
        "id": "HN8rCGTJhV_E"
      },
      "source": [
        "## Define metrics"
      ]
    },
    {
      "cell_type": "code",
      "execution_count": 13,
      "metadata": {
        "id": "Q-bwQDwuhV_E"
      },
      "outputs": [],
      "source": [
        "import torch"
      ]
    },
    {
      "cell_type": "markdown",
      "metadata": {
        "id": "gacn405lhV_E"
      },
      "source": [
        "$$\n",
        "\\text{d}_{\\text{L1}}(w,v)=\\sum_{i=1}^d{|w_i-v_i|},\\text{ where }w,v\\in\\mathbb{R}^d.\n",
        "$$"
      ]
    },
    {
      "cell_type": "code",
      "execution_count": 14,
      "metadata": {
        "id": "NKhwwyExhV_E"
      },
      "outputs": [],
      "source": [
        "def get_l1_distance(x1, x2):\n",
        "    return ((x1 - x2).abs()).sum()"
      ]
    },
    {
      "cell_type": "markdown",
      "metadata": {
        "id": "qB-NiXerhV_E"
      },
      "source": [
        "$$\n",
        "\\text{d}_{\\text{L2}}(w,v)=\\sqrt{\\sum_{i=1}^d{(w_i-v_i)^2}},\\text{ where }w,v\\in\\mathbb{R}^d.\n",
        "$$"
      ]
    },
    {
      "cell_type": "code",
      "execution_count": 15,
      "metadata": {
        "id": "tseLu8hjhV_F"
      },
      "outputs": [],
      "source": [
        "def get_l2_distance(x1, x2):\n",
        "    return ((x1 - x2)**2).sum()**.5"
      ]
    },
    {
      "cell_type": "markdown",
      "metadata": {
        "id": "DRtGcCQ_hV_F"
      },
      "source": [
        "$$\n",
        "d_{\\infty}(w,v)=\\max(|w_1-v_1|,|w_2-v_2|,\\cdots,|w_d-v_d|),\\text{ where }w,v\\in\\mathbb{R}^d\n",
        "$$"
      ]
    },
    {
      "cell_type": "code",
      "execution_count": 16,
      "metadata": {
        "id": "waU44vrFhV_F"
      },
      "outputs": [],
      "source": [
        "def get_infinity_distance(x1, x2):\n",
        "    return ((x1 - x2).abs()).max()"
      ]
    },
    {
      "cell_type": "markdown",
      "metadata": {
        "id": "IJUXiy7NhV_F"
      },
      "source": [
        "$$\n",
        "\\begin{aligned}\n",
        "\\text{sim}_{\\text{cos}}(w,v)&=\\overbrace{\\frac{w\\cdot v}{|w||v|}}^{\\text{dot product}}\n",
        "=\\overbrace{\\frac{w}{|w|}}^{\\text{unit vector}}\\cdot\\frac{v}{|v|} \\\\\n",
        "&=\\frac{\\sum_{i=1}^{d}{w_iv_i}}{\\sqrt{\\sum_{i=1}^d{w_i^2}}\\sqrt{\\sum_{i=1}^d{v_i^2}}} \\\\\n",
        "\\text{where }&w,v\\in\\mathbb{R}^d\n",
        "\\end{aligned}\n",
        "$$"
      ]
    },
    {
      "cell_type": "code",
      "execution_count": 17,
      "metadata": {
        "id": "RRmy-yxZhV_F"
      },
      "outputs": [],
      "source": [
        "def get_cosine_similarity(x1, x2):\n",
        "    return (x1 * x2).sum() / ((x1**2).sum()**.5 * (x2**2).sum()**.5 + 1e-10)"
      ]
    },
    {
      "cell_type": "markdown",
      "metadata": {
        "id": "hAxFlneuhV_F"
      },
      "source": [
        "$$\n",
        "\\begin{aligned}\n",
        "\\text{sim}_{\\text{jaccard}}(w,v)&=\\frac{|w \\cap v|}{|w \\cup v|} \\\\\n",
        "&=\\frac{|w \\cap v|}{|w|+|v|-|w \\cap v|} \\\\\n",
        "&\\approx\\frac{\\sum_{i=1}^d{\\min(w_i,v_i)}}{\\sum_{i=1}^d{\\max(w_i,v_i)}} \\\\\n",
        "\\text{where }&w,v\\in\\mathbb{R}^d.\n",
        "\\end{aligned}\n",
        "$$"
      ]
    },
    {
      "cell_type": "markdown",
      "metadata": {
        "id": "tHIcnV8JhV_F"
      },
      "source": [
        "Because above methods are defined with same interface, we can switch it if we needed."
      ]
    },
    {
      "cell_type": "code",
      "execution_count": 18,
      "metadata": {
        "id": "P2tn27qLhV_F"
      },
      "outputs": [],
      "source": [
        "def get_nearest(query, dataframe, metric, top_k, ascending=True):\n",
        "    vector = torch.from_numpy(dataframe.loc[query].values).float()\n",
        "    distances = dataframe.apply(\n",
        "        lambda x: metric(vector, torch.from_numpy(x.values).float()),\n",
        "        axis=1,\n",
        "    )\n",
        "    top_distances = distances.sort_values(ascending=ascending)[:top_k]\n",
        "\n",
        "    print(', '.join([f'{k} ({v:.1f})' for k, v in top_distances.items()]))"
      ]
    },
    {
      "cell_type": "markdown",
      "metadata": {
        "id": "NlZpfJajhV_G"
      },
      "source": [
        "## Show nearest neighbor of given word for each metric."
      ]
    },
    {
      "cell_type": "code",
      "execution_count": 19,
      "metadata": {
        "id": "t9y35V4_hV_G",
        "outputId": "861e4c8c-f24d-47c0-df85-5dcd22059313",
        "colab": {
          "base_uri": "https://localhost:8080/"
        }
      },
      "outputs": [
        {
          "output_type": "stream",
          "name": "stdout",
          "text": [
            "L1 distance:\n",
            "반품 (0.0), 교환 (7246.0), ㅠㅠ (8674.0), ㅠ (8832.0), 말 (9029.0), 다시 (9094.0), 다고 (9220.0), 확인 (9378.0), 그리고 (9467.0), 못 (9480.0)\n",
            "\n",
            "L2 distance:\n",
            "반품 (0.0), 교환 (984.0), 다고 (1076.1), 깔끔 (1125.0), 다시 (1207.6), 확인 (1213.0), 싶 (1229.0), 여 (1279.8), 포장 (1285.4), 긴 (1302.4)\n",
            "\n",
            "Infinity distance:\n",
            "반품 (0.0), 다고 (456.0), 를 (458.0), 깔끔 (461.0), 여 (510.0), 긴 (522.0), 로 (534.0), 확인 (547.0), 교환 (564.0), 싶 (565.0)\n",
            "\n",
            "Cosine similarity:\n",
            "반품 (1.0), 교환 (0.9), 조립 (0.9), 환불 (0.9), 사용 (0.9), 확인 (0.9), 작업 (0.9), 기 (0.8), 설치 (0.8), 다고 (0.8)\n"
          ]
        }
      ],
      "source": [
        "print('L1 distance:')\n",
        "get_nearest('반품', df, get_l1_distance, 10)\n",
        "print('\\nL2 distance:')\n",
        "get_nearest('반품', df, get_l2_distance, 10)\n",
        "print('\\nInfinity distance:')\n",
        "get_nearest('반품', df, get_infinity_distance, 10)\n",
        "print('\\nCosine similarity:')\n",
        "get_nearest('반품', df, get_cosine_similarity, 10, ascending=False)"
      ]
    },
    {
      "cell_type": "code",
      "execution_count": null,
      "metadata": {
        "id": "OF9qW3eshV_G"
      },
      "outputs": [],
      "source": []
    }
  ],
  "metadata": {
    "kernelspec": {
      "display_name": "Python 3",
      "language": "python",
      "name": "python3"
    },
    "language_info": {
      "codemirror_mode": {
        "name": "ipython",
        "version": 3
      },
      "file_extension": ".py",
      "mimetype": "text/x-python",
      "name": "python",
      "nbconvert_exporter": "python",
      "pygments_lexer": "ipython3",
      "version": "3.7.6"
    },
    "colab": {
      "provenance": [],
      "include_colab_link": true
    }
  },
  "nbformat": 4,
  "nbformat_minor": 0
}