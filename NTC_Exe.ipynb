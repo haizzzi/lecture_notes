{
  "nbformat": 4,
  "nbformat_minor": 0,
  "metadata": {
    "colab": {
      "provenance": [],
      "gpuType": "A100",
      "mount_file_id": "https://github.com/haizzzi/simple-nmt-simplied/blob/main/NTC_Exe.ipynb",
      "authorship_tag": "ABX9TyOinyZK24TIdt1ldoqlwa8O",
      "include_colab_link": true
    },
    "kernelspec": {
      "name": "python3",
      "display_name": "Python 3"
    },
    "language_info": {
      "name": "python"
    },
    "accelerator": "GPU"
  },
  "cells": [
    {
      "cell_type": "markdown",
      "metadata": {
        "id": "view-in-github",
        "colab_type": "text"
      },
      "source": [
        "<a href=\"https://colab.research.google.com/github/haizzzi/simple-nmt-simplied/blob/main/NTC_Exe.ipynb\" target=\"_parent\"><img src=\"https://colab.research.google.com/assets/colab-badge.svg\" alt=\"Open In Colab\"/></a>"
      ]
    },
    {
      "cell_type": "code",
      "execution_count": 2,
      "metadata": {
        "colab": {
          "base_uri": "https://localhost:8080/"
        },
        "id": "Q6IksgquZAYI",
        "outputId": "eebaf3b6-7270-496e-ce0a-b7194a03d62d"
      },
      "outputs": [
        {
          "output_type": "stream",
          "name": "stdout",
          "text": [
            "사용 가능한 GPU 수: 1\n",
            "GPU 0 이름: NVIDIA A100-SXM4-40GB\n"
          ]
        }
      ],
      "source": [
        "import torch\n",
        "\n",
        "# GPU가 있는지 확인\n",
        "if torch.cuda.is_available():\n",
        "    print(\"사용 가능한 GPU 수:\", torch.cuda.device_count())\n",
        "    for i in range(torch.cuda.device_count()):\n",
        "        print(f\"GPU {i} 이름:\", torch.cuda.get_device_name(i))\n",
        "else:\n",
        "    print(\"GPU를 사용할 수 없습니다.\")\n"
      ]
    },
    {
      "cell_type": "code",
      "source": [
        "!pip install torch torchvision torchaudio\n",
        "!pip install torch_optimizer\n",
        "!pip install pytorch-ignite"
      ],
      "metadata": {
        "id": "Ek76yOmfdGy1"
      },
      "execution_count": null,
      "outputs": []
    },
    {
      "cell_type": "code",
      "source": [
        "!wc -l /content/drive/MyDrive/nmt_fold/data2/review.sorted.uniq.refined.tok.shuf.train.tsv"
      ],
      "metadata": {
        "id": "2rs2F0IEdHkd",
        "outputId": "a8a4105d-f8ac-4a04-ad04-70faec13e9b8",
        "colab": {
          "base_uri": "https://localhost:8080/"
        }
      },
      "execution_count": null,
      "outputs": [
        {
          "output_type": "stream",
          "name": "stdout",
          "text": [
            "147893 /content/drive/MyDrive/nmt_fold/data2/review.sorted.uniq.refined.tok.shuf.train.tsv\n"
          ]
        }
      ]
    },
    {
      "cell_type": "markdown",
      "source": [
        "이 코드는 train과 valid 나누는 코드인데 불필요함. train만 넣으면 학습 코드에서 자동으로 나눠줌"
      ],
      "metadata": {
        "id": "NHDzuqGSgNT8"
      }
    },
    {
      "cell_type": "code",
      "source": [
        "!head -n 118314 /content/drive/MyDrive/nmt_fold/data2/review.sorted.uniq.refined.tok.shuf.train.tsv > /content/drive/MyDrive/nmt_fold/data2/review.sorted.uniq.refined.tok.shuf.train1.tsv\n",
        "!tail -n 29579 /content/drive/MyDrive/nmt_fold/data2/review.sorted.uniq.refined.tok.shuf.train.tsv > /content/drive/MyDrive/nmt_fold/data2/review.sorted.uniq.refined.tok.shuf.valid1.tsv\n"
      ],
      "metadata": {
        "id": "v4GPDZqGeJFM"
      },
      "execution_count": null,
      "outputs": []
    },
    {
      "cell_type": "code",
      "source": [
        "!wc -l /content/drive/MyDrive/nmt_fold/data2/review.sorted.uniq.refined.tok.shuf.*.tsv"
      ],
      "metadata": {
        "id": "0KTvhNxwejqV",
        "outputId": "ead8b880-34af-44ac-9b4a-28748126ede5",
        "colab": {
          "base_uri": "https://localhost:8080/"
        }
      },
      "execution_count": null,
      "outputs": [
        {
          "output_type": "stream",
          "name": "stdout",
          "text": [
            "   30000 /content/drive/MyDrive/nmt_fold/data2/review.sorted.uniq.refined.tok.shuf.test.tsv\n",
            "  118314 /content/drive/MyDrive/nmt_fold/data2/review.sorted.uniq.refined.tok.shuf.train1.tsv\n",
            "  147893 /content/drive/MyDrive/nmt_fold/data2/review.sorted.uniq.refined.tok.shuf.train.tsv\n",
            "   29579 /content/drive/MyDrive/nmt_fold/data2/review.sorted.uniq.refined.tok.shuf.valid1.tsv\n",
            "  325786 total\n"
          ]
        }
      ]
    },
    {
      "cell_type": "markdown",
      "source": [
        "simple-ntc 학습하는 코드, rnn, cnn 같이 학습함. 이후 classify할 때 앙상블로 두개 모두 활용함. cnn 부분은 A100에서 gpu 사용이 안되고 cpu로 사용되는 현상이 발생해서 내부에 GPU관련 설정을 바꿔서 train2.py를 만들고 simple-ntc/trainer.py도 바꿔줌.\n",
        "자세한 변경사항은 아래와 같이 정리했음\n",
        "----------------------------------------------------------\n",
        "원인: RNN 학습 후 같은 프로세스에서 CNN으로 전환 시, A100에서 cudnn.benchmark=True가 유지되어 Conv2d(1→128, kernel=(k, 256)) 형태에 대해 cuDNN이 첫 배치에서 과도한 커널 탐색을 수행(수분 정지). 초기 스텝에서 큰 그래디언트로 AMP 스케일러가 step을 스킵하면서 |g_param| 로그가 NaN으로 찍히는 현상도 동반.\n",
        "\n",
        "조치: RNN→CNN 전환 직전에\n",
        "\n",
        "gc.collect(), torch.cuda.empty_cache()로 메모리/캐시 정리,\n",
        "\n",
        "torch.backends.cudnn.benchmark=False, torch.backends.cudnn.deterministic=True로 커널 탐색 차단 및 결정적 커널 고정,\n",
        "\n",
        "학습 루프에 **AMP( torch.amp.autocast + GradScaler('cuda') )**와 gradient clipping(clip_grad_norm_) 적용,\n",
        "\n",
        "|g_param| 로깅을 safe_grad_norm(비유한값 제외)으로 교체,\n",
        "\n",
        "(옵션) TF32 허용, channels_last 메모리 포맷, CNN 하이퍼(윈도우/필터) 경량화.\n",
        "\n",
        "(주의) 실제 로드되는 모듈 경로 고정(sys.path.insert(0, PROJECT_ROOT))로 최신 trainer.py가 임포트되도록 정리.\n",
        "\n",
        "결과: CNN 첫 배치 정지 해소, NaN 로그 제거/안정화, A100에서 에폭 당 시간 대폭 단축(RNN 영향 없음).\n",
        "\n"
      ],
      "metadata": {
        "id": "X7DduT14fifV"
      }
    },
    {
      "cell_type": "code",
      "source": [
        "!python /content/drive/MyDrive/nmt_fold/simple-ntc/train2.py --model_fn /content/drive/MyDrive/nmt_fold/data2/review.pth --train_fn /content/drive/MyDrive/nmt_fold/data2/review.sorted.uniq.refined.tok.shuf.train.tsv --gpu_id 0 --batch_size 128 --n_epochs 10 --word_vec_size 256 --dropout .3 --rnn --hidden_size 512 --n_layers 4 --cnn --window_sizes 3 4 5 6 7 8 --n_filters 128 128 128 128 128 128\n",
        "#!python /content/drive/MyDrive/nmt_fold/simple-ntc/train2.py --model_fn /content/drive/MyDrive/nmt_fold/data2/review.pth --train_fn /content/drive/MyDrive/nmt_fold/data2/review.sorted.uniq.refined.tok.shuf.train.tsv --gpu_id 0 --batch_size 128 --n_epochs 1 --word_vec_size 256 --dropout .3  --rnn --hidden_size 512 --n_layers 4 --cnn --window_sizes 3 4 5 6 7 8 --n_filters 128 128 128 128 128 128\n"
      ],
      "metadata": {
        "id": "wo_wNWH3euVk",
        "outputId": "ec3477de-11eb-4818-d752-c764c31ac903",
        "colab": {
          "base_uri": "https://localhost:8080/"
        }
      },
      "execution_count": 3,
      "outputs": [
        {
          "output_type": "stream",
          "name": "stdout",
          "text": [
            "|train| = 118315 |valid| = 29578\n",
            "|vocab| = 13004 |classes| = 2\n",
            "RNNClassifier(\n",
            "  (emb): Embedding(13004, 256)\n",
            "  (rnn): LSTM(256, 512, num_layers=4, batch_first=True, dropout=0.3, bidirectional=True)\n",
            "  (generator): Linear(in_features=1024, out_features=2, bias=True)\n",
            "  (activation): LogSoftmax(dim=-1)\n",
            ")\n",
            "Epoch 1 - |param|=1.84e+03 |g_param|=6.18e-01 loss=3.0927e-01 accuracy=0.8858\n",
            "Validation - loss=2.7446e-01 accuracy=0.8941 best_loss=inf\n",
            "Epoch 2 - |param|=1.84e+03 |g_param|=3.77e-01 loss=2.0730e-01 accuracy=0.9284\n",
            "Validation - loss=2.0735e-01 accuracy=0.9242 best_loss=2.7446e-01\n",
            "Epoch 3 - |param|=1.84e+03 |g_param|=3.39e-01 loss=1.9198e-01 accuracy=0.9345\n",
            "Validation - loss=1.9923e-01 accuracy=0.9305 best_loss=2.0735e-01\n",
            "Epoch 4 - |param|=1.84e+03 |g_param|=2.93e-01 loss=1.5261e-01 accuracy=0.9493\n",
            "Validation - loss=1.9668e-01 accuracy=0.9319 best_loss=1.9923e-01\n",
            "Epoch 5 - |param|=1.84e+03 |g_param|=2.95e-01 loss=1.3846e-01 accuracy=0.9554\n",
            "Validation - loss=1.9493e-01 accuracy=0.9322 best_loss=1.9668e-01\n",
            "Epoch 6 - |param|=1.85e+03 |g_param|=3.37e-01 loss=1.2745e-01 accuracy=0.9586\n",
            "Validation - loss=2.2413e-01 accuracy=0.9301 best_loss=1.9493e-01\n",
            "Epoch 7 - |param|=1.85e+03 |g_param|=3.23e-01 loss=1.1798e-01 accuracy=0.9627\n",
            "Validation - loss=2.1544e-01 accuracy=0.9310 best_loss=1.9493e-01\n",
            "Epoch 8 - |param|=1.85e+03 |g_param|=2.45e-01 loss=8.7151e-02 accuracy=0.9732\n",
            "Validation - loss=2.2882e-01 accuracy=0.9337 best_loss=1.9493e-01\n",
            "Epoch 9 - |param|=1.86e+03 |g_param|=2.50e-01 loss=8.0883e-02 accuracy=0.9747\n",
            "Validation - loss=2.5600e-01 accuracy=0.9308 best_loss=1.9493e-01\n",
            "Epoch 10 - |param|=1.86e+03 |g_param|=2.84e-01 loss=8.0139e-02 accuracy=0.9736\n",
            "Validation - loss=2.5496e-01 accuracy=0.9289 best_loss=1.9493e-01\n",
            "CNNClassifier(\n",
            "  (emb): Embedding(13004, 256)\n",
            "  (feature_extractors): ModuleList(\n",
            "    (0): Sequential(\n",
            "      (0): Conv2d(1, 128, kernel_size=(3, 256), stride=(1, 1))\n",
            "      (1): ReLU()\n",
            "      (2): Dropout(p=0.3, inplace=False)\n",
            "    )\n",
            "    (1): Sequential(\n",
            "      (0): Conv2d(1, 128, kernel_size=(4, 256), stride=(1, 1))\n",
            "      (1): ReLU()\n",
            "      (2): Dropout(p=0.3, inplace=False)\n",
            "    )\n",
            "    (2): Sequential(\n",
            "      (0): Conv2d(1, 128, kernel_size=(5, 256), stride=(1, 1))\n",
            "      (1): ReLU()\n",
            "      (2): Dropout(p=0.3, inplace=False)\n",
            "    )\n",
            "    (3): Sequential(\n",
            "      (0): Conv2d(1, 128, kernel_size=(6, 256), stride=(1, 1))\n",
            "      (1): ReLU()\n",
            "      (2): Dropout(p=0.3, inplace=False)\n",
            "    )\n",
            "    (4): Sequential(\n",
            "      (0): Conv2d(1, 128, kernel_size=(7, 256), stride=(1, 1))\n",
            "      (1): ReLU()\n",
            "      (2): Dropout(p=0.3, inplace=False)\n",
            "    )\n",
            "    (5): Sequential(\n",
            "      (0): Conv2d(1, 128, kernel_size=(8, 256), stride=(1, 1))\n",
            "      (1): ReLU()\n",
            "      (2): Dropout(p=0.3, inplace=False)\n",
            "    )\n",
            "  )\n",
            "  (generator): Linear(in_features=768, out_features=2, bias=True)\n",
            "  (activation): LogSoftmax(dim=-1)\n",
            ")\n",
            "\n",
            "[디버그] 학습 환경 점검\n",
            "선택 모델: RNN\n",
            "GPU 사용 여부: 사용\n",
            "GPU 이름: NVIDIA A100-SXM4-40GB\n",
            "모델 디바이스: cuda:0\n",
            "max_length: 256\n",
            "batch_size: 128\n",
            "window_sizes: [3, 4, 5, 6, 7, 8]\n",
            "n_filters: [128, 128, 128, 128, 128, 128]\n",
            "===\n",
            "Epoch 1 - |param|=1.82e+03 |g_param|=3.09e+00 loss=2.4309e-01 accuracy=0.9100\n",
            "Validation - loss=2.2340e-01 accuracy=0.9188 best_loss=inf\n",
            "Epoch 2 - |param|=1.83e+03 |g_param|=3.13e+00 loss=1.8771e-01 accuracy=0.9325\n",
            "Validation - loss=1.9743e-01 accuracy=0.9294 best_loss=2.2340e-01\n",
            "Epoch 3 - |param|=1.83e+03 |g_param|=2.92e+00 loss=1.5467e-01 accuracy=0.9439\n",
            "Validation - loss=2.2155e-01 accuracy=0.9222 best_loss=1.9743e-01\n",
            "Epoch 4 - |param|=1.83e+03 |g_param|=2.38e+00 loss=1.1579e-01 accuracy=0.9597\n",
            "Validation - loss=2.1280e-01 accuracy=0.9275 best_loss=1.9743e-01\n",
            "Epoch 5 - |param|=1.83e+03 |g_param|=2.57e+00 loss=1.1212e-01 accuracy=0.9616\n",
            "Validation - loss=2.4682e-01 accuracy=0.9231 best_loss=1.9743e-01\n",
            "Epoch 6 - |param|=1.83e+03 |g_param|=2.10e+00 loss=8.8830e-02 accuracy=0.9695\n",
            "Validation - loss=3.0166e-01 accuracy=0.9120 best_loss=1.9743e-01\n",
            "Epoch 7 - |param|=1.83e+03 |g_param|=2.00e+00 loss=8.0978e-02 accuracy=0.9731\n",
            "Validation - loss=2.9555e-01 accuracy=0.9203 best_loss=1.9743e-01\n",
            "Epoch 8 - |param|=1.84e+03 |g_param|=2.14e+00 loss=6.7498e-02 accuracy=0.9771\n",
            "Validation - loss=3.2663e-01 accuracy=0.9266 best_loss=1.9743e-01\n",
            "Epoch 9 - |param|=1.84e+03 |g_param|=1.89e+00 loss=7.3628e-02 accuracy=0.9757\n",
            "Validation - loss=4.1623e-01 accuracy=0.9180 best_loss=1.9743e-01\n",
            "Epoch 10 - |param|=1.84e+03 |g_param|=1.60e+00 loss=6.5680e-02 accuracy=0.9775\n",
            "Validation - loss=4.1406e-01 accuracy=0.9178 best_loss=1.9743e-01\n"
          ]
        }
      ]
    },
    {
      "cell_type": "code",
      "source": [
        "!cut -f2 /content/drive/MyDrive/nmt_fold/data2/review.sorted.uniq.refined.tok.shuf.test.tsv | shuf | head -n 10 | python /content/drive/MyDrive/nmt_fold/simple-ntc/classify.py --model_fn /content/drive/MyDrive/nmt_fold/data2/review_rnn_cnn.pth --gpu_id 0\n"
      ],
      "metadata": {
        "colab": {
          "base_uri": "https://localhost:8080/"
        },
        "id": "PE83eWFGbbjD",
        "outputId": "d6608ffe-1e1c-4861-9f2d-04c97c904a81"
      },
      "execution_count": 9,
      "outputs": [
        {
          "output_type": "stream",
          "name": "stdout",
          "text": [
            "negative\t뽑 기 실패 네요 .\n",
            "positive\t너무 편하 고 깔끔 해요 ~\n",
            "positive\t추천 좋 은 상품 인 것 같 습니다 제품 질 대비 해서 가격 도 저렴 한 것 같 고 쓸 만 합니다 추천 합니다 . 추천 합니다 .\n",
            "negative\t1 + 1 상품 으로 광고 보고 주문 했 는데 조건부 라 잘 읽 어 보 고 구매 해야 할 듯 요 . 블로그 에 홍보 해야 1 장 더 준대요\n",
            "negative\t제품 이 늦 고 사양 이 옛날 모델 입니다\n",
            "negative\t돼지 목살 소 국거리 살치 살 차돌박이 등 많이 구매 했 어요 . 저번 집들이 때 , 갈비 살 이랑 차돌박이 사 서 잘 썼 거든요 . 이번 에 는 고기 들 전체 적 으로 기름 이 많 긴 한데 차돌박이 는 못 먹 을 지경 입니다 . 고기 랑 지방 비율 이 1 : 3 수준 이 에요 . 고기 절단면 끝 부분 도 다 갈색 으로 말라서 다 잘랐 습니다 . 먹 어도 되 나 싶 은데 일단 기름 다 잘라 내 니 팩 당 고기 100 그램 나오 나 싶 어요 . .. 배송 도 다 녹 아서 와서 우선 재 냉동 했 는데 별로 네요 이번 고기 는 다 ㅠㅠ 차돌박이 는 환불 요청 예정 입니다\n",
            "positive\t일자형 은 아직 설치 전이 라서 밝 은지 모르 겠 지만 십 자형 을 설치 해 보 니 밝 아서 아주 좋 습니다\n",
            "negative\t사용 해 보 고 괜찮 아서 엄마 두 구매 해 드렸 어요 불량 없 다고 하 시 네요 = = = = = =====================%%== 3 - 4 개월 이 지나 니 지금 여기 서 구입 한 이 제품 들 모두 저속 충전 되 거나 접속 불량 으로 다 고장 남 . . 이제 믿 고 거르 는 제품 인 걸로\n",
            "positive\t빨라요 ㅋㅋ ㄱ ㅋ\n",
            "negative\t아이폰 에 사용 할 때 좋 아서 구매 했 는데 이번 엔 실망 이 이만저만 이 아니 네요 들뜨 고 붙 지 도 않 고 중간 이 살짝 배 부른지 뜨 고 . ..\n"
          ]
        }
      ]
    },
    {
      "cell_type": "markdown",
      "source": [
        "mecab 설치 코드"
      ],
      "metadata": {
        "id": "I6_7koG8eGqq"
      }
    },
    {
      "cell_type": "code",
      "source": [
        "#!chmod +x /content/drive/MyDrive/nmt_fold/code1/install_mecab_linux.sh\n",
        "#!bash /content/drive/MyDrive/nmt_fold/code1/install_mecab_linux.sh\n",
        "# 위 두줄로 설치하다 오류나서 아래와 같이 설치함.\n",
        "\n",
        "# 1) 필수 도구\n",
        "!apt-get -y update\n",
        "!apt-get -y install curl\n",
        "\n",
        "# 2) konlpy 공식 스크립트로 mecab + mecab-ko-dic 설치\n",
        "!bash <(curl -s https://raw.githubusercontent.com/konlpy/konlpy/master/scripts/mecab.sh)\n",
        "\n",
        "# 3) mecabrc의 dicdir 설정(로그에 나온 경로로 맞추기)\n",
        "!sed -i 's|^dicdir =.*|dicdir = /usr/local/lib/mecab/dic/mecab-ko-dic|' /usr/local/etc/mecabrc\n",
        "\n",
        "# 4) 파이썬 라이브러리\n",
        "!pip install konlpy"
      ],
      "metadata": {
        "id": "on_3f4pMeFFj"
      },
      "execution_count": null,
      "outputs": []
    },
    {
      "cell_type": "code",
      "source": [
        "!echo \"제품 너무 별로에요. \" | mecab -O wakati | python /content/drive/MyDrive/nmt_fold/simple-ntc/classify.py --model_fn /content/drive/MyDrive/nmt_fold/data2/review_rnn_cnn.pth --gpu_id 0"
      ],
      "metadata": {
        "colab": {
          "base_uri": "https://localhost:8080/"
        },
        "id": "RX7EUCzRdzaK",
        "outputId": "a9eb727c-2c8f-4064-afb9-f351b2f9e812"
      },
      "execution_count": 13,
      "outputs": [
        {
          "output_type": "stream",
          "name": "stdout",
          "text": [
            "negative\t제품 너무 별로 에요 .\n"
          ]
        }
      ]
    }
  ]
}