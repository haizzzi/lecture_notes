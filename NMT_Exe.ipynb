{
  "nbformat": 4,
  "nbformat_minor": 0,
  "metadata": {
    "colab": {
      "provenance": [],
      "gpuType": "T4",
      "mount_file_id": "14l9Dg8Iz__T6Yc0EU8-YbXbeHHmEfgGp",
      "authorship_tag": "ABX9TyMkxuiRhOY/8Va3ICTuz2Ri",
      "include_colab_link": true
    },
    "kernelspec": {
      "name": "python3",
      "display_name": "Python 3"
    },
    "language_info": {
      "name": "python"
    },
    "accelerator": "GPU"
  },
  "cells": [
    {
      "cell_type": "markdown",
      "metadata": {
        "id": "view-in-github",
        "colab_type": "text"
      },
      "source": [
        "<a href=\"https://colab.research.google.com/github/haizzzi/simple-nmt-simplied/blob/main/NMT_Exe.ipynb\" target=\"_parent\"><img src=\"https://colab.research.google.com/assets/colab-badge.svg\" alt=\"Open In Colab\"/></a>"
      ]
    },
    {
      "cell_type": "code",
      "source": [
        "# 0) 런타임 초기화(재시작) 먼저 하는 게 깔끔합니다.\n",
        "# 1) 기존 것 제거\n",
        "!pip uninstall -y torch torchtext torchvision torchaudio numpy\n",
        "\n",
        "# 2) PyTorch 1.12.1 (CUDA 11.3) 세트\n",
        "!pip install --no-cache-dir \\\n",
        "  torch==1.12.1+cu113 torchvision==0.13.1+cu113 torchaudio==0.12.1 \\\n",
        "  -f https://download.pytorch.org/whl/torch_stable.html\n",
        "\n",
        "# 3) torchtext 0.13.1 (legacy 포함)\n",
        "!pip install --no-cache-dir torchtext==0.13.1\n",
        "\n",
        "# 4) NumPy는 1.x로 고정\n",
        "!pip install \"numpy<2\"\n",
        "\n",
        "# (선택) 쓰시던 옵티마이저\n",
        "!pip install torch-optimizer"
      ],
      "metadata": {
        "id": "CoHvjUX6mkcZ"
      },
      "execution_count": null,
      "outputs": []
    },
    {
      "cell_type": "code",
      "source": [
        "import torch, torchtext, numpy\n",
        "print(torch.__version__)     # 2.0.1+cu118\n",
        "print(torchtext.__version__) # 0.15.2\n",
        "import torchtext.legacy.data # 에러 없어야 정상"
      ],
      "metadata": {
        "id": "QXlA1bGdwsoz"
      },
      "execution_count": null,
      "outputs": []
    },
    {
      "cell_type": "code",
      "execution_count": null,
      "metadata": {
        "id": "qAUvswrLkv9m"
      },
      "outputs": [],
      "source": [
        "!python /content/drive/MyDrive/nmt_fold/simple-nmt/train.py --train /content/drive/MyDrive/nmt_fold/data1/combined.shuf.train.tok.bpe --valid /content/drive/MyDrive/nmt_fold/data1/combined.shuf.valid.tok.bpe --lang enko --gpu_id 0 --batch_size 160 --n_epochs 30 --max_length 64 --dropout .2 --word_vec_size 512 --hidden_size 768 --n_layers 4 --max_grad_norm 1e+8 --iteration_per_update 2 --lr 1e-3 --lr_step 0 --use_adam --model_fn /content/drive/MyDrive/nmt_fold/data1/models1.seq2seq.pth"
      ]
    },
    {
      "cell_type": "code",
      "source": [
        "from google.colab import drive\n",
        "drive.mount('/content/drive')"
      ],
      "metadata": {
        "id": "0wHb6hERuQeF"
      },
      "execution_count": null,
      "outputs": []
    }
  ]
}