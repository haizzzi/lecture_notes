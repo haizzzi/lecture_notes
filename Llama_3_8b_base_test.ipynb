{
  "cells": [
    {
      "cell_type": "markdown",
      "metadata": {
        "id": "view-in-github",
        "colab_type": "text"
      },
      "source": [
        "<a href=\"https://colab.research.google.com/github/haizzzi/lecture_notes/blob/main/Llama_3_8b_base_test.ipynb\" target=\"_parent\"><img src=\"https://colab.research.google.com/assets/colab-badge.svg\" alt=\"Open In Colab\"/></a>"
      ]
    },
    {
      "cell_type": "code",
      "execution_count": null,
      "metadata": {
        "id": "_PtQlfXIwTev"
      },
      "outputs": [],
      "source": [
        "# 0) 런타임: GPU(T4) 선택\n",
        "# 1) 필수 패키지 설치\n",
        "!pip -q install -U transformers accelerate bitsandbytes sentencepiece\n",
        "\n"
      ]
    },
    {
      "cell_type": "code",
      "execution_count": null,
      "metadata": {
        "id": "mqba7cfdwZNj"
      },
      "outputs": [],
      "source": [
        "# 2) (한번만) 허깅페이스 로그인\n",
        "from huggingface_hub import login\n",
        "login(\"hf_xxx...\")  # 이러면 위젯 출력이 안 남음\n"
      ]
    },
    {
      "cell_type": "code",
      "execution_count": null,
      "metadata": {
        "id": "OO8wvgIqwd7D"
      },
      "outputs": [],
      "source": [
        "import os\n",
        "os.environ[\"HF_HOME\"] = \"/content/drive/MyDrive/huggingface_cache\"  # <- 여기로 모델/토크나이저 캐시 저장\n",
        "\n",
        "# 3) 모델 로드 (4-bit)\n",
        "from transformers import AutoModelForCausalLM, AutoTokenizer, BitsAndBytesConfig\n",
        "import torch\n",
        "\n",
        "model_id = \"meta-llama/Llama-3.1-8B\"   # ✅ 정확한 ID (Base)\n",
        "\n",
        "bnb_config = BitsAndBytesConfig(\n",
        "    load_in_4bit=True,\n",
        "    bnb_4bit_use_double_quant=True,\n",
        "    bnb_4bit_quant_type=\"nf4\",       # nf4 권장\n",
        "    bnb_4bit_compute_dtype=torch.bfloat16\n",
        ")\n",
        "\n",
        "# 필요시 token=\"hf_...\" 인자로 명시 가능 (전역 login 안 했을 때)\n",
        "tok = AutoTokenizer.from_pretrained(model_id, use_fast=True)  # , token=\"hf_...\"\n",
        "model = AutoModelForCausalLM.from_pretrained(\n",
        "    model_id,\n",
        "    quantization_config=bnb_config,\n",
        "    device_map=\"auto\",\n",
        "    torch_dtype=torch.bfloat16,      # bf16 권장\n",
        ")\n",
        "\n"
      ]
    },
    {
      "cell_type": "code",
      "execution_count": null,
      "metadata": {
        "id": "M0RRZKmpwfrL"
      },
      "outputs": [],
      "source": [
        "# 4) 간단 생성\n",
        "prompt = \"Geoffrey Everest Hinton (born 6 December 1947) is a British-Canadian computer scientist, cognitive scientist, and cognitive psychologist known for his work on artificial neural networks, which earned him the title the Godfather of AI.[10]\"\n",
        "inputs = tok(prompt, return_tensors=\"pt\").to(model.device)\n",
        "with torch.inference_mode():\n",
        "    out = model.generate(\n",
        "        **inputs,\n",
        "        max_new_tokens=500,\n",
        "        temperature=0.7,\n",
        "        top_p=0.95,\n",
        "        do_sample=True,\n",
        "        pad_token_id=tok.eos_token_id\n",
        "    )\n",
        "print(tok.decode(out[0], skip_special_tokens=True))\n"
      ]
    }
  ],
  "metadata": {
    "accelerator": "GPU",
    "colab": {
      "gpuType": "T4",
      "provenance": [],
      "mount_file_id": "https://github.com/haizzzi/lecture_notes/blob/main/Llama_3_8b_base_test.ipynb",
      "authorship_tag": "ABX9TyPBcXa2UWn3fqKmxyemmwvN",
      "include_colab_link": true
    },
    "kernelspec": {
      "display_name": "Python 3",
      "name": "python3"
    },
    "language_info": {
      "name": "python"
    }
  },
  "nbformat": 4,
  "nbformat_minor": 0
}