{
  "nbformat": 4,
  "nbformat_minor": 0,
  "metadata": {
    "colab": {
      "provenance": [],
      "mount_file_id": "1CkDzw8k9-U97AjtO-qMntBRpWfxuj-I2",
      "authorship_tag": "ABX9TyOUsO4Q2zElpmlTCLuyqPEN",
      "include_colab_link": true
    },
    "kernelspec": {
      "name": "python3",
      "display_name": "Python 3"
    },
    "language_info": {
      "name": "python"
    }
  },
  "cells": [
    {
      "cell_type": "markdown",
      "metadata": {
        "id": "view-in-github",
        "colab_type": "text"
      },
      "source": [
        "<a href=\"https://colab.research.google.com/github/haizzzi/simple-nmt-simplied/blob/main/pre-processing.ipynb\" target=\"_parent\"><img src=\"https://colab.research.google.com/assets/colab-badge.svg\" alt=\"Open In Colab\"/></a>"
      ]
    },
    {
      "cell_type": "markdown",
      "source": [
        "구글 드라이브 마운트 위치 \"/content/drive/MyDrive/\""
      ],
      "metadata": {
        "id": "X_9nHG9Z48FL"
      }
    },
    {
      "cell_type": "code",
      "source": [
        "!cat /content/drive/MyDrive/nmt_fold/data1/*.txt > combined.tsv"
      ],
      "metadata": {
        "id": "ater08dCCqM8"
      },
      "execution_count": 6,
      "outputs": []
    },
    {
      "cell_type": "code",
      "source": [
        "%cd /content/drive/MyDrive/nmt_fold/"
      ],
      "metadata": {
        "colab": {
          "base_uri": "https://localhost:8080/"
        },
        "id": "JQh6klFaDb8k",
        "outputId": "922d2192-4031-4d3e-f734-2863fa955ff6"
      },
      "execution_count": 24,
      "outputs": [
        {
          "output_type": "stream",
          "name": "stdout",
          "text": [
            "/content/drive/MyDrive/nmt_fold\n"
          ]
        }
      ]
    },
    {
      "cell_type": "code",
      "source": [
        "!iconv -f UTF-16LE -t UTF-8 /content/drive/MyDrive/nmt_fold/data1/combined.tsv > /content/drive/MyDrive/nmt_fold/data1/combined_utf8.tsv\n",
        "!mv /content/drive/MyDrive/nmt_fold/data1/combined_utf8.tsv /content/drive/MyDrive/nmt_fold/data1/combined.tsv"
      ],
      "metadata": {
        "id": "q4Vfpy6uE6X8"
      },
      "execution_count": 44,
      "outputs": []
    },
    {
      "cell_type": "code",
      "metadata": {
        "colab": {
          "base_uri": "https://localhost:8080/"
        },
        "id": "56310681",
        "outputId": "03c24fa0-f8d2-4f9c-8acc-b462a27ba203"
      },
      "source": [
        "!head -n 5 /content/drive/MyDrive/nmt_fold/data1/combined.tsv\n",
        "!wc -l /content/drive/MyDrive/nmt_fold/data1/combined.tsv"
      ],
      "execution_count": 49,
      "outputs": [
        {
          "output_type": "stream",
          "name": "stdout",
          "text": [
            "﻿'Bible Coloring'은 성경의 아름다운 이야기를 체험 할 수 있는 컬러링 앱입니다.\tBible Coloring' is a coloring application that allows you to experience beautiful stories in the Bible.\r\n",
            "씨티은행에서 일하세요?\tDo you work at a City bank?\r\n",
            "푸리토의 베스트셀러는 해외에서 입소문만으로 4차 완판을 기록하였다.\t\"PURITO's bestseller, which recorded 4th rough -cuts by words of mouth from abroad.\"\r\n",
            "11장에서는 예수님이 이번엔 나사로를 무덤에서 불러내어 죽은 자 가운데서 살리셨습니다.\tIn Chapter 11 Jesus called Lazarus from the tomb and raised him from the dead.\r\n",
            "\"6.5, 7, 8 사이즈가 몇 개나 더 재입고 될지 제게 알려주시면 감사하겠습니다.\"\t\"I would feel grateful to know how many stocks will be secured of size 6.5, 7, and 8.\"\r\n",
            "1602418 /content/drive/MyDrive/nmt_fold/data1/combined.tsv\n"
          ]
        }
      ]
    },
    {
      "cell_type": "code",
      "source": [
        "!ls -l /content/drive/MyDrive/nmt_fold/data1/"
      ],
      "metadata": {
        "colab": {
          "base_uri": "https://localhost:8080/"
        },
        "id": "WWjca6lmIm_c",
        "outputId": "993e7b3e-0db7-4630-e5bc-d894ec1a0242"
      },
      "execution_count": 48,
      "outputs": [
        {
          "output_type": "stream",
          "name": "stdout",
          "text": [
            "total 1090100\n",
            "-rw------- 1 root root  35448312 Aug 13 05:39 01.txt\n",
            "-rw------- 1 root root  36863298 Aug 13 05:45 02.txt\n",
            "-rw------- 1 root root  20178746 Aug 13 05:46 03.txt\n",
            "-rw------- 1 root root 107751918 Aug 13 05:48 04.txt\n",
            "-rw------- 1 root root  83395820 Aug 13 05:49 05.txt\n",
            "-rw------- 1 root root 113856170 Aug 13 05:50 06.txt\n",
            "-rw------- 1 root root  92307742 Aug 13 05:51 07.txt\n",
            "-rw------- 1 root root  47288970 Aug 13 05:52 08.txt\n",
            "-rw------- 1 root root  60739970 Aug 13 05:53 09.txt\n",
            "-rw------- 1 root root  56909742 Aug 13 05:54 10.txt\n",
            "-rw------- 1 root root 461519736 Aug 13 06:31 combined.tsv\n"
          ]
        }
      ]
    }
  ]
}