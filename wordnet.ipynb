{
  "cells": [
    {
      "cell_type": "markdown",
      "metadata": {
        "id": "view-in-github",
        "colab_type": "text"
      },
      "source": [
        "<a href=\"https://colab.research.google.com/github/haizzzi/lecture_notes/blob/main/wordnet.ipynb\" target=\"_parent\"><img src=\"https://colab.research.google.com/assets/colab-badge.svg\" alt=\"Open In Colab\"/></a>"
      ]
    },
    {
      "cell_type": "markdown",
      "metadata": {
        "id": "CiHNUBT6h9Yg"
      },
      "source": [
        "# WordNet"
      ]
    },
    {
      "cell_type": "code",
      "execution_count": null,
      "metadata": {
        "id": "gXhxh_yQh9Yi",
        "outputId": "74bf3b27-2414-4a21-bc3a-8826525e312a"
      },
      "outputs": [
        {
          "name": "stdout",
          "output_type": "stream",
          "text": [
            "Requirement already satisfied: nltk==3.2.5 in /Users/khkim/anaconda3/lib/python3.6/site-packages (3.2.5)\n",
            "Requirement already satisfied: six in /Users/khkim/anaconda3/lib/python3.6/site-packages (from nltk==3.2.5) (1.11.0)\n"
          ]
        }
      ],
      "source": [
        "!pip install nltk==3.2.5"
      ]
    },
    {
      "cell_type": "code",
      "execution_count": null,
      "metadata": {
        "id": "hfjPz4Wsh9Yj",
        "outputId": "97ffb18b-8a3b-4bac-a7a8-1a00d6e8f6ac"
      },
      "outputs": [
        {
          "name": "stdout",
          "output_type": "stream",
          "text": [
            "[nltk_data] Downloading package wordnet to /Users/khkim/nltk_data...\n",
            "[nltk_data]   Package wordnet is already up-to-date!\n"
          ]
        },
        {
          "data": {
            "text/plain": [
              "True"
            ]
          },
          "execution_count": 2,
          "metadata": {},
          "output_type": "execute_result"
        }
      ],
      "source": [
        "import nltk\n",
        "nltk.download('wordnet')\n",
        "\n",
        "from nltk.corpus import wordnet as wn"
      ]
    },
    {
      "cell_type": "code",
      "execution_count": null,
      "metadata": {
        "id": "aUDYhtzGh9Yj",
        "outputId": "30a0dff2-d0b9-401e-ad4b-388eb84d2aab"
      },
      "outputs": [
        {
          "data": {
            "text/plain": [
              "[Synset('people.n.01'),\n",
              " Synset('citizenry.n.01'),\n",
              " Synset('people.n.03'),\n",
              " Synset('multitude.n.03'),\n",
              " Synset('people.v.01'),\n",
              " Synset('people.v.02')]"
            ]
          },
          "execution_count": 4,
          "metadata": {},
          "output_type": "execute_result"
        }
      ],
      "source": [
        "wn.synsets('people')"
      ]
    },
    {
      "cell_type": "code",
      "execution_count": null,
      "metadata": {
        "id": "WDCbxfG_h9Yj",
        "outputId": "0adcd931-f15a-45df-99db-ff416b48674c"
      },
      "outputs": [
        {
          "data": {
            "text/plain": [
              "[Synset('group.n.01')]"
            ]
          },
          "execution_count": 7,
          "metadata": {},
          "output_type": "execute_result"
        }
      ],
      "source": [
        "wn.synsets('people')[0].hypernyms()"
      ]
    },
    {
      "cell_type": "code",
      "execution_count": null,
      "metadata": {
        "id": "nSxUyDTNh9Yk",
        "outputId": "6f1b9681-9b1b-4bb1-8a49-391adafe2c05"
      },
      "outputs": [
        {
          "name": "stdout",
          "output_type": "stream",
          "text": [
            "Synset('policeman.n.01')\n",
            "Synset('lawman.n.01')\n",
            "Synset('defender.n.01')\n",
            "Synset('preserver.n.03')\n",
            "Synset('person.n.01')\n",
            "Synset('causal_agent.n.01')\n",
            "Synset('physical_entity.n.01')\n",
            "Synset('entity.n.01')\n"
          ]
        }
      ],
      "source": [
        "def hypernyms(word):\n",
        "    current_node = wn.synsets(word)[0]\n",
        "    yield current_node\n",
        "\n",
        "    while True:\n",
        "        try:\n",
        "            current_node = current_node.hypernyms()[0]\n",
        "            yield current_node\n",
        "        except IndexError:\n",
        "            break\n",
        "\n",
        "for h in hypernyms('policeman'):\n",
        "    print(h)"
      ]
    },
    {
      "cell_type": "code",
      "execution_count": null,
      "metadata": {
        "id": "yQitQv5ih9Yk",
        "outputId": "df26e670-53aa-4629-f471-a8e96424fc13"
      },
      "outputs": [
        {
          "data": {
            "text/plain": [
              "[Synset('fireman.n.04'),\n",
              " Synset('defender.n.01'),\n",
              " Synset('preserver.n.03'),\n",
              " Synset('person.n.01'),\n",
              " Synset('causal_agent.n.01'),\n",
              " Synset('physical_entity.n.01'),\n",
              " Synset('entity.n.01')]"
            ]
          },
          "execution_count": 9,
          "metadata": {},
          "output_type": "execute_result"
        }
      ],
      "source": [
        "[h for h in hypernyms('firefighter')]"
      ]
    },
    {
      "cell_type": "code",
      "execution_count": null,
      "metadata": {
        "id": "LW3CiJvRh9Yl",
        "outputId": "df4ca465-63f1-43da-9962-fbe8a8eab41f"
      },
      "outputs": [
        {
          "data": {
            "text/plain": [
              "[Synset('sheriff.n.01'),\n",
              " Synset('lawman.n.01'),\n",
              " Synset('defender.n.01'),\n",
              " Synset('preserver.n.03'),\n",
              " Synset('person.n.01'),\n",
              " Synset('causal_agent.n.01'),\n",
              " Synset('physical_entity.n.01'),\n",
              " Synset('entity.n.01')]"
            ]
          },
          "execution_count": 10,
          "metadata": {},
          "output_type": "execute_result"
        }
      ],
      "source": [
        "[h for h in hypernyms('sheriff')]"
      ]
    },
    {
      "cell_type": "code",
      "execution_count": null,
      "metadata": {
        "id": "jT-pGr3Oh9Yl",
        "outputId": "3ad107fa-ed14-43d3-934b-d6293f723caf"
      },
      "outputs": [
        {
          "data": {
            "text/plain": [
              "[Synset('mailman.n.01'),\n",
              " Synset('deliveryman.n.01'),\n",
              " Synset('employee.n.01'),\n",
              " Synset('worker.n.01'),\n",
              " Synset('person.n.01'),\n",
              " Synset('causal_agent.n.01'),\n",
              " Synset('physical_entity.n.01'),\n",
              " Synset('entity.n.01')]"
            ]
          },
          "execution_count": 11,
          "metadata": {},
          "output_type": "execute_result"
        }
      ],
      "source": [
        "[h for h in hypernyms('mailman')]"
      ]
    },
    {
      "cell_type": "code",
      "execution_count": null,
      "metadata": {
        "id": "O5XbCKJNh9Yl",
        "outputId": "c2815be2-f292-433e-c60a-fca4f34e32c2"
      },
      "outputs": [
        {
          "data": {
            "text/plain": [
              "6"
            ]
          },
          "execution_count": 12,
          "metadata": {},
          "output_type": "execute_result"
        }
      ],
      "source": [
        "def distance(word1, word2):\n",
        "    word1_hypernyms = [h for h in hypernyms(word1)]\n",
        "\n",
        "    for i, word2_hypernym in enumerate(hypernyms(word2)):\n",
        "        try:\n",
        "            return i + word1_hypernyms.index(word2_hypernym)\n",
        "        except ValueError:\n",
        "            continue\n",
        "\n",
        "distance('sheriff', 'student')"
      ]
    },
    {
      "cell_type": "markdown",
      "metadata": {
        "id": "KEbHDTGHh9Ym"
      },
      "source": [
        "$$ similarity(w, w^\\prime) = -\\log distance(w, w^\\prime) $$"
      ]
    },
    {
      "cell_type": "code",
      "execution_count": null,
      "metadata": {
        "id": "cD5iT81eh9Yn",
        "outputId": "f9716575-55d0-46e3-f097-027e886cc4f4"
      },
      "outputs": [
        {
          "name": "stdout",
          "output_type": "stream",
          "text": [
            "-1.791759469228055\n",
            "-0.6931471805599453\n"
          ]
        }
      ],
      "source": [
        "import numpy as np\n",
        "\n",
        "def similarity(word1, word2):\n",
        "    return -np.log(distance(word1, word2))\n",
        "\n",
        "print(similarity('sheriff', 'student'))\n",
        "print(similarity('sheriff', 'policeman'))"
      ]
    }
  ],
  "metadata": {
    "kernelspec": {
      "display_name": "Python 3",
      "language": "python",
      "name": "python3"
    },
    "language_info": {
      "codemirror_mode": {
        "name": "ipython",
        "version": 3
      },
      "file_extension": ".py",
      "mimetype": "text/x-python",
      "name": "python",
      "nbconvert_exporter": "python",
      "pygments_lexer": "ipython3",
      "version": "3.7.6"
    },
    "colab": {
      "provenance": [],
      "include_colab_link": true
    }
  },
  "nbformat": 4,
  "nbformat_minor": 0
}